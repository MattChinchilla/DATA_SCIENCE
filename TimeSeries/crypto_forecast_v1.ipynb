{
 "cells": [
  {
   "cell_type": "code",
   "execution_count": 3,
   "metadata": {},
   "outputs": [],
   "source": [
    "%run prophet_funcs.py"
   ]
  },
  {
   "cell_type": "code",
   "execution_count": 130,
   "metadata": {},
   "outputs": [],
   "source": [
    "import pandas as pd\n",
    "import time\n",
    "from datetime import timedelta\n",
    "\n",
    "#get the time now in unix time\n",
    "now = int(time.time())\n",
    "\n",
    "#get the time one year from now datetime object\n",
    "day_lag = datetime.today() - timedelta(days = 120 )\n",
    "\n",
    "#convert datetime object to unix timestamp\n",
    "then = int(day_lag.timestamp())\n",
    "\n",
    "url = {\n",
    "    'SOL': F'https://query1.finance.yahoo.com/v7/finance/download/SOL1-USD?period1={then}&period2={now}&interval=1d&events=history&includeAdjustedClose=true',\n",
    "    'ETH': F'https://query1.finance.yahoo.com/v7/finance/download/ETH-USD?period1={then}&period2={now}&interval=1d&events=history&includeAdjustedClose=true',\n",
    "    'XRP': F'https://query1.finance.yahoo.com/v7/finance/download/XRP-USD?period1={then}&period2={now}&interval=1d&events=history&includeAdjustedClose=true',\n",
    "    'BTC': F'https://query1.finance.yahoo.com/v7/finance/download/BTC-USD?period1={then}&period2={now}&interval=1d&events=history&includeAdjustedClose=true'\n",
    "}\n",
    "\n",
    "\n"
   ]
  },
  {
   "cell_type": "code",
   "execution_count": 131,
   "metadata": {},
   "outputs": [],
   "source": [
    "'''Function to fetch data from yahoo via url dictionary of Ticker and Url'''\n",
    "\n",
    "def fetchData(url):\n",
    "    df = pd.DataFrame()\n",
    "    for i in url.items():\n",
    "        key = i[0] #get the Key values from dictionary in this case Crypto Ticker\n",
    "        val = i[1] #get the Value object from dictionary in this case Crypto Url\n",
    "        data = pd.read_csv(val)\n",
    "        data = data.assign(token = key) \n",
    "        df = df.append(data)\n",
    "    return(df)\n",
    "\n",
    "\n",
    "df2 = fetchData(url)"
   ]
  },
  {
   "cell_type": "markdown",
   "metadata": {},
   "source": [
    "# Try yFinance yahoo api"
   ]
  },
  {
   "cell_type": "code",
   "execution_count": 132,
   "metadata": {},
   "outputs": [],
   "source": [
    "import yfinance as yf\n",
    "\n",
    "ETH = yf.Ticker('ETH-USD')"
   ]
  }
 ],
 "metadata": {
  "interpreter": {
   "hash": "c09812699b111b979a2abee38c127f10a16723f5a92d70f3d4b17adfc28da477"
  },
  "kernelspec": {
   "display_name": "Python 3.8.12 64-bit ('TimeSeries': conda)",
   "name": "python3"
  },
  "language_info": {
   "codemirror_mode": {
    "name": "ipython",
    "version": 3
   },
   "file_extension": ".py",
   "mimetype": "text/x-python",
   "name": "python",
   "nbconvert_exporter": "python",
   "pygments_lexer": "ipython3",
   "version": "3.8.12"
  },
  "orig_nbformat": 4
 },
 "nbformat": 4,
 "nbformat_minor": 2
}
