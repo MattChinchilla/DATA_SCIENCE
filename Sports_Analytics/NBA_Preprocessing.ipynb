{
 "cells": [
  {
   "cell_type": "code",
   "execution_count": 3,
   "metadata": {},
   "outputs": [],
   "source": [
    "#Set environment options\n",
    "import pandas as pd\n",
    "# settings to display all columns\n",
    "pd.set_option(\"display.max_columns\", None)"
   ]
  },
  {
   "cell_type": "code",
   "execution_count": 2,
   "metadata": {},
   "outputs": [],
   "source": [
    "#function to combine matchup data\n",
    "def combine_team_games(df, keep_method='home'):\n",
    "    '''Combine a TEAM_ID-GAME_ID unique table into rows by game. Slow.\n",
    "\n",
    "        Parameters\n",
    "        ----------\n",
    "        df : Input DataFrame.\n",
    "        keep_method : {'home', 'away', 'winner', 'loser', ``None``}, default 'home'\n",
    "            - 'home' : Keep rows where TEAM_A is the home team.\n",
    "            - 'away' : Keep rows where TEAM_A is the away team.\n",
    "            - 'winner' : Keep rows where TEAM_A is the losing team.\n",
    "            - 'loser' : Keep rows where TEAM_A is the winning team.\n",
    "            - ``None`` : Keep all rows. Will result in an output DataFrame the same\n",
    "                length as the input DataFrame.\n",
    "                \n",
    "        Returns\n",
    "        -------\n",
    "        result : DataFrame\n",
    "    '''\n",
    "    # Join every row to all others with the same game ID.\n",
    "    joined = pd.merge(df, df, suffixes=['_A', '_B'],\n",
    "                      on=['SEASON_ID', 'GAME_ID', 'GAME_DATE'])\n",
    "    # Filter out any row that is joined to itself.\n",
    "    result = joined[joined.TEAM_ID_A != joined.TEAM_ID_B]\n",
    "    # Take action based on the keep_method flag.\n",
    "    if keep_method is None:\n",
    "        # Return all the rows.\n",
    "        #pass\n",
    "        return None\n",
    "    elif keep_method.lower() == 'home':\n",
    "        # Keep rows where TEAM_A is the home team.\n",
    "        result = result[result.MATCHUP_A.str.contains(' vs. ')]\n",
    "    elif keep_method.lower() == 'away':\n",
    "        # Keep rows where TEAM_A is the away team.\n",
    "        result = result[result.MATCHUP_A.str.contains(' @ ')]\n",
    "    elif keep_method.lower() == 'winner':\n",
    "        result = result[result.WL_A == 'W']\n",
    "    elif keep_method.lower() == 'loser':\n",
    "        result = result[result.WL_A == 'L']\n",
    "    else:\n",
    "        raise ValueError(f'Invalid keep_method: {keep_method}')\n",
    "    return result"
   ]
  },
  {
   "cell_type": "code",
   "execution_count": null,
   "metadata": {},
   "outputs": [],
   "source": []
  },
  {
   "cell_type": "code",
   "execution_count": 5,
   "metadata": {},
   "outputs": [],
   "source": [
    "from nba_api.stats.endpoints import leaguegamefinder\n",
    "from nba_api.stats.static import teams\n",
    "import time\n",
    "\n",
    "#get nba team data including id's\n",
    "nba_teams = pd.DataFrame(teams.get_teams())\n",
    "#Create list of NBA team id's\n",
    "team_ids = nba_teams['id'].tolist()\n",
    "\n",
    "#season data should be pulled for \n",
    "s = '2022-23'\n",
    "\n",
    "\n",
    "#function to call api and get all NBA games for a given season\n",
    "def get_all_games(team__ids,season):\n",
    "    team_season = []\n",
    "    for i in team_ids:\n",
    "        games = leaguegamefinder.LeagueGameFinder(team_id_nullable = i,season_nullable = season,season_type_nullable ='Regular Season').get_data_frames()[0]\n",
    "        team_season.append(games)\n",
    "        nba_season = pd.concat(team_season)\n",
    "        time.sleep(1)\n",
    "    return(nba_season)\n",
    "\n",
    "nba_season = get_all_games(team_ids,s)\n",
    "nba_season = nba_season.sort_values(by=['GAME_DATE','GAME_ID'])"
   ]
  },
  {
   "cell_type": "code",
   "execution_count": 6,
   "metadata": {},
   "outputs": [],
   "source": [
    "home_team = nba_season[nba_season.MATCHUP.str.contains(' vs. ')]\n",
    "away_team = nba_season[nba_season.MATCHUP.str.contains(' @ ')]"
   ]
  },
  {
   "cell_type": "code",
   "execution_count": 11,
   "metadata": {},
   "outputs": [],
   "source": [
    "home_team_1 = home_team[['SEASON_ID','GAME_ID','GAME_DATE','TEAM_ID','TEAM_ABBREVIATION','MATCHUP','WL']]\n",
    "home_team_1= pd.get_dummies(home_team_1, columns=[\"TEAM_ABBREVIATION\"], prefix=[\"HOME\"] )"
   ]
  },
  {
   "cell_type": "code",
   "execution_count": 24,
   "metadata": {},
   "outputs": [],
   "source": [
    "from nba_api.stats.endpoints import teamdashboardbyopponent\n",
    "\n",
    "call = teamdashboardbyopponent.TeamDashboardByOpponent(team_id=1610612742,last_n_games=5)#,date_to_nullable='2022-10-19'\n",
    "overall_team_dashboard = call.get_data_frames()[0]\n",
    "#conference_team_dashboard = call.get_data_frames()[1]\n",
    "#division_team_dashboard = call.get_data_frames()[2]\n",
    "opponent_team_dashboard = call.get_data_frames()[3]"
   ]
  },
  {
   "cell_type": "code",
   "execution_count": 9,
   "metadata": {},
   "outputs": [],
   "source": [
    "dum_df = pd.get_dummies(home_team_1, columns=[\"TEAM_ABBREVIATION\"], prefix=[\"HOME\"] )\n",
    "\n"
   ]
  },
  {
   "cell_type": "code",
   "execution_count": 10,
   "metadata": {},
   "outputs": [
    {
     "name": "stdout",
     "output_type": "stream",
     "text": [
      "<class 'pandas.core.frame.DataFrame'>\n",
      "Int64Index: 220 entries, 14 to 0\n",
      "Data columns (total 36 columns):\n",
      " #   Column     Non-Null Count  Dtype \n",
      "---  ------     --------------  ----- \n",
      " 0   SEASON_ID  220 non-null    object\n",
      " 1   GAME_ID    220 non-null    object\n",
      " 2   GAME_DATE  220 non-null    object\n",
      " 3   TEAM_ID    220 non-null    int64 \n",
      " 4   MATCHUP    220 non-null    object\n",
      " 5   WL         220 non-null    object\n",
      " 6   HOME_ATL   220 non-null    uint8 \n",
      " 7   HOME_BKN   220 non-null    uint8 \n",
      " 8   HOME_BOS   220 non-null    uint8 \n",
      " 9   HOME_CHA   220 non-null    uint8 \n",
      " 10  HOME_CHI   220 non-null    uint8 \n",
      " 11  HOME_CLE   220 non-null    uint8 \n",
      " 12  HOME_DAL   220 non-null    uint8 \n",
      " 13  HOME_DEN   220 non-null    uint8 \n",
      " 14  HOME_DET   220 non-null    uint8 \n",
      " 15  HOME_GSW   220 non-null    uint8 \n",
      " 16  HOME_HOU   220 non-null    uint8 \n",
      " 17  HOME_IND   220 non-null    uint8 \n",
      " 18  HOME_LAC   220 non-null    uint8 \n",
      " 19  HOME_LAL   220 non-null    uint8 \n",
      " 20  HOME_MEM   220 non-null    uint8 \n",
      " 21  HOME_MIA   220 non-null    uint8 \n",
      " 22  HOME_MIL   220 non-null    uint8 \n",
      " 23  HOME_MIN   220 non-null    uint8 \n",
      " 24  HOME_NOP   220 non-null    uint8 \n",
      " 25  HOME_NYK   220 non-null    uint8 \n",
      " 26  HOME_OKC   220 non-null    uint8 \n",
      " 27  HOME_ORL   220 non-null    uint8 \n",
      " 28  HOME_PHI   220 non-null    uint8 \n",
      " 29  HOME_PHX   220 non-null    uint8 \n",
      " 30  HOME_POR   220 non-null    uint8 \n",
      " 31  HOME_SAC   220 non-null    uint8 \n",
      " 32  HOME_SAS   220 non-null    uint8 \n",
      " 33  HOME_TOR   220 non-null    uint8 \n",
      " 34  HOME_UTA   220 non-null    uint8 \n",
      " 35  HOME_WAS   220 non-null    uint8 \n",
      "dtypes: int64(1), object(5), uint8(30)\n",
      "memory usage: 18.5+ KB\n"
     ]
    }
   ],
   "source": [
    "dum_df.info()"
   ]
  }
 ],
 "metadata": {
  "kernelspec": {
   "display_name": "Python 3.9.13 ('sports_analytics')",
   "language": "python",
   "name": "python3"
  },
  "language_info": {
   "codemirror_mode": {
    "name": "ipython",
    "version": 3
   },
   "file_extension": ".py",
   "mimetype": "text/x-python",
   "name": "python",
   "nbconvert_exporter": "python",
   "pygments_lexer": "ipython3",
   "version": "3.9.13"
  },
  "orig_nbformat": 4,
  "vscode": {
   "interpreter": {
    "hash": "f43c779d3c604a6cc4a04b1686405135c038b95bf3e0677c2c42d5db6e9d6fa7"
   }
  }
 },
 "nbformat": 4,
 "nbformat_minor": 2
}
