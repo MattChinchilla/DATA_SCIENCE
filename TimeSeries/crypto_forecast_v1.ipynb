{
 "cells": [
  {
   "cell_type": "code",
   "execution_count": 3,
   "metadata": {},
   "outputs": [],
   "source": [
    "%run prophet_funcs.py"
   ]
  },
  {
   "cell_type": "code",
   "execution_count": 64,
   "metadata": {},
   "outputs": [],
   "source": [
    "import pandas as pd\n",
    "import time\n",
    "from datetime import timedelta\n",
    "\n",
    "#get the time now in unix time\n",
    "now = int(time.time())\n",
    "\n",
    "#get the time one year from now datetime object\n",
    "day_lag = datetime.today() - timedelta(days = 120 )\n",
    "\n",
    "#convert datetime object to unix timestamp\n",
    "then = int(day_lag.timestamp())\n",
    "\n",
    "url = {\n",
    "    'SOL': F'https://query1.finance.yahoo.com/v7/finance/download/SOL1-USD?period1={then}&period2={now}&interval=1d&events=history&includeAdjustedClose=true',\n",
    "    'ETH': F'https://query1.finance.yahoo.com/v7/finance/download/ETH-USD?period1={then}&period2={now}&interval=1d&events=history&includeAdjustedClose=true',\n",
    "    'XRP': F'https://query1.finance.yahoo.com/v7/finance/download/XRP-USD?period1={then}&period2={now}&interval=1d&events=history&includeAdjustedClose=true',\n",
    "    'BTC': F'https://query1.finance.yahoo.com/v7/finance/download/BTC-USD?period1={then}&period2={now}&interval=1d&events=history&includeAdjustedClose=true'\n",
    "}\n",
    "\n",
    "\n"
   ]
  },
  {
   "cell_type": "code",
   "execution_count": 77,
   "metadata": {},
   "outputs": [],
   "source": [
    "\n",
    "\n",
    "def fetchData(url):\n",
    "    for i in url.items():\n",
    "        df = pd.DataFrame()\n",
    "        key = i[0]\n",
    "        val = i[1]\n",
    "        data = pd.read_csv(val)\n",
    "        data = data.assign(token = key) \n",
    "        df = df.append(data)\n",
    "        return(df)\n",
    "\n",
    "\n",
    "df = fetchData(url)"
   ]
  },
  {
   "cell_type": "code",
   "execution_count": 72,
   "metadata": {},
   "outputs": [
    {
     "name": "stdout",
     "output_type": "stream",
     "text": [
      "key SOL val https://query1.finance.yahoo.com/v7/finance/download/SOL1-USD?period1=1624246284&period2=1634614284&interval=1d&events=history&includeAdjustedClose=true\n",
      "key ETH val https://query1.finance.yahoo.com/v7/finance/download/ETH-USD?period1=1624246284&period2=1634614284&interval=1d&events=history&includeAdjustedClose=true\n",
      "key XRP val https://query1.finance.yahoo.com/v7/finance/download/XRP-USD?period1=1624246284&period2=1634614284&interval=1d&events=history&includeAdjustedClose=true\n",
      "key BTC val https://query1.finance.yahoo.com/v7/finance/download/BTC-USD?period1=1624246284&period2=1634614284&interval=1d&events=history&includeAdjustedClose=true\n"
     ]
    }
   ],
   "source": [
    "for x in url.items():\n",
    "    key = x[0]\n",
    "    val = x[1]\n",
    "    print('key',key,'val',val)"
   ]
  },
  {
   "cell_type": "code",
   "execution_count": 62,
   "metadata": {},
   "outputs": [],
   "source": [
    "df = pd.DataFrame()\n",
    "\n",
    "df = df.append(file)"
   ]
  },
  {
   "cell_type": "code",
   "execution_count": 59,
   "metadata": {},
   "outputs": [],
   "source": [
    "import pandas as pd\n",
    "import time\n",
    "from datetime import timedelta\n",
    "\n",
    "#get the time now in unix time\n",
    "now = int(time.time())\n",
    "\n",
    "#get the time one year from now datetime object\n",
    "day_lag = datetime.today() - timedelta(days = 30 )\n",
    "\n",
    "#convert datetime object to unix timestamp\n",
    "then = int(day_lag.timestamp())\n",
    "\n",
    "#Build Yahoo Finance Url request for SOL one year worth of data from Now \n",
    "#url = F'https://query1.finance.yahoo.com/v7/finance/download/SOL1-USD?period1={then}&period2={now}&interval=1d&events=history&includeAdjustedClose=true' #SOL\n",
    "url = F'https://query1.finance.yahoo.com/v7/finance/download/ETH-USD?period1={then}&period2={now}&interval=1d&events=history&includeAdjustedClose=true'\n",
    "\n",
    "file2 = pd.read_csv(url)"
   ]
  },
  {
   "cell_type": "code",
   "execution_count": 69,
   "metadata": {},
   "outputs": [],
   "source": [
    "del(df)"
   ]
  }
 ],
 "metadata": {
  "interpreter": {
   "hash": "c09812699b111b979a2abee38c127f10a16723f5a92d70f3d4b17adfc28da477"
  },
  "kernelspec": {
   "display_name": "Python 3.8.12 64-bit ('TimeSeries': conda)",
   "name": "python3"
  },
  "language_info": {
   "codemirror_mode": {
    "name": "ipython",
    "version": 3
   },
   "file_extension": ".py",
   "mimetype": "text/x-python",
   "name": "python",
   "nbconvert_exporter": "python",
   "pygments_lexer": "ipython3",
   "version": "3.8.12"
  },
  "orig_nbformat": 4
 },
 "nbformat": 4,
 "nbformat_minor": 2
}
