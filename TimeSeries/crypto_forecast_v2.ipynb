{
 "cells": [
  {
   "cell_type": "code",
   "execution_count": 1,
   "metadata": {},
   "outputs": [],
   "source": [
    "%run prophet_funcs_v2.py\n",
    "#initialization script creates functions and adds libraries to environment"
   ]
  },
  {
   "cell_type": "markdown",
   "metadata": {},
   "source": [
    "# Download Financial data from Yahoo Finance\n",
    "The following code has two inputs that must be set to retrieve data from Yahoo Finance API, 'tickerStrings' and 'period'. The function 'FetchData_dict' retrieves the ticker data for the specified period and adds them to a data dictionary called 'df_dict'. \n",
    "\n",
    "The retrieved data consists of the following:\n",
    "* **Date**\n",
    "* **High**\n",
    "* **Low**\n",
    "* **Close**\n",
    "* **Adj Close**\n",
    "* **Volume**\n",
    "\n",
    "note: yFinace is the primary library used to call the Yahoo Finance API."
   ]
  },
  {
   "cell_type": "code",
   "execution_count": 10,
   "metadata": {
    "tags": []
   },
   "outputs": [
    {
     "data": {
      "application/vnd.jupyter.widget-view+json": {
       "model_id": "79efec69f5494142b51a9923c0465827",
       "version_major": 2,
       "version_minor": 0
      },
      "text/plain": [
       "interactive(children=(SelectMultiple(description='tickerStrings', index=(0, 1, 2, 3, 4, 5, 6), options=('SOL1-…"
      ]
     },
     "metadata": {},
     "output_type": "display_data"
    }
   ],
   "source": [
    "'''Download Financial Data from Yahoo Finance'''\n",
    "coins_all = ['SOL1-USD','BTC-USD','ETH-USD','1INCH-USD','ADA-USD','BNB-USD','XRP-USD','DOT1-USD','HEX-USD','DOGE-USD','SHIB-USD',\n",
    "             'LUNA1-USD','AVAX-USD','LTC-USD','LINK-USD','UNI3-USD','BCH-USD','MATIC-USD','ALGO-USD','CRO-USD','VET-USD','XLM-USD',\n",
    "             'AXS-USD','TRX-USD','ICP1-USD','FIL-USD','ATOM1-USD','THETA-USD','DAI1-USD','FTT1-USD','HBAR-USD','EGLD-USD','FTM-USD',\n",
    "             'MANA-USD','XTZ-USD','HNT1-USD','XMR-USD','GRT2-USD','CAKE-USD','EOS-USD']\n",
    "coins = ['SOL1-USD','CRO-USD','FET-USD','ETH-USD','BSV-USD','BTC-USD','MANA-USD']\n",
    "stock = ['MA','V','SQ','DIS','PYPL','COIN','GM','F','AMZN']\n",
    "my_stock = ['TSLA','NKE','AAPL','DIS','PYPL','IWV']\n",
    "defense = ['ITA','PPA','XAR','DFEN']\n",
    "\n",
    "ticker_list = coins\n",
    "\n",
    "@ipyw.interact_manual (\n",
    "tickerStrings= ipyw.widgets.SelectMultiple(\n",
    "    options= ticker_list,\n",
    "    value= ticker_list),\n",
    "period= ['2y','3mo','ytd','6mo','1y','1mo','5y','10y','max','1d','5d']\n",
    ")\n",
    "\n",
    "\n",
    "\n",
    "def FetchData_dict(tickerStrings,period):\n",
    "    global df_dict\n",
    "    df_list = list()\n",
    "    for ticker in tickerStrings:\n",
    "        data = yf.download(ticker, group_by=\"Ticker\", period = period)\n",
    "        data['ticker'] = ticker  # add this column because the dataframe doesn't contain a column with the ticker\n",
    "        df_list.append(data)\n",
    "        df = pd.concat(df_list) # combine all dataframes into a single dataframe\n",
    "        df_dict = {value: df[df['ticker'] == value].drop('ticker', axis=1) for value in df['ticker'].unique()}"
   ]
  },
  {
   "cell_type": "markdown",
   "metadata": {},
   "source": [
    "# Plotting individual tickers\n",
    "The following code uses ipython widgets to make it easy to view plots for each ticker that is downloaded. You can select the downloaded data you wish to view and choose the plot type you wish to see. There is also an option to include or remove the moving average for the plot and at what interval you wish to view the moving average. For plots such as Renko and PNF displaying the moving average may not be helpful."
   ]
  },
  {
   "cell_type": "code",
   "execution_count": 12,
   "metadata": {},
   "outputs": [
    {
     "data": {
      "application/vnd.jupyter.widget-view+json": {
       "model_id": "6089a40502af4d8a893cf3eb17d5bbbc",
       "version_major": 2,
       "version_minor": 0
      },
      "text/plain": [
       "interactive(children=(Dropdown(description='Tickers', options=('CRO-USD',), value='CRO-USD'), Dropdown(descrip…"
      ]
     },
     "metadata": {},
     "output_type": "display_data"
    }
   ],
   "source": [
    "tickers = list(df_dict)\n",
    "\n",
    "@ipyw.interact(\n",
    "Mavg = ipyw.widgets.Dropdown(options=[('5Day', 5), ('10Day', 10), ('30Day', 30)],description='Moving_Average:'),\n",
    "MA = True,\n",
    "Tickers = tickers,\n",
    "Plot_Type = ['ohlc','line','hollow_and_filled','renko','pnf']\n",
    ")\n",
    "\n",
    "def PlotIt(Tickers,Plot_Type,MA,Mavg):\n",
    "    if MA == True:\n",
    "      Mavg\n",
    "      mpf.plot(df_dict[Tickers],type = Plot_Type,volume = True,mav = Mavg,figratio = (100,40),style = 'yahoo',title = (Tickers + ' Plot With Moving Average'))\n",
    "    else:\n",
    "      mpf.plot(df_dict[Tickers],type = Plot_Type,volume = True,figratio = (100,40),style = 'yahoo',title = Tickers);"
   ]
  },
  {
   "cell_type": "markdown",
   "metadata": {},
   "source": [
    "# Compare to Each other"
   ]
  },
  {
   "cell_type": "code",
   "execution_count": 5,
   "metadata": {},
   "outputs": [],
   "source": [
    "# New Dataframe with Close for each ticker\n",
    "close = pd.DataFrame()\n",
    "\n",
    "for a in df_dict:\n",
    "    cl = pd.DataFrame(df_dict[a],columns=['Close'])\n",
    "    cl = cl.rename(columns={'Close': a }).reset_index(level=0).set_index('Date')\n",
    "    close = pd.concat([close,cl],axis = 1)\n",
    "close = close.reset_index(level = 0)\n",
    "\n",
    "\n",
    "#Scale close data\n",
    "from sklearn.preprocessing import StandardScaler\n",
    "\n",
    "scaler = StandardScaler()\n",
    "\n",
    "v = close.iloc[:, 1:] #Ignore Date column and grab all others\n",
    "d = pd.DataFrame(close['Date']) #Get Date Column\n",
    "c_scaled = pd.DataFrame(scaler.fit_transform(v)) # Scale close data\n",
    "t = list(close.iloc[:0, 1:]) #get column names(tickers) from original data\n",
    "c_scaled = c_scaled.set_axis(t, axis = 1) #reset column names after scaling\n",
    "close_scaled = pd.concat([d,c_scaled], axis = 1) #combine data into new dataframe"
   ]
  },
  {
   "cell_type": "code",
   "execution_count": 6,
   "metadata": {},
   "outputs": [
    {
     "data": {
      "application/vnd.plotly.v1+json": {
       "config": {
        "plotlyServerURL": "https://plot.ly"
       },
       "data": [
        {
         "hovertemplate": "variable=SOL1-USD<br>Date=%{x|%B %d, %Y}<br>value=%{y}<extra></extra>",
         "legendgroup": "SOL1-USD",
         "line": {
          "color": "#636efa",
          "dash": "solid"
         },
         "marker": {
          "symbol": "circle"
         },
         "mode": "lines",
         "name": "SOL1-USD",
         "orientation": "v",
         "showlegend": true,
         "type": "scatter",
         "x": [
          "2022-02-15T00:00:00",
          "2022-02-16T00:00:00",
          "2022-02-17T00:00:00",
          "2022-02-18T00:00:00",
          "2022-02-19T00:00:00",
          "2022-02-20T00:00:00",
          "2022-02-21T00:00:00",
          "2022-02-22T00:00:00",
          "2022-02-23T00:00:00",
          "2022-02-24T00:00:00",
          "2022-02-25T00:00:00",
          "2022-02-26T00:00:00",
          "2022-02-27T00:00:00",
          "2022-02-28T00:00:00",
          "2022-03-01T00:00:00",
          "2022-03-02T00:00:00",
          "2022-03-03T00:00:00",
          "2022-03-04T00:00:00",
          "2022-03-05T00:00:00",
          "2022-03-06T00:00:00",
          "2022-03-07T00:00:00",
          "2022-03-08T00:00:00",
          "2022-03-09T00:00:00",
          "2022-03-10T00:00:00",
          "2022-03-11T00:00:00",
          "2022-03-12T00:00:00",
          "2022-03-13T00:00:00",
          "2022-03-14T00:00:00",
          "2022-03-15T00:00:00"
         ],
         "xaxis": "x",
         "y": [
          2.179836370575515,
          2.0859372720595966,
          1.4696881007438798,
          1.3652117818804017,
          1.2103500683414292,
          -0.7019483274621684,
          -1.3622085421180954,
          -1.2482722655861542,
          -1.6163472753132768,
          -1.486779828446515,
          -1.2456279604992642,
          -1.2785924631188772,
          -0.7501902589414022,
          0.5103079472888943,
          0.6768063544056041,
          0.6216296890561158,
          0.44437894204966827,
          -0.10893751939349061,
          -0.15148106097024785,
          -0.5232283274968462,
          -0.3285549372390955,
          -0.17962627378911844,
          0.08899659673961705,
          -0.18632634747285406,
          -0.05490788704526919,
          0.2273182695198642,
          -0.03501780944467609,
          0.25452484159266,
          0.12306085008410876
         ],
         "yaxis": "y"
        },
        {
         "hovertemplate": "variable=CRO-USD<br>Date=%{x|%B %d, %Y}<br>value=%{y}<extra></extra>",
         "legendgroup": "CRO-USD",
         "line": {
          "color": "#EF553B",
          "dash": "solid"
         },
         "marker": {
          "symbol": "circle"
         },
         "mode": "lines",
         "name": "CRO-USD",
         "orientation": "v",
         "showlegend": true,
         "type": "scatter",
         "x": [
          "2022-02-15T00:00:00",
          "2022-02-16T00:00:00",
          "2022-02-17T00:00:00",
          "2022-02-18T00:00:00",
          "2022-02-19T00:00:00",
          "2022-02-20T00:00:00",
          "2022-02-21T00:00:00",
          "2022-02-22T00:00:00",
          "2022-02-23T00:00:00",
          "2022-02-24T00:00:00",
          "2022-02-25T00:00:00",
          "2022-02-26T00:00:00",
          "2022-02-27T00:00:00",
          "2022-02-28T00:00:00",
          "2022-03-01T00:00:00",
          "2022-03-02T00:00:00",
          "2022-03-03T00:00:00",
          "2022-03-04T00:00:00",
          "2022-03-05T00:00:00",
          "2022-03-06T00:00:00",
          "2022-03-07T00:00:00",
          "2022-03-08T00:00:00",
          "2022-03-09T00:00:00",
          "2022-03-10T00:00:00",
          "2022-03-11T00:00:00",
          "2022-03-12T00:00:00",
          "2022-03-13T00:00:00",
          "2022-03-14T00:00:00",
          "2022-03-15T00:00:00"
         ],
         "xaxis": "x",
         "y": [
          2.863238612840303,
          2.331198461813467,
          0.6409904490356421,
          0.828491956075499,
          0.8809160889340013,
          -0.20789181888947383,
          -0.8358081212242993,
          -0.22732302184588746,
          -0.3835850018892274,
          -0.5485174788692937,
          0.2404846722823426,
          0.10260828795814872,
          -0.5439972383512601,
          0.9460594305989191,
          0.9555050844394274,
          1.1982307398722003,
          0.659848578794707,
          -0.49298869682936614,
          -0.04403913246020113,
          -0.6477335409870938,
          -1.0656798453797014,
          -0.7990027464724812,
          -0.06424649771197105,
          -0.7196904213510137,
          -0.9433900466318141,
          -0.755619094650046,
          -1.1387848829214668,
          -1.060586531664319,
          -1.168688244515745
         ],
         "yaxis": "y"
        },
        {
         "hovertemplate": "variable=FET-USD<br>Date=%{x|%B %d, %Y}<br>value=%{y}<extra></extra>",
         "legendgroup": "FET-USD",
         "line": {
          "color": "#00cc96",
          "dash": "solid"
         },
         "marker": {
          "symbol": "circle"
         },
         "mode": "lines",
         "name": "FET-USD",
         "orientation": "v",
         "showlegend": true,
         "type": "scatter",
         "x": [
          "2022-02-15T00:00:00",
          "2022-02-16T00:00:00",
          "2022-02-17T00:00:00",
          "2022-02-18T00:00:00",
          "2022-02-19T00:00:00",
          "2022-02-20T00:00:00",
          "2022-02-21T00:00:00",
          "2022-02-22T00:00:00",
          "2022-02-23T00:00:00",
          "2022-02-24T00:00:00",
          "2022-02-25T00:00:00",
          "2022-02-26T00:00:00",
          "2022-02-27T00:00:00",
          "2022-02-28T00:00:00",
          "2022-03-01T00:00:00",
          "2022-03-02T00:00:00",
          "2022-03-03T00:00:00",
          "2022-03-04T00:00:00",
          "2022-03-05T00:00:00",
          "2022-03-06T00:00:00",
          "2022-03-07T00:00:00",
          "2022-03-08T00:00:00",
          "2022-03-09T00:00:00",
          "2022-03-10T00:00:00",
          "2022-03-11T00:00:00",
          "2022-03-12T00:00:00",
          "2022-03-13T00:00:00",
          "2022-03-14T00:00:00",
          "2022-03-15T00:00:00"
         ],
         "xaxis": "x",
         "y": [
          1.368488933510919,
          1.7174174048924093,
          0.5260784595188578,
          0.31951001893979775,
          0.6380025746636468,
          -0.34401752052517437,
          -1.337787326536517,
          -0.8400187812958325,
          -1.4550132950913857,
          -1.869493195408019,
          -1.2852613303261,
          -1.3788922956255159,
          -1.8128113497898852,
          -1.1406434278083764,
          1.2904367953857487,
          0.6929181111343095,
          0.1167697193899066,
          -0.2677980134812291,
          0.8427715451283587,
          -0.05825093781858149,
          0.2252246122058413,
          0.0749781232220455,
          1.2021076834964124,
          1.2565648183661298,
          0.7142884036413458,
          0.6616970608197302,
          -0.0473204979424299,
          0.22234546002288427,
          -0.03229175268931847
         ],
         "yaxis": "y"
        },
        {
         "hovertemplate": "variable=ETH-USD<br>Date=%{x|%B %d, %Y}<br>value=%{y}<extra></extra>",
         "legendgroup": "ETH-USD",
         "line": {
          "color": "#ab63fa",
          "dash": "solid"
         },
         "marker": {
          "symbol": "circle"
         },
         "mode": "lines",
         "name": "ETH-USD",
         "orientation": "v",
         "showlegend": true,
         "type": "scatter",
         "x": [
          "2022-02-15T00:00:00",
          "2022-02-16T00:00:00",
          "2022-02-17T00:00:00",
          "2022-02-18T00:00:00",
          "2022-02-19T00:00:00",
          "2022-02-20T00:00:00",
          "2022-02-21T00:00:00",
          "2022-02-22T00:00:00",
          "2022-02-23T00:00:00",
          "2022-02-24T00:00:00",
          "2022-02-25T00:00:00",
          "2022-02-26T00:00:00",
          "2022-02-27T00:00:00",
          "2022-02-28T00:00:00",
          "2022-03-01T00:00:00",
          "2022-03-02T00:00:00",
          "2022-03-03T00:00:00",
          "2022-03-04T00:00:00",
          "2022-03-05T00:00:00",
          "2022-03-06T00:00:00",
          "2022-03-07T00:00:00",
          "2022-03-08T00:00:00",
          "2022-03-09T00:00:00",
          "2022-03-10T00:00:00",
          "2022-03-11T00:00:00",
          "2022-03-12T00:00:00",
          "2022-03-13T00:00:00",
          "2022-03-14T00:00:00",
          "2022-03-15T00:00:00"
         ],
         "xaxis": "x",
         "y": [
          2.6291530564421612,
          2.3365078304779763,
          0.9513666427895684,
          0.4129686125556728,
          0.28912100467290064,
          -0.47023971731956615,
          -0.7785450353999855,
          -0.410353043173104,
          -0.6855261747775914,
          -0.6421891211214273,
          0.2938129923002928,
          0.3870157986049779,
          -0.5087365286193274,
          1.1634505235551693,
          1.463049994493131,
          1.337288802422944,
          0.6870270882346358,
          -0.5348581882336177,
          -0.2667957927057515,
          -0.884132602492948,
          -1.2061226556984324,
          -0.7620626786293311,
          0.09841188673530496,
          -0.5860664698170686,
          -0.8586863255330395,
          -0.7732710106883295,
          -1.0870713628449487,
          -0.6836345542537334,
          -0.9108829719765611
         ],
         "yaxis": "y"
        },
        {
         "hovertemplate": "variable=BSV-USD<br>Date=%{x|%B %d, %Y}<br>value=%{y}<extra></extra>",
         "legendgroup": "BSV-USD",
         "line": {
          "color": "#FFA15A",
          "dash": "solid"
         },
         "marker": {
          "symbol": "circle"
         },
         "mode": "lines",
         "name": "BSV-USD",
         "orientation": "v",
         "showlegend": true,
         "type": "scatter",
         "x": [
          "2022-02-15T00:00:00",
          "2022-02-16T00:00:00",
          "2022-02-17T00:00:00",
          "2022-02-18T00:00:00",
          "2022-02-19T00:00:00",
          "2022-02-20T00:00:00",
          "2022-02-21T00:00:00",
          "2022-02-22T00:00:00",
          "2022-02-23T00:00:00",
          "2022-02-24T00:00:00",
          "2022-02-25T00:00:00",
          "2022-02-26T00:00:00",
          "2022-02-27T00:00:00",
          "2022-02-28T00:00:00",
          "2022-03-01T00:00:00",
          "2022-03-02T00:00:00",
          "2022-03-03T00:00:00",
          "2022-03-04T00:00:00",
          "2022-03-05T00:00:00",
          "2022-03-06T00:00:00",
          "2022-03-07T00:00:00",
          "2022-03-08T00:00:00",
          "2022-03-09T00:00:00",
          "2022-03-10T00:00:00",
          "2022-03-11T00:00:00",
          "2022-03-12T00:00:00",
          "2022-03-13T00:00:00",
          "2022-03-14T00:00:00",
          "2022-03-15T00:00:00"
         ],
         "xaxis": "x",
         "y": [
          2.7301525970283462,
          2.21978479043279,
          0.890332837233121,
          0.8668680120452285,
          0.8815738932310639,
          0.3355944779302434,
          -0.3205575927178222,
          0.09738120724460746,
          -0.08216428501028424,
          -0.16551713955514566,
          0.3542425983496312,
          0.3678982635743717,
          -0.2047066268543985,
          1.02875415863594,
          0.8822240269212656,
          0.5935332334361727,
          0.09389763375732929,
          -0.6035715045519896,
          -0.31681396575446336,
          -0.9430513134617349,
          -1.1834893273465883,
          -0.7995989575024325,
          0.07353630389936622,
          -0.7951723329480487,
          -0.9102888620713324,
          -0.8902233073207798,
          -1.388199994440669,
          -1.366261197343184,
          -1.4461576268405778
         ],
         "yaxis": "y"
        },
        {
         "hovertemplate": "variable=BTC-USD<br>Date=%{x|%B %d, %Y}<br>value=%{y}<extra></extra>",
         "legendgroup": "BTC-USD",
         "line": {
          "color": "#19d3f3",
          "dash": "solid"
         },
         "marker": {
          "symbol": "circle"
         },
         "mode": "lines",
         "name": "BTC-USD",
         "orientation": "v",
         "showlegend": true,
         "type": "scatter",
         "x": [
          "2022-02-15T00:00:00",
          "2022-02-16T00:00:00",
          "2022-02-17T00:00:00",
          "2022-02-18T00:00:00",
          "2022-02-19T00:00:00",
          "2022-02-20T00:00:00",
          "2022-02-21T00:00:00",
          "2022-02-22T00:00:00",
          "2022-02-23T00:00:00",
          "2022-02-24T00:00:00",
          "2022-02-25T00:00:00",
          "2022-02-26T00:00:00",
          "2022-02-27T00:00:00",
          "2022-02-28T00:00:00",
          "2022-03-01T00:00:00",
          "2022-03-02T00:00:00",
          "2022-03-03T00:00:00",
          "2022-03-04T00:00:00",
          "2022-03-05T00:00:00",
          "2022-03-06T00:00:00",
          "2022-03-07T00:00:00",
          "2022-03-08T00:00:00",
          "2022-03-09T00:00:00",
          "2022-03-10T00:00:00",
          "2022-03-11T00:00:00",
          "2022-03-12T00:00:00",
          "2022-03-13T00:00:00",
          "2022-03-14T00:00:00",
          "2022-03-15T00:00:00"
         ],
         "xaxis": "x",
         "y": [
          2.1164290482704087,
          1.8372592677346116,
          0.278859432759012,
          0.048077113228983274,
          0.08957849536371205,
          -0.6799963800460159,
          -1.297238318323566,
          -0.7461546539399949,
          -1.1965163023038425,
          -0.7249523584230452,
          -0.32367869135290517,
          -0.3733231773423618,
          -1.0084372728137383,
          1.4874116128684343,
          2.0160359567513675,
          1.820080518947629,
          1.149935075168457,
          -0.3585500223360444,
          -0.23885172958236667,
          -0.6851827193351515,
          -0.8481052474190234,
          -0.540767083832909,
          0.9365270811555464,
          -0.22206769019620268,
          -0.5145029069460006,
          -0.46487264471873574,
          -0.9447699352735746,
          -0.11770261308513916,
          -0.4945238549775341
         ],
         "yaxis": "y"
        },
        {
         "hovertemplate": "variable=MANA-USD<br>Date=%{x|%B %d, %Y}<br>value=%{y}<extra></extra>",
         "legendgroup": "MANA-USD",
         "line": {
          "color": "#FF6692",
          "dash": "solid"
         },
         "marker": {
          "symbol": "circle"
         },
         "mode": "lines",
         "name": "MANA-USD",
         "orientation": "v",
         "showlegend": true,
         "type": "scatter",
         "x": [
          "2022-02-15T00:00:00",
          "2022-02-16T00:00:00",
          "2022-02-17T00:00:00",
          "2022-02-18T00:00:00",
          "2022-02-19T00:00:00",
          "2022-02-20T00:00:00",
          "2022-02-21T00:00:00",
          "2022-02-22T00:00:00",
          "2022-02-23T00:00:00",
          "2022-02-24T00:00:00",
          "2022-02-25T00:00:00",
          "2022-02-26T00:00:00",
          "2022-02-27T00:00:00",
          "2022-02-28T00:00:00",
          "2022-03-01T00:00:00",
          "2022-03-02T00:00:00",
          "2022-03-03T00:00:00",
          "2022-03-04T00:00:00",
          "2022-03-05T00:00:00",
          "2022-03-06T00:00:00",
          "2022-03-07T00:00:00",
          "2022-03-08T00:00:00",
          "2022-03-09T00:00:00",
          "2022-03-10T00:00:00",
          "2022-03-11T00:00:00",
          "2022-03-12T00:00:00",
          "2022-03-13T00:00:00",
          "2022-03-14T00:00:00",
          "2022-03-15T00:00:00"
         ],
         "xaxis": "x",
         "y": [
          2.494399927445435,
          2.2904945362326217,
          1.599618020382476,
          1.2382670824950643,
          0.956303153461212,
          0.24944067444872955,
          -0.5186891161527105,
          0.03124591136655444,
          -0.1915273474550255,
          -0.11969532524311215,
          0.4136129371789506,
          0.20298082991051417,
          -0.23503115221658066,
          0.7951295370192778,
          0.768241419661902,
          0.4618631073357198,
          0.0601246049471296,
          -0.5377896153149587,
          -0.226678571677283,
          -0.7256476899886931,
          -0.9207318290343153,
          -0.8248816640882003,
          -0.44701473803381586,
          -0.8996160418721243,
          -1.1301274953353448,
          -1.095355469066565,
          -1.3072487290791517,
          -1.1264070947401017,
          -1.2552798625876045
         ],
         "yaxis": "y"
        }
       ],
       "layout": {
        "legend": {
         "title": {
          "text": "variable"
         },
         "tracegroupgap": 0
        },
        "template": {
         "data": {
          "bar": [
           {
            "error_x": {
             "color": "#2a3f5f"
            },
            "error_y": {
             "color": "#2a3f5f"
            },
            "marker": {
             "line": {
              "color": "#E5ECF6",
              "width": 0.5
             },
             "pattern": {
              "fillmode": "overlay",
              "size": 10,
              "solidity": 0.2
             }
            },
            "type": "bar"
           }
          ],
          "barpolar": [
           {
            "marker": {
             "line": {
              "color": "#E5ECF6",
              "width": 0.5
             },
             "pattern": {
              "fillmode": "overlay",
              "size": 10,
              "solidity": 0.2
             }
            },
            "type": "barpolar"
           }
          ],
          "carpet": [
           {
            "aaxis": {
             "endlinecolor": "#2a3f5f",
             "gridcolor": "white",
             "linecolor": "white",
             "minorgridcolor": "white",
             "startlinecolor": "#2a3f5f"
            },
            "baxis": {
             "endlinecolor": "#2a3f5f",
             "gridcolor": "white",
             "linecolor": "white",
             "minorgridcolor": "white",
             "startlinecolor": "#2a3f5f"
            },
            "type": "carpet"
           }
          ],
          "choropleth": [
           {
            "colorbar": {
             "outlinewidth": 0,
             "ticks": ""
            },
            "type": "choropleth"
           }
          ],
          "contour": [
           {
            "colorbar": {
             "outlinewidth": 0,
             "ticks": ""
            },
            "colorscale": [
             [
              0,
              "#0d0887"
             ],
             [
              0.1111111111111111,
              "#46039f"
             ],
             [
              0.2222222222222222,
              "#7201a8"
             ],
             [
              0.3333333333333333,
              "#9c179e"
             ],
             [
              0.4444444444444444,
              "#bd3786"
             ],
             [
              0.5555555555555556,
              "#d8576b"
             ],
             [
              0.6666666666666666,
              "#ed7953"
             ],
             [
              0.7777777777777778,
              "#fb9f3a"
             ],
             [
              0.8888888888888888,
              "#fdca26"
             ],
             [
              1,
              "#f0f921"
             ]
            ],
            "type": "contour"
           }
          ],
          "contourcarpet": [
           {
            "colorbar": {
             "outlinewidth": 0,
             "ticks": ""
            },
            "type": "contourcarpet"
           }
          ],
          "heatmap": [
           {
            "colorbar": {
             "outlinewidth": 0,
             "ticks": ""
            },
            "colorscale": [
             [
              0,
              "#0d0887"
             ],
             [
              0.1111111111111111,
              "#46039f"
             ],
             [
              0.2222222222222222,
              "#7201a8"
             ],
             [
              0.3333333333333333,
              "#9c179e"
             ],
             [
              0.4444444444444444,
              "#bd3786"
             ],
             [
              0.5555555555555556,
              "#d8576b"
             ],
             [
              0.6666666666666666,
              "#ed7953"
             ],
             [
              0.7777777777777778,
              "#fb9f3a"
             ],
             [
              0.8888888888888888,
              "#fdca26"
             ],
             [
              1,
              "#f0f921"
             ]
            ],
            "type": "heatmap"
           }
          ],
          "heatmapgl": [
           {
            "colorbar": {
             "outlinewidth": 0,
             "ticks": ""
            },
            "colorscale": [
             [
              0,
              "#0d0887"
             ],
             [
              0.1111111111111111,
              "#46039f"
             ],
             [
              0.2222222222222222,
              "#7201a8"
             ],
             [
              0.3333333333333333,
              "#9c179e"
             ],
             [
              0.4444444444444444,
              "#bd3786"
             ],
             [
              0.5555555555555556,
              "#d8576b"
             ],
             [
              0.6666666666666666,
              "#ed7953"
             ],
             [
              0.7777777777777778,
              "#fb9f3a"
             ],
             [
              0.8888888888888888,
              "#fdca26"
             ],
             [
              1,
              "#f0f921"
             ]
            ],
            "type": "heatmapgl"
           }
          ],
          "histogram": [
           {
            "marker": {
             "pattern": {
              "fillmode": "overlay",
              "size": 10,
              "solidity": 0.2
             }
            },
            "type": "histogram"
           }
          ],
          "histogram2d": [
           {
            "colorbar": {
             "outlinewidth": 0,
             "ticks": ""
            },
            "colorscale": [
             [
              0,
              "#0d0887"
             ],
             [
              0.1111111111111111,
              "#46039f"
             ],
             [
              0.2222222222222222,
              "#7201a8"
             ],
             [
              0.3333333333333333,
              "#9c179e"
             ],
             [
              0.4444444444444444,
              "#bd3786"
             ],
             [
              0.5555555555555556,
              "#d8576b"
             ],
             [
              0.6666666666666666,
              "#ed7953"
             ],
             [
              0.7777777777777778,
              "#fb9f3a"
             ],
             [
              0.8888888888888888,
              "#fdca26"
             ],
             [
              1,
              "#f0f921"
             ]
            ],
            "type": "histogram2d"
           }
          ],
          "histogram2dcontour": [
           {
            "colorbar": {
             "outlinewidth": 0,
             "ticks": ""
            },
            "colorscale": [
             [
              0,
              "#0d0887"
             ],
             [
              0.1111111111111111,
              "#46039f"
             ],
             [
              0.2222222222222222,
              "#7201a8"
             ],
             [
              0.3333333333333333,
              "#9c179e"
             ],
             [
              0.4444444444444444,
              "#bd3786"
             ],
             [
              0.5555555555555556,
              "#d8576b"
             ],
             [
              0.6666666666666666,
              "#ed7953"
             ],
             [
              0.7777777777777778,
              "#fb9f3a"
             ],
             [
              0.8888888888888888,
              "#fdca26"
             ],
             [
              1,
              "#f0f921"
             ]
            ],
            "type": "histogram2dcontour"
           }
          ],
          "mesh3d": [
           {
            "colorbar": {
             "outlinewidth": 0,
             "ticks": ""
            },
            "type": "mesh3d"
           }
          ],
          "parcoords": [
           {
            "line": {
             "colorbar": {
              "outlinewidth": 0,
              "ticks": ""
             }
            },
            "type": "parcoords"
           }
          ],
          "pie": [
           {
            "automargin": true,
            "type": "pie"
           }
          ],
          "scatter": [
           {
            "marker": {
             "colorbar": {
              "outlinewidth": 0,
              "ticks": ""
             }
            },
            "type": "scatter"
           }
          ],
          "scatter3d": [
           {
            "line": {
             "colorbar": {
              "outlinewidth": 0,
              "ticks": ""
             }
            },
            "marker": {
             "colorbar": {
              "outlinewidth": 0,
              "ticks": ""
             }
            },
            "type": "scatter3d"
           }
          ],
          "scattercarpet": [
           {
            "marker": {
             "colorbar": {
              "outlinewidth": 0,
              "ticks": ""
             }
            },
            "type": "scattercarpet"
           }
          ],
          "scattergeo": [
           {
            "marker": {
             "colorbar": {
              "outlinewidth": 0,
              "ticks": ""
             }
            },
            "type": "scattergeo"
           }
          ],
          "scattergl": [
           {
            "marker": {
             "colorbar": {
              "outlinewidth": 0,
              "ticks": ""
             }
            },
            "type": "scattergl"
           }
          ],
          "scattermapbox": [
           {
            "marker": {
             "colorbar": {
              "outlinewidth": 0,
              "ticks": ""
             }
            },
            "type": "scattermapbox"
           }
          ],
          "scatterpolar": [
           {
            "marker": {
             "colorbar": {
              "outlinewidth": 0,
              "ticks": ""
             }
            },
            "type": "scatterpolar"
           }
          ],
          "scatterpolargl": [
           {
            "marker": {
             "colorbar": {
              "outlinewidth": 0,
              "ticks": ""
             }
            },
            "type": "scatterpolargl"
           }
          ],
          "scatterternary": [
           {
            "marker": {
             "colorbar": {
              "outlinewidth": 0,
              "ticks": ""
             }
            },
            "type": "scatterternary"
           }
          ],
          "surface": [
           {
            "colorbar": {
             "outlinewidth": 0,
             "ticks": ""
            },
            "colorscale": [
             [
              0,
              "#0d0887"
             ],
             [
              0.1111111111111111,
              "#46039f"
             ],
             [
              0.2222222222222222,
              "#7201a8"
             ],
             [
              0.3333333333333333,
              "#9c179e"
             ],
             [
              0.4444444444444444,
              "#bd3786"
             ],
             [
              0.5555555555555556,
              "#d8576b"
             ],
             [
              0.6666666666666666,
              "#ed7953"
             ],
             [
              0.7777777777777778,
              "#fb9f3a"
             ],
             [
              0.8888888888888888,
              "#fdca26"
             ],
             [
              1,
              "#f0f921"
             ]
            ],
            "type": "surface"
           }
          ],
          "table": [
           {
            "cells": {
             "fill": {
              "color": "#EBF0F8"
             },
             "line": {
              "color": "white"
             }
            },
            "header": {
             "fill": {
              "color": "#C8D4E3"
             },
             "line": {
              "color": "white"
             }
            },
            "type": "table"
           }
          ]
         },
         "layout": {
          "annotationdefaults": {
           "arrowcolor": "#2a3f5f",
           "arrowhead": 0,
           "arrowwidth": 1
          },
          "autotypenumbers": "strict",
          "coloraxis": {
           "colorbar": {
            "outlinewidth": 0,
            "ticks": ""
           }
          },
          "colorscale": {
           "diverging": [
            [
             0,
             "#8e0152"
            ],
            [
             0.1,
             "#c51b7d"
            ],
            [
             0.2,
             "#de77ae"
            ],
            [
             0.3,
             "#f1b6da"
            ],
            [
             0.4,
             "#fde0ef"
            ],
            [
             0.5,
             "#f7f7f7"
            ],
            [
             0.6,
             "#e6f5d0"
            ],
            [
             0.7,
             "#b8e186"
            ],
            [
             0.8,
             "#7fbc41"
            ],
            [
             0.9,
             "#4d9221"
            ],
            [
             1,
             "#276419"
            ]
           ],
           "sequential": [
            [
             0,
             "#0d0887"
            ],
            [
             0.1111111111111111,
             "#46039f"
            ],
            [
             0.2222222222222222,
             "#7201a8"
            ],
            [
             0.3333333333333333,
             "#9c179e"
            ],
            [
             0.4444444444444444,
             "#bd3786"
            ],
            [
             0.5555555555555556,
             "#d8576b"
            ],
            [
             0.6666666666666666,
             "#ed7953"
            ],
            [
             0.7777777777777778,
             "#fb9f3a"
            ],
            [
             0.8888888888888888,
             "#fdca26"
            ],
            [
             1,
             "#f0f921"
            ]
           ],
           "sequentialminus": [
            [
             0,
             "#0d0887"
            ],
            [
             0.1111111111111111,
             "#46039f"
            ],
            [
             0.2222222222222222,
             "#7201a8"
            ],
            [
             0.3333333333333333,
             "#9c179e"
            ],
            [
             0.4444444444444444,
             "#bd3786"
            ],
            [
             0.5555555555555556,
             "#d8576b"
            ],
            [
             0.6666666666666666,
             "#ed7953"
            ],
            [
             0.7777777777777778,
             "#fb9f3a"
            ],
            [
             0.8888888888888888,
             "#fdca26"
            ],
            [
             1,
             "#f0f921"
            ]
           ]
          },
          "colorway": [
           "#636efa",
           "#EF553B",
           "#00cc96",
           "#ab63fa",
           "#FFA15A",
           "#19d3f3",
           "#FF6692",
           "#B6E880",
           "#FF97FF",
           "#FECB52"
          ],
          "font": {
           "color": "#2a3f5f"
          },
          "geo": {
           "bgcolor": "white",
           "lakecolor": "white",
           "landcolor": "#E5ECF6",
           "showlakes": true,
           "showland": true,
           "subunitcolor": "white"
          },
          "hoverlabel": {
           "align": "left"
          },
          "hovermode": "closest",
          "mapbox": {
           "style": "light"
          },
          "paper_bgcolor": "white",
          "plot_bgcolor": "#E5ECF6",
          "polar": {
           "angularaxis": {
            "gridcolor": "white",
            "linecolor": "white",
            "ticks": ""
           },
           "bgcolor": "#E5ECF6",
           "radialaxis": {
            "gridcolor": "white",
            "linecolor": "white",
            "ticks": ""
           }
          },
          "scene": {
           "xaxis": {
            "backgroundcolor": "#E5ECF6",
            "gridcolor": "white",
            "gridwidth": 2,
            "linecolor": "white",
            "showbackground": true,
            "ticks": "",
            "zerolinecolor": "white"
           },
           "yaxis": {
            "backgroundcolor": "#E5ECF6",
            "gridcolor": "white",
            "gridwidth": 2,
            "linecolor": "white",
            "showbackground": true,
            "ticks": "",
            "zerolinecolor": "white"
           },
           "zaxis": {
            "backgroundcolor": "#E5ECF6",
            "gridcolor": "white",
            "gridwidth": 2,
            "linecolor": "white",
            "showbackground": true,
            "ticks": "",
            "zerolinecolor": "white"
           }
          },
          "shapedefaults": {
           "line": {
            "color": "#2a3f5f"
           }
          },
          "ternary": {
           "aaxis": {
            "gridcolor": "white",
            "linecolor": "white",
            "ticks": ""
           },
           "baxis": {
            "gridcolor": "white",
            "linecolor": "white",
            "ticks": ""
           },
           "bgcolor": "#E5ECF6",
           "caxis": {
            "gridcolor": "white",
            "linecolor": "white",
            "ticks": ""
           }
          },
          "title": {
           "x": 0.05
          },
          "xaxis": {
           "automargin": true,
           "gridcolor": "white",
           "linecolor": "white",
           "ticks": "",
           "title": {
            "standoff": 15
           },
           "zerolinecolor": "white",
           "zerolinewidth": 2
          },
          "yaxis": {
           "automargin": true,
           "gridcolor": "white",
           "linecolor": "white",
           "ticks": "",
           "title": {
            "standoff": 15
           },
           "zerolinecolor": "white",
           "zerolinewidth": 2
          }
         }
        },
        "title": {
         "text": "Scaled Close"
        },
        "xaxis": {
         "anchor": "y",
         "domain": [
          0,
          1
         ],
         "dtick": "M1",
         "tickformat": "%b\n%Y",
         "title": {
          "text": "Date"
         }
        },
        "yaxis": {
         "anchor": "x",
         "domain": [
          0,
          1
         ],
         "title": {
          "text": "value"
         }
        }
       }
      }
     },
     "metadata": {},
     "output_type": "display_data"
    }
   ],
   "source": [
    "import plotly.express as px\n",
    "#df = px.data.stocks()\n",
    "fig = px.line(close_scaled, x=\"Date\", y=close_scaled.columns,\n",
    "              hover_data={\"Date\": \"|%B %d, %Y\"},\n",
    "              title='Scaled Close')\n",
    "fig.update_xaxes(\n",
    "    dtick=\"M1\",\n",
    "    tickformat=\"%b\\n%Y\")\n",
    "fig.show()"
   ]
  },
  {
   "cell_type": "markdown",
   "metadata": {},
   "source": [
    "# Preprocessing data for prediction"
   ]
  },
  {
   "cell_type": "code",
   "execution_count": 7,
   "metadata": {},
   "outputs": [
    {
     "data": {
      "application/vnd.jupyter.widget-view+json": {
       "model_id": "80baf9a52ea64f489c76aece7d0df867",
       "version_major": 2,
       "version_minor": 0
      },
      "text/plain": [
       "interactive(children=(Dropdown(description='Tickers', options=('SOL1-USD', 'CRO-USD', 'FET-USD', 'ETH-USD', 'B…"
      ]
     },
     "metadata": {},
     "output_type": "display_data"
    }
   ],
   "source": [
    "@ipyw.interact_manual (Tickers = tickers)\n",
    "\n",
    "def munge(Tickers):\n",
    "    global df\n",
    "    df = close[['Date',Tickers]]   #Create new dataframe with Date and Ticker columns based on selected ticker\n",
    "    df = df.rename(columns={'Date':'ds', Tickers: 'y'}) #rename columns\n",
    "    df = df.dropna()#remove nan values\n",
    "    df = datecheck(df)\n",
    "    return(df.head())"
   ]
  },
  {
   "cell_type": "code",
   "execution_count": 9,
   "metadata": {},
   "outputs": [
    {
     "name": "stderr",
     "output_type": "stream",
     "text": [
      "INFO:prophet:Disabling yearly seasonality. Run prophet with yearly_seasonality=True to override this.\n",
      "INFO:prophet:Disabling daily seasonality. Run prophet with daily_seasonality=True to override this.\n",
      "INFO:prophet:n_changepoints greater than number of observations. Using 21.\n"
     ]
    },
    {
     "name": "stdout",
     "output_type": "stream",
     "text": [
      "\n",
      "Initial log joint probability = -4.10144\n",
      "Iteration  1. Log joint probability =    20.2562. Improved by 24.3576.\n",
      "Iteration  2. Log joint probability =     55.559. Improved by 35.3028.\n",
      "Iteration  3. Log joint probability =     67.491. Improved by 11.9319.\n",
      "Iteration  4. Log joint probability =    69.8564. Improved by 2.36545.\n",
      "Iteration  5. Log joint probability =    70.0893. Improved by 0.232868.\n",
      "Iteration  6. Log joint probability =    70.0955. Improved by 0.00622533.\n",
      "Iteration  7. Log joint probability =    70.1313. Improved by 0.0358448.\n",
      "Iteration  8. Log joint probability =    70.1578. Improved by 0.0264765.\n",
      "Iteration  9. Log joint probability =    70.1997. Improved by 0.0418414.\n",
      "Iteration 10. Log joint probability =    70.2199. Improved by 0.0202143.\n",
      "Iteration 11. Log joint probability =     70.309. Improved by 0.0891632.\n",
      "Iteration 12. Log joint probability =    70.3136. Improved by 0.00458492.\n",
      "Iteration 13. Log joint probability =     70.356. Improved by 0.0424271.\n",
      "Iteration 14. Log joint probability =    70.6312. Improved by 0.2752.\n",
      "Iteration 15. Log joint probability =    70.7605. Improved by 0.129278.\n",
      "Iteration 16. Log joint probability =    71.7441. Improved by 0.983548.\n",
      "Iteration 17. Log joint probability =    71.7757. Improved by 0.0315973.\n",
      "Iteration 18. Log joint probability =    71.7915. Improved by 0.0158157.\n",
      "Iteration 19. Log joint probability =    72.9245. Improved by 1.13302.\n",
      "Iteration 20. Log joint probability =    72.9452. Improved by 0.0207221.\n",
      "Iteration 21. Log joint probability =     72.996. Improved by 0.0507647.\n",
      "Iteration 22. Log joint probability =    73.0162. Improved by 0.0201746.\n",
      "Iteration 23. Log joint probability =    73.0622. Improved by 0.0459833.\n",
      "Iteration 24. Log joint probability =    73.0926. Improved by 0.0304902.\n",
      "Iteration 25. Log joint probability =    73.1062. Improved by 0.0135596.\n",
      "Iteration 26. Log joint probability =    73.1113. Improved by 0.00508156.\n",
      "Iteration 27. Log joint probability =    73.1221. Improved by 0.0108083.\n",
      "Iteration 28. Log joint probability =    73.1244. Improved by 0.00233541.\n",
      "Iteration 29. Log joint probability =      73.13. Improved by 0.00560479.\n",
      "Iteration 30. Log joint probability =    73.1338. Improved by 0.00376848.\n",
      "Iteration 31. Log joint probability =    73.1349. Improved by 0.00111253.\n",
      "Iteration 32. Log joint probability =    73.1355. Improved by 0.000601933.\n",
      "Iteration 33. Log joint probability =     73.136. Improved by 0.000497746.\n",
      "Iteration 34. Log joint probability =    73.1364. Improved by 0.000358181.\n",
      "Iteration 35. Log joint probability =    73.1365. Improved by 0.000162872.\n",
      "Iteration 36. Log joint probability =    73.1369. Improved by 0.000353422.\n",
      "Iteration 37. Log joint probability =     73.137. Improved by 0.000120783.\n",
      "Iteration 38. Log joint probability =     73.137. Improved by 3.73828e-05.\n",
      "Iteration 39. Log joint probability =    73.1371. Improved by 5.98475e-05.\n",
      "Iteration 40. Log joint probability =    73.1371. Improved by 3.94956e-05.\n",
      "Iteration 41. Log joint probability =    73.1372. Improved by 3.85315e-05.\n",
      "Iteration 42. Log joint probability =    73.1373. Improved by 9.73393e-05.\n",
      "Iteration 43. Log joint probability =    73.1374. Improved by 7.56512e-05.\n",
      "Iteration 44. Log joint probability =    73.1374. Improved by 4.29498e-05.\n",
      "Iteration 45. Log joint probability =    73.1374. Improved by 3.56211e-05.\n",
      "Iteration 46. Log joint probability =    73.1375. Improved by 2.0082e-05.\n",
      "Iteration 47. Log joint probability =    73.1375. Improved by 2.0558e-05.\n",
      "Iteration 48. Log joint probability =    73.1375. Improved by 5.20431e-06.\n",
      "Iteration 49. Log joint probability =    73.1375. Improved by 1.64543e-05.\n",
      "Iteration 50. Log joint probability =    73.1375. Improved by 1.95636e-05.\n",
      "Iteration 51. Log joint probability =    73.1375. Improved by 1.4994e-05.\n",
      "Iteration 52. Log joint probability =    73.1375. Improved by 1.86957e-05.\n",
      "Iteration 53. Log joint probability =    73.1376. Improved by 5.74756e-06.\n",
      "Iteration 54. Log joint probability =    73.1376. Improved by 7.17182e-06.\n",
      "Iteration 55. Log joint probability =    73.1376. Improved by 1.93893e-06.\n",
      "Iteration 56. Log joint probability =    73.1376. Improved by 2.30064e-06.\n",
      "Iteration 57. Log joint probability =    73.1376. Improved by 5.46482e-06.\n",
      "Iteration 58. Log joint probability =    73.1376. Improved by 4.09503e-06.\n",
      "Iteration 59. Log joint probability =    73.1376. Improved by 3.51038e-06.\n",
      "Iteration 60. Log joint probability =    73.1376. Improved by 6.63503e-07.\n",
      "Iteration 61. Log joint probability =    73.1376. Improved by 1.6409e-06.\n",
      "Iteration 62. Log joint probability =    73.1376. Improved by 3.38563e-06.\n",
      "Iteration 63. Log joint probability =    73.1376. Improved by 2.51779e-06.\n",
      "Iteration 64. Log joint probability =    73.1376. Improved by 1.56541e-06.\n",
      "Iteration 65. Log joint probability =    73.1376. Improved by 1.73746e-07.\n",
      "Iteration 66. Log joint probability =    73.1376. Improved by 6.80008e-07.\n",
      "Iteration 67. Log joint probability =    73.1376. Improved by 3.00139e-07.\n",
      "Iteration 68. Log joint probability =    73.1376. Improved by 6.51026e-07.\n",
      "Iteration 69. Log joint probability =    73.1376. Improved by 7.09913e-07.\n",
      "Iteration 70. Log joint probability =    73.1376. Improved by 1.56137e-07.\n",
      "Iteration 71. Log joint probability =    73.1376. Improved by 1.82794e-07.\n",
      "Iteration 72. Log joint probability =    73.1376. Improved by 2.20581e-07.\n",
      "Iteration 73. Log joint probability =    73.1376. Improved by 8.23625e-08.\n",
      "Iteration 74. Log joint probability =    73.1376. Improved by 3.32704e-07.\n",
      "Iteration 75. Log joint probability =    73.1376. Improved by 2.10779e-07.\n",
      "Iteration 76. Log joint probability =    73.1376. Improved by 1.94107e-08.\n",
      "Iteration 77. Log joint probability =    73.1376. Improved by 3.59368e-07.\n",
      "Iteration 78. Log joint probability =    73.1376. Improved by 8.61964e-08.\n",
      "Iteration 79. Log joint probability =    73.1376. Improved by 3.24562e-07.\n",
      "Iteration 80. Log joint probability =    73.1376. Improved by 4.28573e-07.\n",
      "Iteration 81. Log joint probability =    73.1376. Improved by 1.81999e-07.\n",
      "Iteration 82. Log joint probability =    73.1376. Improved by 2.41009e-09.\n"
     ]
    },
    {
     "data": {
      "image/png": "[encoded data removed]",
      "text/plain": [
       "<Figure size 1000x600 with 1 Axes>"
      ]
     },
     "metadata": {},
     "output_type": "display_data"
    },
    {
     "data": {
      "image/png": "[encoded data removed]",
      "text/plain": [
       "<Figure size 900x600 with 2 Axes>"
      ]
     },
     "metadata": {},
     "output_type": "display_data"
    }
   ],
   "source": [
    "from prophet import Prophet\n",
    "m = Prophet() #Create Prophet object\n",
    "m.fit(df) #Fit Prophet model\n",
    "future = m.make_future_dataframe(periods=10) #Create future dataframe\n",
    "forecast = m.predict(future) #Predict future dataframe\n",
    "fig1 = m.plot(forecast)\n",
    "fig2 = m.plot_components(forecast)"
   ]
  }
 ],
 "metadata": {
  "interpreter": {
   "hash": "c09812699b111b979a2abee38c127f10a16723f5a92d70f3d4b17adfc28da477"
  },
  "kernelspec": {
   "display_name": "Python 3.8.12 64-bit ('TimeSeries': conda)",
   "language": "python",
   "name": "python3"
  },
  "language_info": {
   "codemirror_mode": {
    "name": "ipython",
    "version": 3
   },
   "file_extension": ".py",
   "mimetype": "text/x-python",
   "name": "python",
   "nbconvert_exporter": "python",
   "pygments_lexer": "ipython3",
   "version": "3.8.12"
  }
 },
 "nbformat": 4,
 "nbformat_minor": 4
}
