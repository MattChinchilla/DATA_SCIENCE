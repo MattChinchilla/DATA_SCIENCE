{
 "cells": [
  {
   "cell_type": "code",
   "execution_count": 3,
   "metadata": {},
   "outputs": [],
   "source": [
    "%run prophet_funcs.py"
   ]
  },
  {
   "cell_type": "code",
   "execution_count": 130,
   "metadata": {},
   "outputs": [],
   "source": [
    "import pandas as pd\n",
    "import time\n",
    "from datetime import timedelta\n",
    "\n",
    "#get the time now in unix time\n",
    "now = int(time.time())\n",
    "\n",
    "#get the time one year from now datetime object\n",
    "day_lag = datetime.today() - timedelta(days = 120 )\n",
    "\n",
    "#convert datetime object to unix timestamp\n",
    "then = int(day_lag.timestamp())\n",
    "\n",
    "url = {\n",
    "    'SOL': F'https://query1.finance.yahoo.com/v7/finance/download/SOL1-USD?period1={then}&period2={now}&interval=1d&events=history&includeAdjustedClose=true',\n",
    "    'ETH': F'https://query1.finance.yahoo.com/v7/finance/download/ETH-USD?period1={then}&period2={now}&interval=1d&events=history&includeAdjustedClose=true',\n",
    "    'XRP': F'https://query1.finance.yahoo.com/v7/finance/download/XRP-USD?period1={then}&period2={now}&interval=1d&events=history&includeAdjustedClose=true',\n",
    "    'BTC': F'https://query1.finance.yahoo.com/v7/finance/download/BTC-USD?period1={then}&period2={now}&interval=1d&events=history&includeAdjustedClose=true'\n",
    "}\n",
    "\n",
    "\n"
   ]
  },
  {
   "cell_type": "code",
   "execution_count": 131,
   "metadata": {},
   "outputs": [],
   "source": [
    "'''Function to fetch data from yahoo via url dictionary of Ticker and Url'''\n",
    "\n",
    "def fetchData(url):\n",
    "    df = pd.DataFrame()\n",
    "    for i in url.items():\n",
    "        key = i[0] #get the Key values from dictionary in this case Crypto Ticker\n",
    "        val = i[1] #get the Value object from dictionary in this case Crypto Url\n",
    "        data = pd.read_csv(val)\n",
    "        data = data.assign(token = key) \n",
    "        df = df.append(data)\n",
    "    return(df)\n",
    "\n",
    "\n",
    "df2 = fetchData(url)"
   ]
  },
  {
   "cell_type": "markdown",
   "metadata": {},
   "source": [
    "# Try yFinance yahoo api"
   ]
  },
  {
   "cell_type": "code",
   "execution_count": 45,
   "metadata": {},
   "outputs": [
    {
     "name": "stdout",
     "output_type": "stream",
     "text": [
      "[*********************100%***********************]  1 of 1 completed\n",
      "[*********************100%***********************]  1 of 1 completed\n"
     ]
    }
   ],
   "source": [
    "import yfinance as yf\n",
    "import pandas as pd\n",
    "\n",
    "tickerStrings = ['ETH-USD', 'SOL1-USD']\n",
    "\n",
    "#start = \n",
    "period = '1mo'\n",
    "\n",
    "vars = tickerStrings,period\n",
    "\n",
    "def FetchData(vars):\n",
    "    tickerStrings,period = vars\n",
    "    df_list = list()\n",
    "    for ticker in tickerStrings:\n",
    "        data = yf.download(ticker, group_by=\"Ticker\", period = period)\n",
    "        data['ticker'] = ticker  # add this column because the dataframe doesn't contain a column with the ticker\n",
    "        df_list.append(data)\n",
    "        df = pd.concat(df_list) # combine all dataframes into a single dataframe\n",
    "    return(df)\n",
    "                                \n",
    "\n",
    "df = FetchData(vars)"
   ]
  },
  {
   "cell_type": "code",
   "execution_count": 46,
   "metadata": {},
   "outputs": [],
   "source": [
    "#seperate dataframe by ticker\n",
    "def get_splited_df_dict(df: 'df', split_column: 'ticker'):\n",
    "    \"\"\"\n",
    "    splits a pandas.DataFrame on split_column and returns it as a dict\n",
    "    \"\"\"\n",
    "\n",
    "    df_dict = {value: df[df[split_column] == value].drop(split_column, axis=1) for value in df[split_column].unique()}\n",
    "\n",
    "    return df_dict\n"
   ]
  },
  {
   "cell_type": "code",
   "execution_count": 49,
   "metadata": {},
   "outputs": [],
   "source": [
    "split = get_splited_df_dict(df,'ticker')"
   ]
  },
  {
   "cell_type": "code",
   "execution_count": 55,
   "metadata": {},
   "outputs": [
    {
     "data": {
      "text/html": [
       "<div>\n",
       "<style scoped>\n",
       "    .dataframe tbody tr th:only-of-type {\n",
       "        vertical-align: middle;\n",
       "    }\n",
       "\n",
       "    .dataframe tbody tr th {\n",
       "        vertical-align: top;\n",
       "    }\n",
       "\n",
       "    .dataframe thead th {\n",
       "        text-align: right;\n",
       "    }\n",
       "</style>\n",
       "<table border=\"1\" class=\"dataframe\">\n",
       "  <thead>\n",
       "    <tr style=\"text-align: right;\">\n",
       "      <th></th>\n",
       "      <th>Open</th>\n",
       "      <th>High</th>\n",
       "      <th>Low</th>\n",
       "      <th>Close</th>\n",
       "      <th>Adj Close</th>\n",
       "      <th>Volume</th>\n",
       "    </tr>\n",
       "    <tr>\n",
       "      <th>Date</th>\n",
       "      <th></th>\n",
       "      <th></th>\n",
       "      <th></th>\n",
       "      <th></th>\n",
       "      <th></th>\n",
       "      <th></th>\n",
       "    </tr>\n",
       "  </thead>\n",
       "  <tbody>\n",
       "    <tr>\n",
       "      <th>2021-09-27</th>\n",
       "      <td>3065.837891</td>\n",
       "      <td>3163.665039</td>\n",
       "      <td>2932.692871</td>\n",
       "      <td>2934.138916</td>\n",
       "      <td>2934.138916</td>\n",
       "      <td>19164053681</td>\n",
       "    </tr>\n",
       "    <tr>\n",
       "      <th>2021-09-28</th>\n",
       "      <td>2928.963379</td>\n",
       "      <td>2970.770508</td>\n",
       "      <td>2793.360596</td>\n",
       "      <td>2807.296631</td>\n",
       "      <td>2807.296631</td>\n",
       "      <td>16895079070</td>\n",
       "    </tr>\n",
       "    <tr>\n",
       "      <th>2021-09-29</th>\n",
       "      <td>2809.297607</td>\n",
       "      <td>2946.881348</td>\n",
       "      <td>2786.988281</td>\n",
       "      <td>2853.143311</td>\n",
       "      <td>2853.143311</td>\n",
       "      <td>15763456158</td>\n",
       "    </tr>\n",
       "    <tr>\n",
       "      <th>2021-09-30</th>\n",
       "      <td>2852.558838</td>\n",
       "      <td>3046.519531</td>\n",
       "      <td>2840.289551</td>\n",
       "      <td>3001.678955</td>\n",
       "      <td>3001.678955</td>\n",
       "      <td>17661065099</td>\n",
       "    </tr>\n",
       "    <tr>\n",
       "      <th>2021-10-01</th>\n",
       "      <td>3001.129395</td>\n",
       "      <td>3329.853516</td>\n",
       "      <td>2978.654297</td>\n",
       "      <td>3307.516113</td>\n",
       "      <td>3307.516113</td>\n",
       "      <td>22307625573</td>\n",
       "    </tr>\n",
       "  </tbody>\n",
       "</table>\n",
       "</div>"
      ],
      "text/plain": [
       "                   Open         High          Low        Close    Adj Close  \\\n",
       "Date                                                                          \n",
       "2021-09-27  3065.837891  3163.665039  2932.692871  2934.138916  2934.138916   \n",
       "2021-09-28  2928.963379  2970.770508  2793.360596  2807.296631  2807.296631   \n",
       "2021-09-29  2809.297607  2946.881348  2786.988281  2853.143311  2853.143311   \n",
       "2021-09-30  2852.558838  3046.519531  2840.289551  3001.678955  3001.678955   \n",
       "2021-10-01  3001.129395  3329.853516  2978.654297  3307.516113  3307.516113   \n",
       "\n",
       "                 Volume  \n",
       "Date                     \n",
       "2021-09-27  19164053681  \n",
       "2021-09-28  16895079070  \n",
       "2021-09-29  15763456158  \n",
       "2021-09-30  17661065099  \n",
       "2021-10-01  22307625573  "
      ]
     },
     "execution_count": 55,
     "metadata": {},
     "output_type": "execute_result"
    }
   ],
   "source": [
    "split['ETH-USD'].head()"
   ]
  }
 ],
 "metadata": {
  "interpreter": {
   "hash": "c09812699b111b979a2abee38c127f10a16723f5a92d70f3d4b17adfc28da477"
  },
  "kernelspec": {
   "display_name": "Python 3.8.12 64-bit ('TimeSeries': conda)",
   "name": "python3"
  },
  "language_info": {
   "codemirror_mode": {
    "name": "ipython",
    "version": 3
   },
   "file_extension": ".py",
   "mimetype": "text/x-python",
   "name": "python",
   "nbconvert_exporter": "python",
   "pygments_lexer": "ipython3",
   "version": "3.8.12"
  },
  "orig_nbformat": 4
 },
 "nbformat": 4,
 "nbformat_minor": 2
}
