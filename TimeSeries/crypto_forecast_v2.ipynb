{
 "cells": [
  {
   "cell_type": "code",
   "execution_count": 1,
   "metadata": {},
   "outputs": [],
   "source": [
    "%run prophet_funcs_v2.py\n",
    "#initialization script creates functions and adds libraries to environment"
   ]
  },
  {
   "cell_type": "code",
   "execution_count": 2,
   "metadata": {},
   "outputs": [
    {
     "name": "stdout",
     "output_type": "stream",
     "text": [
      "[*********************100%***********************]  1 of 1 completed\n",
      "[*********************100%***********************]  1 of 1 completed\n",
      "[*********************100%***********************]  1 of 1 completed\n",
      "[*********************100%***********************]  1 of 1 completed\n",
      "[*********************100%***********************]  1 of 1 completed\n",
      "Data for the following tickers was downloaded from yahoo finance:['SOL1-USD', 'BTC-USD', 'ETH-USD', '1INCH-USD', 'ADA-USD']\n"
     ]
    }
   ],
   "source": [
    "\n",
    "tickerStrings = ['SOL1-USD','BTC-USD','ETH-USD','1INCH-USD','ADA-USD']\n",
    "\n",
    "#Valid periods: 1d,5d,1mo,3mo,6mo,1y,2y,5y,10y,ytd,max\n",
    "period = '1mo'\n",
    "\n",
    "vars = tickerStrings,period\n",
    "\n",
    "#FetchData: This function takes the input vars and uses the yfinance package to download data from the yahoo finance website into a dataframe.\n",
    "df_dict = FetchData_dict(vars)\n",
    "tickers = list(df_dict)\n",
    "print(('Data for the following tickers was downloaded from yahoo finance:'+str(tickers)))"
   ]
  },
  {
   "cell_type": "code",
   "execution_count": 4,
   "metadata": {},
   "outputs": [
    {
     "data": {
      "application/vnd.jupyter.widget-view+json": {
       "model_id": "aad86979a81743b1a2d591980ca36fbd",
       "version_major": 2,
       "version_minor": 0
      },
      "text/plain": [
       "interactive(children=(Dropdown(description='Tickers', options=('SOL1-USD', 'BTC-USD', 'ETH-USD', '1INCH-USD', …"
      ]
     },
     "metadata": {},
     "output_type": "display_data"
    },
    {
     "data": {
      "text/plain": [
       "<function __main__.PlotIt(Tickers, Plot_Type, MA, Mavg)>"
      ]
     },
     "execution_count": 4,
     "metadata": {},
     "output_type": "execute_result"
    }
   ],
   "source": [
    "import ipywidgets as ipyw\n",
    "import mplfinance as mpf\n",
    "\n",
    "Mavg = ipyw.widgets.Dropdown(options=[('5Day', 5), ('10Day', 10), ('30Day', 30)],description='Moving_Average:')\n",
    "MA = True\n",
    "Tickers = tickers\n",
    "Plot_Type = ['ohlc','line','hollow_and_filled','renko','pnf']\n",
    "\n",
    "def PlotIt(Tickers,Plot_Type,MA,Mavg):\n",
    "    if MA == True:\n",
    "      Mavg\n",
    "      mpf.plot(df_dict[Tickers],type = Plot_Type,volume = True,mav = Mavg,figratio = (100,40),style = 'yahoo',title = (Tickers + ' Plot With Moving Average'))\n",
    "    else:\n",
    "      mpf.plot(df_dict[Tickers],type = Plot_Type,volume = True,figratio = (100,40),style = 'yahoo',title = Tickers);\n",
    "      \n",
    "ipyw.interact(PlotIt,Tickers = Tickers,Plot_Type = Plot_Type,MA = MA,Mavg = Mavg)"
   ]
  },
  {
   "cell_type": "code",
   "execution_count": 7,
   "metadata": {},
   "outputs": [
    {
     "data": {
      "application/vnd.jupyter.widget-view+json": {
       "model_id": "499e0fe141b040939d442245e02eefe3",
       "version_major": 2,
       "version_minor": 0
      },
      "text/plain": [
       "interactive(children=(Dropdown(description='Tickers', options=('SOL1-USD', 'BTC-USD', 'ETH-USD', '1INCH-USD', …"
      ]
     },
     "metadata": {},
     "output_type": "display_data"
    }
   ],
   "source": [
    "import ipywidgets as ipyw\n",
    "import mplfinance as mpf\n",
    "\n",
    "@ipyw.interact(\n",
    "Mavg = ipyw.widgets.Dropdown(options=[('5Day', 5), ('10Day', 10), ('30Day', 30)],description='Moving_Average:'),\n",
    "MA = True,\n",
    "Tickers = tickers,\n",
    "Plot_Type = ['ohlc','line','hollow_and_filled','renko','pnf']\n",
    ")\n",
    "\n",
    "def PlotIt(Tickers,Plot_Type,MA,Mavg):\n",
    "    if MA == True:\n",
    "      Mavg\n",
    "      mpf.plot(df_dict[Tickers],type = Plot_Type,volume = True,mav = Mavg,figratio = (100,40),style = 'yahoo',title = (Tickers + ' Plot With Moving Average'))\n",
    "    else:\n",
    "      mpf.plot(df_dict[Tickers],type = Plot_Type,volume = True,figratio = (100,40),style = 'yahoo',title = Tickers);"
   ]
  }
 ],
 "metadata": {
  "interpreter": {
   "hash": "c09812699b111b979a2abee38c127f10a16723f5a92d70f3d4b17adfc28da477"
  },
  "kernelspec": {
   "display_name": "Python 3.8.12 64-bit ('TimeSeries': conda)",
   "name": "python3"
  },
  "language_info": {
   "codemirror_mode": {
    "name": "ipython",
    "version": 3
   },
   "file_extension": ".py",
   "mimetype": "text/x-python",
   "name": "python",
   "nbconvert_exporter": "python",
   "pygments_lexer": "ipython3",
   "version": "3.8.12"
  },
  "orig_nbformat": 4
 },
 "nbformat": 4,
 "nbformat_minor": 2
}
