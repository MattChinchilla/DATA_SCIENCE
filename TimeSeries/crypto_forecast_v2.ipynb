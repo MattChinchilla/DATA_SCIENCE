{
 "cells": [
  {
   "cell_type": "code",
   "execution_count": 1,
   "metadata": {},
   "outputs": [],
   "source": [
    "%run prophet_funcs_v2.py\n",
    "#initialization script creates functions and adds libraries to environment"
   ]
  },
  {
   "cell_type": "markdown",
   "metadata": {},
   "source": [
    "# Download Financial data from Yahoo Finance\n",
    "The following code has two inputs that must be set to retrieve data from Yahoo Finance API, 'tickerStrings' and 'period'. The function 'FetchData_dict' retrieves the ticker data for the specified period and adds them to a data dictionary called 'df_dict'. \n",
    "\n",
    "The retrieved data consists of the following:\n",
    "* **Date**\n",
    "* **High**\n",
    "* **Low**\n",
    "* **Close**\n",
    "* **Adj Close**\n",
    "* **Volume**\n",
    "\n",
    "note: yFinace is the primary library used to call the Yahoo Finance API."
   ]
  },
  {
   "cell_type": "code",
   "execution_count": 4,
   "metadata": {
    "tags": []
   },
   "outputs": [
    {
     "data": {
      "application/vnd.jupyter.widget-view+json": {
       "model_id": "90fa21343e4043e0b736a91df0120e56",
       "version_major": 2,
       "version_minor": 0
      },
      "text/plain": [
       "interactive(children=(SelectMultiple(description='tickerStrings', index=(0, 1, 2, 3, 4), options=('SOL1-USD', …"
      ]
     },
     "metadata": {},
     "output_type": "display_data"
    }
   ],
   "source": [
    "'''Download Financial Data from Yahoo Finance'''\n",
    "\n",
    "@ipyw.interact_manual (\n",
    "tickerStrings= ipyw.widgets.SelectMultiple(\n",
    "    options= ['SOL1-USD','BTC-USD','ETH-USD','1INCH-USD','ADA-USD'],\n",
    "    value= ['SOL1-USD','BTC-USD','ETH-USD','1INCH-USD','ADA-USD']),\n",
    "period= ['1d','5d','1mo','3mo','6mo','1y','2y','5y','10y','ytd','max']\n",
    ")\n",
    "\n",
    "\n",
    "\n",
    "def FetchData_dict(tickerStrings,period):\n",
    "    global df_dict\n",
    "    df_list = list()\n",
    "    for ticker in tickerStrings:\n",
    "        data = yf.download(ticker, group_by=\"Ticker\", period = period)\n",
    "        data['ticker'] = ticker  # add this column because the dataframe doesn't contain a column with the ticker\n",
    "        df_list.append(data)\n",
    "        df = pd.concat(df_list) # combine all dataframes into a single dataframe\n",
    "        df_dict = {value: df[df['ticker'] == value].drop('ticker', axis=1) for value in df['ticker'].unique()}"
   ]
  },
  {
   "cell_type": "markdown",
   "metadata": {},
   "source": [
    "# Plotting individual tickers\n",
    "The following code uses ipython widgets to make it easy to view plots for each ticker that is downloaded. You can select the downloaded data you wish to view and choose the plot type you wish to see. There is also an option to include or remove the moving average for the plot and at what interval you wish to view the moving average. For plots such as Renko and PNF displaying the moving average may not be helpful."
   ]
  },
  {
   "cell_type": "code",
   "execution_count": 5,
   "metadata": {},
   "outputs": [
    {
     "data": {
      "application/vnd.jupyter.widget-view+json": {
       "model_id": "3b3cc8cb41634b3f9d8a78257ca4165e",
       "version_major": 2,
       "version_minor": 0
      },
      "text/plain": [
       "interactive(children=(Dropdown(description='Tickers', options=('SOL1-USD', 'BTC-USD', 'ETH-USD'), value='SOL1-…"
      ]
     },
     "metadata": {},
     "output_type": "display_data"
    }
   ],
   "source": [
    "tickers = list(df_dict)\n",
    "\n",
    "@ipyw.interact(\n",
    "Mavg = ipyw.widgets.Dropdown(options=[('5Day', 5), ('10Day', 10), ('30Day', 30)],description='Moving_Average:'),\n",
    "MA = True,\n",
    "Tickers = tickers,\n",
    "Plot_Type = ['ohlc','line','hollow_and_filled','renko','pnf']\n",
    ")\n",
    "\n",
    "def PlotIt(Tickers,Plot_Type,MA,Mavg):\n",
    "    if MA == True:\n",
    "      Mavg\n",
    "      mpf.plot(df_dict[Tickers],type = Plot_Type,volume = True,mav = Mavg,figratio = (100,40),style = 'yahoo',title = (Tickers + ' Plot With Moving Average'))\n",
    "    else:\n",
    "      mpf.plot(df_dict[Tickers],type = Plot_Type,volume = True,figratio = (100,40),style = 'yahoo',title = Tickers);"
   ]
  },
  {
   "cell_type": "markdown",
   "metadata": {},
   "source": [
    "# Compare to Each other"
   ]
  },
  {
   "cell_type": "code",
   "execution_count": 6,
   "metadata": {},
   "outputs": [
    {
     "data": {
      "text/html": [
       "<div>\n",
       "<style scoped>\n",
       "    .dataframe tbody tr th:only-of-type {\n",
       "        vertical-align: middle;\n",
       "    }\n",
       "\n",
       "    .dataframe tbody tr th {\n",
       "        vertical-align: top;\n",
       "    }\n",
       "\n",
       "    .dataframe thead th {\n",
       "        text-align: right;\n",
       "    }\n",
       "</style>\n",
       "<table border=\"1\" class=\"dataframe\">\n",
       "  <thead>\n",
       "    <tr style=\"text-align: right;\">\n",
       "      <th></th>\n",
       "      <th>Date</th>\n",
       "      <th>SOL1-USD</th>\n",
       "      <th>BTC-USD</th>\n",
       "      <th>ETH-USD</th>\n",
       "    </tr>\n",
       "  </thead>\n",
       "  <tbody>\n",
       "    <tr>\n",
       "      <th>0</th>\n",
       "      <td>2020-11-11</td>\n",
       "      <td>2.002125</td>\n",
       "      <td>15701.339844</td>\n",
       "      <td>462.960541</td>\n",
       "    </tr>\n",
       "    <tr>\n",
       "      <th>1</th>\n",
       "      <td>2020-11-12</td>\n",
       "      <td>1.899138</td>\n",
       "      <td>16276.343750</td>\n",
       "      <td>461.005280</td>\n",
       "    </tr>\n",
       "    <tr>\n",
       "      <th>2</th>\n",
       "      <td>2020-11-13</td>\n",
       "      <td>2.020792</td>\n",
       "      <td>16317.808594</td>\n",
       "      <td>474.626434</td>\n",
       "    </tr>\n",
       "    <tr>\n",
       "      <th>3</th>\n",
       "      <td>2020-11-14</td>\n",
       "      <td>1.917016</td>\n",
       "      <td>16068.138672</td>\n",
       "      <td>460.149841</td>\n",
       "    </tr>\n",
       "    <tr>\n",
       "      <th>4</th>\n",
       "      <td>2020-11-15</td>\n",
       "      <td>2.043234</td>\n",
       "      <td>15955.587891</td>\n",
       "      <td>447.559082</td>\n",
       "    </tr>\n",
       "    <tr>\n",
       "      <th>...</th>\n",
       "      <td>...</td>\n",
       "      <td>...</td>\n",
       "      <td>...</td>\n",
       "      <td>...</td>\n",
       "    </tr>\n",
       "    <tr>\n",
       "      <th>361</th>\n",
       "      <td>2021-11-07</td>\n",
       "      <td>249.823486</td>\n",
       "      <td>63326.988281</td>\n",
       "      <td>4620.554688</td>\n",
       "    </tr>\n",
       "    <tr>\n",
       "      <th>362</th>\n",
       "      <td>2021-11-08</td>\n",
       "      <td>248.467178</td>\n",
       "      <td>67566.828125</td>\n",
       "      <td>4812.087402</td>\n",
       "    </tr>\n",
       "    <tr>\n",
       "      <th>363</th>\n",
       "      <td>2021-11-09</td>\n",
       "      <td>239.213135</td>\n",
       "      <td>66971.828125</td>\n",
       "      <td>4735.068848</td>\n",
       "    </tr>\n",
       "    <tr>\n",
       "      <th>364</th>\n",
       "      <td>2021-11-10</td>\n",
       "      <td>233.779526</td>\n",
       "      <td>64995.230469</td>\n",
       "      <td>4636.174316</td>\n",
       "    </tr>\n",
       "    <tr>\n",
       "      <th>365</th>\n",
       "      <td>2021-11-11</td>\n",
       "      <td>240.392197</td>\n",
       "      <td>64722.082031</td>\n",
       "      <td>4640.145020</td>\n",
       "    </tr>\n",
       "  </tbody>\n",
       "</table>\n",
       "<p>366 rows × 4 columns</p>\n",
       "</div>"
      ],
      "text/plain": [
       "          Date    SOL1-USD       BTC-USD      ETH-USD\n",
       "0   2020-11-11    2.002125  15701.339844   462.960541\n",
       "1   2020-11-12    1.899138  16276.343750   461.005280\n",
       "2   2020-11-13    2.020792  16317.808594   474.626434\n",
       "3   2020-11-14    1.917016  16068.138672   460.149841\n",
       "4   2020-11-15    2.043234  15955.587891   447.559082\n",
       "..         ...         ...           ...          ...\n",
       "361 2021-11-07  249.823486  63326.988281  4620.554688\n",
       "362 2021-11-08  248.467178  67566.828125  4812.087402\n",
       "363 2021-11-09  239.213135  66971.828125  4735.068848\n",
       "364 2021-11-10  233.779526  64995.230469  4636.174316\n",
       "365 2021-11-11  240.392197  64722.082031  4640.145020\n",
       "\n",
       "[366 rows x 4 columns]"
      ]
     },
     "execution_count": 6,
     "metadata": {},
     "output_type": "execute_result"
    }
   ],
   "source": [
    "# New Dataframe with Close for each ticker\n",
    "close = pd.DataFrame()\n",
    "\n",
    "for a in df_dict:\n",
    "    cl = pd.DataFrame(df_dict[a],columns=['Close'])\n",
    "    cl = cl.rename(columns={'Close': a }).reset_index(level=0).set_index('Date')\n",
    "    close = pd.concat([close,cl],axis = 1)\n",
    "\n",
    "close = close.reset_index(level = 0)\n",
    "close"
   ]
  },
  {
   "cell_type": "code",
   "execution_count": null,
   "metadata": {},
   "outputs": [],
   "source": []
  }
 ],
 "metadata": {
  "interpreter": {
   "hash": "c09812699b111b979a2abee38c127f10a16723f5a92d70f3d4b17adfc28da477"
  },
  "kernelspec": {
   "display_name": "Python 3.8.12 64-bit ('TimeSeries': conda)",
   "language": "python",
   "name": "python3812jvsc74a57bd0c09812699b111b979a2abee38c127f10a16723f5a92d70f3d4b17adfc28da477"
  },
  "language_info": {
   "codemirror_mode": {
    "name": "ipython",
    "version": 3
   },
   "file_extension": ".py",
   "mimetype": "text/x-python",
   "name": "python",
   "nbconvert_exporter": "python",
   "pygments_lexer": "ipython3",
   "version": "3.8.12"
  }
 },
 "nbformat": 4,
 "nbformat_minor": 4
}
