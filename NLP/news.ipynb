{
 "cells": [
  {
   "cell_type": "code",
   "execution_count": 37,
   "metadata": {},
   "outputs": [],
   "source": [
    "import pandas as pd\n",
    "import ipywidgets as ipyw\n",
    "from newsapi import NewsApiClient\n",
    "pd.set_option('display.max_colwidth',None)"
   ]
  },
  {
   "cell_type": "code",
   "execution_count": 38,
   "metadata": {},
   "outputs": [
    {
     "data": {
      "application/vnd.jupyter.widget-view+json": {
       "model_id": "b5ac45799f0c4bd09805f9ccbb377a5c",
       "version_major": 2,
       "version_minor": 0
      },
      "text/plain": [
       "interactive(children=(Dropdown(description='category', options=('business', 'entertainment', 'general', 'healt…"
      ]
     },
     "metadata": {},
     "output_type": "display_data"
    }
   ],
   "source": [
    "@ipyw.interact_manual (category = ['business','entertainment','general','health','science','sports','technology'])\n",
    "\n",
    "def FetchHeadline_Category(category):\n",
    "    newsapi = NewsApiClient(api_key='73ebfc322a0f4da68818b09690d705b3')\n",
    "    h = newsapi.get_top_headlines(country='us',category= category)\n",
    "    headlines = pd.json_normalize(h, record_path =['articles'])\n",
    "    return(headlines.loc[:,[\"title\",\"source.name\"]])"
   ]
  },
  {
   "cell_type": "code",
   "execution_count": 39,
   "metadata": {},
   "outputs": [
    {
     "data": {
      "text/plain": [
       "0         A man who blamed his surgeon for continuing pain after a recent back operation bought an AR-style rifle Wednesday and carried out a shooting that same day at a Tulsa, Oklahoma, medical office, killin… [+3383 chars]\n",
       "1         Sometimes we get to the end, and we can't help but feel somehow cheated. After a rigorous 82-game schedule and a grueling postseason, occasionally it seems that we end up with the wrong teams in the … [+5981 chars]\n",
       "2         The Abraham Accords, sealed under the auspices of Mr. Trump, established normal diplomatic relations between Israel and several Arab states, including the United Arab Emirates and Bahrain. But Saudi … [+1939 chars]\n",
       "3         The latest PlayStation State of Play has arrived and it did not disappoint. From a new look and release window for Final Fantasy 16 to the long-awaited reveal of Resident Evil 4 Remake to a release d… [+7589 chars]\n",
       "4       Federal health officials are now recommending that people mask up indoors in more places in California, including Sacramento and four surrounding counties due to high levels of COVID-19.\\r\\nThe Centers… [+1502 chars]\n",
       "5       Matthew Morrison claims the alleged text he sent to a So You Think You Can Dance contestant which led to his abrupt exit as a judge was not inappropriate.\\r\\nIts really unfortunate that I have to sit h… [+2704 chars]\n",
       "6        The Queen's Platinum Jubilee celebrations began on Thursday, the first day of a four-day holiday to honor her 70 years on the British throne.\\r\\nThursday's main event was Trooping the Colour, the annua… [+883 chars]\n",
       "7         Jeannie Mai Jenkins has officially introduced her 5-month-old daughter Monaco to the world. The talk show host shared sweet pictures on her Instagram and posted a video to YouTube that gives fans an … [+1708 chars]\n",
       "8       DUBLIN, Ohio Hideki Matsuyama was disqualified from the Memorial Tournament presented by Workday for using a non-conforming club, violating Equipment Standards Rule 4.c(3). \\r\\nRory McIlroy and Patrick… [+1136 chars]\n",
       "9       Placeholder while article actions load\\r\\nAttorney Michael Avenatti was sentenced Thursday to four years in prison on charges related to taking $300,000 from his former client Stormy Daniels, the adult… [+4282 chars]\n",
       "10        UVALDE, Texas (AP) The commander overseeing police during a shooting at an elementary school in Uvalde, Texas, was not informed of panicked 911 calls coming from students trapped inside and its uncle… [+5724 chars]\n",
       "11                                                                                                                                                                                                                          None\n",
       "12    Enlarge/ A Falcon 9 rocket and Crew Dragon spacecraft are ready to launch NASA's Crew-4 mission.\\r\\n49 with 37 posters participating, including story author\\r\\nNASA said this week that it plans to purcha… [+3639 chars]\n",
       "13     Russia’s economy is falling apart and “time is working against Russia” and its president, Vladimir Putin, a top German official said Thursday.\\r\\nGerman Vice Chancellor Robert Habeck made the remarks t… [+10254 chars]\n",
       "14        Long before Webb even launched from French Guiana, weve been waiting for this moment: the first full-color images from this cutting-edge space telescope. NASA announced yesterday that those pictures … [+2046 chars]\n",
       "15      Authorities in Mexico have arrested a suspected serial killer accused of luring at least seven young women on Facebook with false job offers.\\r\\nSurveillance camera footage from two states showed the m… [+2634 chars]\n",
       "16      RACINE, Wis. A suspect shot and injured five people during a funeral at Graceland Cemetery in Racine Thursday afternoon, family tells TMJ4 News.\\r\\nRacine police described the shooting as a \"critical\" … [+3362 chars]\n",
       "17      Ryan Fitzpatrick has called an end to one of the NFLs most varied career, with the news on Thursday that the veteran will retire.\\r\\nThe 39-year-olds career was noted for its longevity and its multiple… [+1632 chars]\n",
       "18      Wolfenstein: The New Order is currently free on the Epic Games Store, and can be added to users accounts until June 9. \\r\\nThe freebie is part of the Epic Games Mega Sale, which includes steep discount… [+1071 chars]\n",
       "19        Its once again time for Apple to hold its annual Worldwide Developers Conference, or WWDC, where it shows off the latest versions of its operating systems for iPhones, Macs, watches, tablets, and TVs… [+6805 chars]\n",
       "Name: content, dtype: object"
      ]
     },
     "execution_count": 39,
     "metadata": {},
     "output_type": "execute_result"
    }
   ],
   "source": [
    "headlines['content']"
   ]
  },
  {
   "cell_type": "code",
   "execution_count": 2,
   "metadata": {},
   "outputs": [],
   "source": [
    "# Init\n",
    "newsapi = NewsApiClient(api_key='73ebfc322a0f4da68818b09690d705b3')"
   ]
  },
  {
   "cell_type": "code",
   "execution_count": 3,
   "metadata": {},
   "outputs": [],
   "source": [
    "# /v2/top-headlines/sources\n",
    "s = newsapi.get_sources(language='en',country='us')\n",
    "sources = pd.json_normalize(s, record_path =['sources'])\n"
   ]
  },
  {
   "cell_type": "code",
   "execution_count": 4,
   "metadata": {},
   "outputs": [
    {
     "data": {
      "text/plain": [
       "array(['general', 'technology', 'sports', 'business', 'entertainment',\n",
       "       'health', 'science'], dtype=object)"
      ]
     },
     "execution_count": 4,
     "metadata": {},
     "output_type": "execute_result"
    }
   ],
   "source": [
    "sources.category.unique()"
   ]
  },
  {
   "cell_type": "code",
   "execution_count": 5,
   "metadata": {},
   "outputs": [],
   "source": [
    "#list of all the categories\n",
    "category = ['business','entertainment','general','health','science','sports','technology']\n",
    "\n",
    "h = newsapi.get_top_headlines(country='us',category='general')\n",
    "headlines = pd.json_normalize(h, record_path =['articles'])"
   ]
  },
  {
   "cell_type": "code",
   "execution_count": 6,
   "metadata": {},
   "outputs": [
    {
     "data": {
      "text/html": [
       "<div>\n",
       "<style scoped>\n",
       "    .dataframe tbody tr th:only-of-type {\n",
       "        vertical-align: middle;\n",
       "    }\n",
       "\n",
       "    .dataframe tbody tr th {\n",
       "        vertical-align: top;\n",
       "    }\n",
       "\n",
       "    .dataframe thead th {\n",
       "        text-align: right;\n",
       "    }\n",
       "</style>\n",
       "<table border=\"1\" class=\"dataframe\">\n",
       "  <thead>\n",
       "    <tr style=\"text-align: right;\">\n",
       "      <th></th>\n",
       "      <th>title</th>\n",
       "      <th>source.name</th>\n",
       "    </tr>\n",
       "  </thead>\n",
       "  <tbody>\n",
       "    <tr>\n",
       "      <th>0</th>\n",
       "      <td>Tulsa shooting gunman targeted surgeon he blamed for pain, police say - CBS News</td>\n",
       "      <td>CBS News</td>\n",
       "    </tr>\n",
       "    <tr>\n",
       "      <th>1</th>\n",
       "      <td>Celtics vs. Warriors prediction, pick, odds, spread, line for 2022 NBA Finals Game 1 - CBS Sports</td>\n",
       "      <td>CBS Sports</td>\n",
       "    </tr>\n",
       "    <tr>\n",
       "      <th>2</th>\n",
       "      <td>Biden to Travel to Saudi Arabia, Ending Its 'Pariah' Status - The New York Times</td>\n",
       "      <td>New York Times</td>\n",
       "    </tr>\n",
       "    <tr>\n",
       "      <th>3</th>\n",
       "      <td>PlayStation State of Play June 2022: Everything Announced Including Final Fantasy 16 and Resident Evil 4 Remake - IGN - IGN</td>\n",
       "      <td>IGN</td>\n",
       "    </tr>\n",
       "    <tr>\n",
       "      <th>4</th>\n",
       "      <td>CDC now recommends masking up indoors in Sacramento and 4 nearby counties - KCRA Sacramento</td>\n",
       "      <td>KCRA Sacramento</td>\n",
       "    </tr>\n",
       "    <tr>\n",
       "      <th>5</th>\n",
       "      <td>Matthew Morrison reads alleged text sent to ‘SYTYCD’ contestant: ‘I have nothing to hide’ - Page Six</td>\n",
       "      <td>Page Six</td>\n",
       "    </tr>\n",
       "    <tr>\n",
       "      <th>6</th>\n",
       "      <td>Prince Harry And Meghan Markle Seen Watching Trooping The Colour - BuzzFeed News</td>\n",
       "      <td>BuzzFeed News</td>\n",
       "    </tr>\n",
       "    <tr>\n",
       "      <th>7</th>\n",
       "      <td>Jeannie Mai Jenkins Has Finally Given the World a Good Look at Baby Monaco - Yahoo Life</td>\n",
       "      <td>SheKnows</td>\n",
       "    </tr>\n",
       "    <tr>\n",
       "      <th>8</th>\n",
       "      <td>Hideki Matsuyama disqualified from the Memorial Tournament - PGA TOUR</td>\n",
       "      <td>pgatour.com</td>\n",
       "    </tr>\n",
       "    <tr>\n",
       "      <th>9</th>\n",
       "      <td>Avenatti sentenced to 4 years in prison for defrauding Stormy Daniels - The Washington Post</td>\n",
       "      <td>The Washington Post</td>\n",
       "    </tr>\n",
       "    <tr>\n",
       "      <th>10</th>\n",
       "      <td>Texas senator: School police chief didn't know of 911 calls - The Associated Press</td>\n",
       "      <td>Associated Press</td>\n",
       "    </tr>\n",
       "    <tr>\n",
       "      <th>11</th>\n",
       "      <td>A rare, 5-planet alignment will take over the sky this month - CNN</td>\n",
       "      <td>CNN</td>\n",
       "    </tr>\n",
       "    <tr>\n",
       "      <th>12</th>\n",
       "      <td>NASA just bought the rest of the space station crew flights from SpaceX - Ars Technica</td>\n",
       "      <td>Ars Technica</td>\n",
       "    </tr>\n",
       "    <tr>\n",
       "      <th>13</th>\n",
       "      <td>Ukraine live updates: Putin fires generals; Russia economy collapsing - USA TODAY</td>\n",
       "      <td>USA Today</td>\n",
       "    </tr>\n",
       "    <tr>\n",
       "      <th>14</th>\n",
       "      <td>Webb Space Telescope's First Full-Color Images Are Just Weeks Away - Gizmodo</td>\n",
       "      <td>Gizmodo.com</td>\n",
       "    </tr>\n",
       "    <tr>\n",
       "      <th>15</th>\n",
       "      <td>Mexico police arrest alleged serial killer who lured women with job offers - The Guardian</td>\n",
       "      <td>The Guardian</td>\n",
       "    </tr>\n",
       "    <tr>\n",
       "      <th>16</th>\n",
       "      <td>Family: 5 shot during funeral at Graceland Cemetery in Racine - TMJ4 News</td>\n",
       "      <td>WTMJ-TV</td>\n",
       "    </tr>\n",
       "    <tr>\n",
       "      <th>17</th>\n",
       "      <td>QB Ryan Fitzpatrick announces retirement after 17 seasons and nine teams - The Guardian</td>\n",
       "      <td>The Guardian</td>\n",
       "    </tr>\n",
       "    <tr>\n",
       "      <th>18</th>\n",
       "      <td>Wolfenstein: The New Order is free on the Epic Games Store - Polygon</td>\n",
       "      <td>Polygon</td>\n",
       "    </tr>\n",
       "    <tr>\n",
       "      <th>19</th>\n",
       "      <td>WWDC 2022 rumors: what to expect on iOS 16, Macs, and possibly Apple VR - The Verge</td>\n",
       "      <td>The Verge</td>\n",
       "    </tr>\n",
       "  </tbody>\n",
       "</table>\n",
       "</div>"
      ],
      "text/plain": [
       "                                                                                                                          title  \\\n",
       "0                                              Tulsa shooting gunman targeted surgeon he blamed for pain, police say - CBS News   \n",
       "1                             Celtics vs. Warriors prediction, pick, odds, spread, line for 2022 NBA Finals Game 1 - CBS Sports   \n",
       "2                                              Biden to Travel to Saudi Arabia, Ending Its 'Pariah' Status - The New York Times   \n",
       "3   PlayStation State of Play June 2022: Everything Announced Including Final Fantasy 16 and Resident Evil 4 Remake - IGN - IGN   \n",
       "4                                   CDC now recommends masking up indoors in Sacramento and 4 nearby counties - KCRA Sacramento   \n",
       "5                          Matthew Morrison reads alleged text sent to ‘SYTYCD’ contestant: ‘I have nothing to hide’ - Page Six   \n",
       "6                                              Prince Harry And Meghan Markle Seen Watching Trooping The Colour - BuzzFeed News   \n",
       "7                                       Jeannie Mai Jenkins Has Finally Given the World a Good Look at Baby Monaco - Yahoo Life   \n",
       "8                                                         Hideki Matsuyama disqualified from the Memorial Tournament - PGA TOUR   \n",
       "9                                   Avenatti sentenced to 4 years in prison for defrauding Stormy Daniels - The Washington Post   \n",
       "10                                           Texas senator: School police chief didn't know of 911 calls - The Associated Press   \n",
       "11                                                           A rare, 5-planet alignment will take over the sky this month - CNN   \n",
       "12                                       NASA just bought the rest of the space station crew flights from SpaceX - Ars Technica   \n",
       "13                                            Ukraine live updates: Putin fires generals; Russia economy collapsing - USA TODAY   \n",
       "14                                                 Webb Space Telescope's First Full-Color Images Are Just Weeks Away - Gizmodo   \n",
       "15                                    Mexico police arrest alleged serial killer who lured women with job offers - The Guardian   \n",
       "16                                                    Family: 5 shot during funeral at Graceland Cemetery in Racine - TMJ4 News   \n",
       "17                                      QB Ryan Fitzpatrick announces retirement after 17 seasons and nine teams - The Guardian   \n",
       "18                                                         Wolfenstein: The New Order is free on the Epic Games Store - Polygon   \n",
       "19                                          WWDC 2022 rumors: what to expect on iOS 16, Macs, and possibly Apple VR - The Verge   \n",
       "\n",
       "            source.name  \n",
       "0              CBS News  \n",
       "1            CBS Sports  \n",
       "2        New York Times  \n",
       "3                   IGN  \n",
       "4       KCRA Sacramento  \n",
       "5              Page Six  \n",
       "6         BuzzFeed News  \n",
       "7              SheKnows  \n",
       "8           pgatour.com  \n",
       "9   The Washington Post  \n",
       "10     Associated Press  \n",
       "11                  CNN  \n",
       "12         Ars Technica  \n",
       "13            USA Today  \n",
       "14          Gizmodo.com  \n",
       "15         The Guardian  \n",
       "16              WTMJ-TV  \n",
       "17         The Guardian  \n",
       "18              Polygon  \n",
       "19            The Verge  "
      ]
     },
     "execution_count": 6,
     "metadata": {},
     "output_type": "execute_result"
    }
   ],
   "source": [
    "headlines.loc[:,[\"title\",\"source.name\"]]"
   ]
  },
  {
   "cell_type": "code",
   "execution_count": 7,
   "metadata": {},
   "outputs": [
    {
     "data": {
      "text/html": [
       "<div>\n",
       "<style scoped>\n",
       "    .dataframe tbody tr th:only-of-type {\n",
       "        vertical-align: middle;\n",
       "    }\n",
       "\n",
       "    .dataframe tbody tr th {\n",
       "        vertical-align: top;\n",
       "    }\n",
       "\n",
       "    .dataframe thead th {\n",
       "        text-align: right;\n",
       "    }\n",
       "</style>\n",
       "<table border=\"1\" class=\"dataframe\">\n",
       "  <thead>\n",
       "    <tr style=\"text-align: right;\">\n",
       "      <th></th>\n",
       "      <th>title</th>\n",
       "    </tr>\n",
       "  </thead>\n",
       "  <tbody>\n",
       "    <tr>\n",
       "      <th>0</th>\n",
       "      <td>Gun control laws are the 'hypocrisy of the left': Rep. Steube</td>\n",
       "    </tr>\n",
       "    <tr>\n",
       "      <th>1</th>\n",
       "      <td>Aaron Rodgers says he routinely thinks about retirement and can 'definitely see the end coming'</td>\n",
       "    </tr>\n",
       "    <tr>\n",
       "      <th>2</th>\n",
       "      <td>'Joe Biden showed that he did not respect the Constitution': Mollie Hemingway</td>\n",
       "    </tr>\n",
       "    <tr>\n",
       "      <th>3</th>\n",
       "      <td>Leon Panetta calls on Biden to admit he 'made a mistake' on inflation</td>\n",
       "    </tr>\n",
       "    <tr>\n",
       "      <th>4</th>\n",
       "      <td>Biden says Second Amendment is 'not absolute' in call to reinstate assault weapons ban</td>\n",
       "    </tr>\n",
       "    <tr>\n",
       "      <th>5</th>\n",
       "      <td>Swing district Dems break with Pelosi, call for gun package to be split into smaller bills</td>\n",
       "    </tr>\n",
       "    <tr>\n",
       "      <th>6</th>\n",
       "      <td>Cavuto: Queen Elizabeth is remarkably resilient</td>\n",
       "    </tr>\n",
       "    <tr>\n",
       "      <th>7</th>\n",
       "      <td>Dr. Birx: Natural immunity declines with each COVID surge</td>\n",
       "    </tr>\n",
       "    <tr>\n",
       "      <th>8</th>\n",
       "      <td>Vladimir Putin and his troops 'behaving appallingly:' Nigel Farage</td>\n",
       "    </tr>\n",
       "    <tr>\n",
       "      <th>9</th>\n",
       "      <td>Queen Elizabeth's Platinum Jubilee: Her Majesty will not attend the Service of Thanksgiving</td>\n",
       "    </tr>\n",
       "  </tbody>\n",
       "</table>\n",
       "</div>"
      ],
      "text/plain": [
       "                                                                                             title\n",
       "0                                    Gun control laws are the 'hypocrisy of the left': Rep. Steube\n",
       "1  Aaron Rodgers says he routinely thinks about retirement and can 'definitely see the end coming'\n",
       "2                    'Joe Biden showed that he did not respect the Constitution': Mollie Hemingway\n",
       "3                            Leon Panetta calls on Biden to admit he 'made a mistake' on inflation\n",
       "4           Biden says Second Amendment is 'not absolute' in call to reinstate assault weapons ban\n",
       "5       Swing district Dems break with Pelosi, call for gun package to be split into smaller bills\n",
       "6                                                  Cavuto: Queen Elizabeth is remarkably resilient\n",
       "7                                        Dr. Birx: Natural immunity declines with each COVID surge\n",
       "8                               Vladimir Putin and his troops 'behaving appallingly:' Nigel Farage\n",
       "9      Queen Elizabeth's Platinum Jubilee: Her Majesty will not attend the Service of Thanksgiving"
      ]
     },
     "execution_count": 7,
     "metadata": {},
     "output_type": "execute_result"
    }
   ],
   "source": [
    "FN = newsapi.get_top_headlines(sources='fox-news')\n",
    "FoxNews = pd.json_normalize(FN, record_path =['articles'])\n",
    "FoxNews.loc[:,[\"title\"]]"
   ]
  },
  {
   "cell_type": "code",
   "execution_count": 8,
   "metadata": {},
   "outputs": [
    {
     "data": {
      "text/html": [
       "<div>\n",
       "<style scoped>\n",
       "    .dataframe tbody tr th:only-of-type {\n",
       "        vertical-align: middle;\n",
       "    }\n",
       "\n",
       "    .dataframe tbody tr th {\n",
       "        vertical-align: top;\n",
       "    }\n",
       "\n",
       "    .dataframe thead th {\n",
       "        text-align: right;\n",
       "    }\n",
       "</style>\n",
       "<table border=\"1\" class=\"dataframe\">\n",
       "  <thead>\n",
       "    <tr style=\"text-align: right;\">\n",
       "      <th></th>\n",
       "      <th>title</th>\n",
       "    </tr>\n",
       "  </thead>\n",
       "  <tbody>\n",
       "    <tr>\n",
       "      <th>0</th>\n",
       "      <td>Jan. 6 committee sets prime-time hearing date for findings</td>\n",
       "    </tr>\n",
       "    <tr>\n",
       "      <th>1</th>\n",
       "      <td>Immersed in crisis, Peru neglects Amazon's destruction</td>\n",
       "    </tr>\n",
       "    <tr>\n",
       "      <th>2</th>\n",
       "      <td>Texas senator: School police chief didn't know of 911 calls</td>\n",
       "    </tr>\n",
       "    <tr>\n",
       "      <th>3</th>\n",
       "      <td>Biden appeals for tougher gun laws: 'How much more carnage?'</td>\n",
       "    </tr>\n",
       "    <tr>\n",
       "      <th>4</th>\n",
       "      <td>Novavax hopes its COVID shot wins over FDA, vaccine holdouts</td>\n",
       "    </tr>\n",
       "    <tr>\n",
       "      <th>5</th>\n",
       "      <td>Police: Tulsa gunman targeted surgeon he blamed for pain</td>\n",
       "    </tr>\n",
       "    <tr>\n",
       "      <th>6</th>\n",
       "      <td>Queen Elizabeth II to miss Jubilee service amid 'discomfort'</td>\n",
       "    </tr>\n",
       "    <tr>\n",
       "      <th>7</th>\n",
       "      <td>Debt wiped for Corinthian students as bigger decisions loom</td>\n",
       "    </tr>\n",
       "    <tr>\n",
       "      <th>8</th>\n",
       "      <td>Unsparing images from Ukraine show war at the 100-day mark</td>\n",
       "    </tr>\n",
       "    <tr>\n",
       "      <th>9</th>\n",
       "      <td>Lawyer: Heard was 'demonized' by Depp team, social media</td>\n",
       "    </tr>\n",
       "  </tbody>\n",
       "</table>\n",
       "</div>"
      ],
      "text/plain": [
       "                                                          title\n",
       "0    Jan. 6 committee sets prime-time hearing date for findings\n",
       "1        Immersed in crisis, Peru neglects Amazon's destruction\n",
       "2   Texas senator: School police chief didn't know of 911 calls\n",
       "3  Biden appeals for tougher gun laws: 'How much more carnage?'\n",
       "4  Novavax hopes its COVID shot wins over FDA, vaccine holdouts\n",
       "5      Police: Tulsa gunman targeted surgeon he blamed for pain\n",
       "6  Queen Elizabeth II to miss Jubilee service amid 'discomfort'\n",
       "7   Debt wiped for Corinthian students as bigger decisions loom\n",
       "8    Unsparing images from Ukraine show war at the 100-day mark\n",
       "9      Lawyer: Heard was 'demonized' by Depp team, social media"
      ]
     },
     "execution_count": 8,
     "metadata": {},
     "output_type": "execute_result"
    }
   ],
   "source": [
    "AP = newsapi.get_top_headlines(sources='associated-press')\n",
    "apNews = pd.json_normalize(AP, record_path =['articles'])\n",
    "apNews.loc[:,['title']]"
   ]
  }
 ],
 "metadata": {
  "interpreter": {
   "hash": "60951fe2ccac1c258907b209f658f6ef884c93d9ccb3f36667a6035df696e51a"
  },
  "kernelspec": {
   "display_name": "Python 3.8.13 ('NLP')",
   "language": "python",
   "name": "python3"
  },
  "language_info": {
   "codemirror_mode": {
    "name": "ipython",
    "version": 3
   },
   "file_extension": ".py",
   "mimetype": "text/x-python",
   "name": "python",
   "nbconvert_exporter": "python",
   "pygments_lexer": "ipython3",
   "version": "3.8.13"
  },
  "orig_nbformat": 4
 },
 "nbformat": 4,
 "nbformat_minor": 2
}
