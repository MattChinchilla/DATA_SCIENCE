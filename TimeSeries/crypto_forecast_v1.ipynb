{
 "cells": [
  {
   "cell_type": "code",
   "execution_count": 1,
   "metadata": {},
   "outputs": [],
   "source": [
    "%run prophet_funcs_v1.py"
   ]
  },
  {
   "cell_type": "code",
   "execution_count": 130,
   "metadata": {},
   "outputs": [],
   "source": [
    "import pandas as pd\n",
    "import time\n",
    "from datetime import timedelta\n",
    "\n",
    "#get the time now in unix time\n",
    "now = int(time.time())\n",
    "\n",
    "#get the time one year from now datetime object\n",
    "day_lag = datetime.today() - timedelta(days = 120 )\n",
    "\n",
    "#convert datetime object to unix timestamp\n",
    "then = int(day_lag.timestamp())\n",
    "\n",
    "url = {\n",
    "    'SOL': F'https://query1.finance.yahoo.com/v7/finance/download/SOL1-USD?period1={then}&period2={now}&interval=1d&events=history&includeAdjustedClose=true',\n",
    "    'ETH': F'https://query1.finance.yahoo.com/v7/finance/download/ETH-USD?period1={then}&period2={now}&interval=1d&events=history&includeAdjustedClose=true',\n",
    "    'XRP': F'https://query1.finance.yahoo.com/v7/finance/download/XRP-USD?period1={then}&period2={now}&interval=1d&events=history&includeAdjustedClose=true',\n",
    "    'BTC': F'https://query1.finance.yahoo.com/v7/finance/download/BTC-USD?period1={then}&period2={now}&interval=1d&events=history&includeAdjustedClose=true'\n",
    "}\n",
    "\n",
    "\n"
   ]
  },
  {
   "cell_type": "code",
   "execution_count": 131,
   "metadata": {},
   "outputs": [],
   "source": [
    "'''Function to fetch data from yahoo via url dictionary of Ticker and Url'''\n",
    "\n",
    "def fetchData(url):\n",
    "    df = pd.DataFrame()\n",
    "    for i in url.items():\n",
    "        key = i[0] #get the Key values from dictionary in this case Crypto Ticker\n",
    "        val = i[1] #get the Value object from dictionary in this case Crypto Url\n",
    "        data = pd.read_csv(val)\n",
    "        data = data.assign(token = key) \n",
    "        df = df.append(data)\n",
    "    return(df)\n",
    "\n",
    "\n",
    "df2 = fetchData(url)"
   ]
  },
  {
   "cell_type": "markdown",
   "metadata": {},
   "source": [
    "# Try yFinance yahoo api"
   ]
  },
  {
   "cell_type": "code",
   "execution_count": 90,
   "metadata": {},
   "outputs": [
    {
     "name": "stdout",
     "output_type": "stream",
     "text": [
      "[*********************100%***********************]  1 of 1 completed\n",
      "[*********************100%***********************]  1 of 1 completed\n"
     ]
    }
   ],
   "source": [
    "import yfinance as yf\n",
    "import pandas as pd\n",
    "\n",
    "tickerStrings = ['SOL1-USD','BTC-USD']\n",
    "\n",
    "#start = \n",
    "period = '3mo'\n",
    "\n",
    "vars = tickerStrings,period\n",
    "\n",
    "def FetchData(vars):\n",
    "    tickerStrings,period = vars\n",
    "    df_list = list()\n",
    "    for ticker in tickerStrings:\n",
    "        data = yf.download(ticker, group_by=\"Ticker\", period = period)\n",
    "        data['ticker'] = ticker  # add this column because the dataframe doesn't contain a column with the ticker\n",
    "        df_list.append(data)\n",
    "        df = pd.concat(df_list) # combine all dataframes into a single dataframe\n",
    "    return(df)\n",
    "                                \n",
    "\n",
    "df = FetchData(vars)"
   ]
  },
  {
   "cell_type": "code",
   "execution_count": 29,
   "metadata": {},
   "outputs": [],
   "source": [
    "#Create a dictionary that contains the data for each ticker from the original data pull\n",
    "def get_splited_df_dict(df: 'df', split_column: 'ticker'):\n",
    "    \"\"\"\n",
    "    splits a pandas.DataFrame on split_column and returns it as a dict\n",
    "    \"\"\"\n",
    "\n",
    "    df_dict = {value: df[df[split_column] == value].drop(split_column, axis=1) for value in df[split_column].unique()}\n",
    "\n",
    "    return df_dict\n"
   ]
  },
  {
   "cell_type": "code",
   "execution_count": 30,
   "metadata": {},
   "outputs": [],
   "source": [
    "split = get_splited_df_dict(df,'ticker')"
   ]
  },
  {
   "cell_type": "code",
   "execution_count": 33,
   "metadata": {},
   "outputs": [
    {
     "name": "stdout",
     "output_type": "stream",
     "text": [
      "['SOL1-USD', 'BTC-USD']\n"
     ]
    }
   ],
   "source": [
    "listing=list(split)\n",
    "print(listing)"
   ]
  },
  {
   "cell_type": "code",
   "execution_count": 34,
   "metadata": {},
   "outputs": [
    {
     "name": "stdout",
     "output_type": "stream",
     "text": [
      "SOL1-USD\n",
      "                  Open        High         Low       Close   Adj Close  \\\n",
      "Date                                                                     \n",
      "2020-11-02    1.599840    1.630180    1.467695    1.474072    1.474072   \n",
      "2020-11-03    1.474072    1.480501    1.412186    1.412234    1.412234   \n",
      "2020-11-04    1.412234    1.412898    1.281868    1.392255    1.392255   \n",
      "2020-11-05    1.392255    1.486170    1.303825    1.405218    1.405218   \n",
      "2020-11-06    1.405218    1.940707    1.400011    1.913740    1.913740   \n",
      "...                ...         ...         ...         ...         ...   \n",
      "2021-10-29  194.906433  204.896606  194.906433  200.182755  200.182755   \n",
      "2021-10-30  200.225723  200.386230  187.816574  195.416061  195.416061   \n",
      "2021-10-31  195.773773  205.163376  186.062988  202.421021  202.421021   \n",
      "2021-11-01  202.629211  211.360840  198.238968  203.545090  203.545090   \n",
      "2021-11-02  202.875412  217.942337  201.187714  217.135254  217.135254   \n",
      "\n",
      "                Volume  \n",
      "Date                    \n",
      "2020-11-02     6366346  \n",
      "2020-11-03     6536977  \n",
      "2020-11-04    11406316  \n",
      "2020-11-05     8924132  \n",
      "2020-11-06    22547497  \n",
      "...                ...  \n",
      "2021-10-29  2468703579  \n",
      "2021-10-30  1732207667  \n",
      "2021-10-31  2577364486  \n",
      "2021-11-01  3157612663  \n",
      "2021-11-02  2614493184  \n",
      "\n",
      "[366 rows x 6 columns]\n",
      "BTC-USD\n",
      "                    Open          High           Low         Close  \\\n",
      "Date                                                                 \n",
      "2020-11-02  13737.032227  13808.323242  13243.160156  13550.489258   \n",
      "2020-11-03  13550.451172  13984.981445  13325.441406  13950.300781   \n",
      "2020-11-04  13950.488281  14218.766602  13580.471680  14133.707031   \n",
      "2020-11-05  14133.733398  15706.404297  14102.088867  15579.848633   \n",
      "2020-11-06  15579.729492  15903.437500  15226.839844  15565.880859   \n",
      "...                  ...           ...           ...           ...   \n",
      "2021-10-29  60624.871094  62927.609375  60329.964844  62227.964844   \n",
      "2021-10-30  62239.363281  62330.144531  60918.386719  61888.832031   \n",
      "2021-10-31  61850.488281  62406.171875  60074.328125  61318.957031   \n",
      "2021-11-01  61320.449219  62419.003906  59695.183594  61004.406250   \n",
      "2021-11-02  60998.761719  64155.492188  60718.570312  63288.703125   \n",
      "\n",
      "               Adj Close       Volume  \n",
      "Date                                   \n",
      "2020-11-02  13550.489258  30771455468  \n",
      "2020-11-03  13950.300781  29869951617  \n",
      "2020-11-04  14133.707031  35116364962  \n",
      "2020-11-05  15579.848633  40856321439  \n",
      "2020-11-06  15565.880859  39837841971  \n",
      "...                  ...          ...  \n",
      "2021-10-29  62227.964844  36856881767  \n",
      "2021-10-30  61888.832031  32157938616  \n",
      "2021-10-31  61318.957031  32241199927  \n",
      "2021-11-01  61004.406250  36150572843  \n",
      "2021-11-02  63288.703125  36651077632  \n",
      "\n",
      "[366 rows x 6 columns]\n"
     ]
    }
   ],
   "source": [
    "for l in listing:\n",
    " df2= split[l]\n",
    " print(l)\n",
    " print (df2)"
   ]
  },
  {
   "cell_type": "code",
   "execution_count": 32,
   "metadata": {},
   "outputs": [
    {
     "data": {
      "text/html": [
       "<div>\n",
       "<style scoped>\n",
       "    .dataframe tbody tr th:only-of-type {\n",
       "        vertical-align: middle;\n",
       "    }\n",
       "\n",
       "    .dataframe tbody tr th {\n",
       "        vertical-align: top;\n",
       "    }\n",
       "\n",
       "    .dataframe thead th {\n",
       "        text-align: right;\n",
       "    }\n",
       "</style>\n",
       "<table border=\"1\" class=\"dataframe\">\n",
       "  <thead>\n",
       "    <tr style=\"text-align: right;\">\n",
       "      <th></th>\n",
       "      <th>Open</th>\n",
       "      <th>High</th>\n",
       "      <th>Low</th>\n",
       "      <th>Close</th>\n",
       "      <th>Adj Close</th>\n",
       "      <th>Volume</th>\n",
       "    </tr>\n",
       "    <tr>\n",
       "      <th>Date</th>\n",
       "      <th></th>\n",
       "      <th></th>\n",
       "      <th></th>\n",
       "      <th></th>\n",
       "      <th></th>\n",
       "      <th></th>\n",
       "    </tr>\n",
       "  </thead>\n",
       "  <tbody>\n",
       "    <tr>\n",
       "      <th>2020-11-02</th>\n",
       "      <td>13737.032227</td>\n",
       "      <td>13808.323242</td>\n",
       "      <td>13243.160156</td>\n",
       "      <td>13550.489258</td>\n",
       "      <td>13550.489258</td>\n",
       "      <td>30771455468</td>\n",
       "    </tr>\n",
       "    <tr>\n",
       "      <th>2020-11-03</th>\n",
       "      <td>13550.451172</td>\n",
       "      <td>13984.981445</td>\n",
       "      <td>13325.441406</td>\n",
       "      <td>13950.300781</td>\n",
       "      <td>13950.300781</td>\n",
       "      <td>29869951617</td>\n",
       "    </tr>\n",
       "    <tr>\n",
       "      <th>2020-11-04</th>\n",
       "      <td>13950.488281</td>\n",
       "      <td>14218.766602</td>\n",
       "      <td>13580.471680</td>\n",
       "      <td>14133.707031</td>\n",
       "      <td>14133.707031</td>\n",
       "      <td>35116364962</td>\n",
       "    </tr>\n",
       "    <tr>\n",
       "      <th>2020-11-05</th>\n",
       "      <td>14133.733398</td>\n",
       "      <td>15706.404297</td>\n",
       "      <td>14102.088867</td>\n",
       "      <td>15579.848633</td>\n",
       "      <td>15579.848633</td>\n",
       "      <td>40856321439</td>\n",
       "    </tr>\n",
       "    <tr>\n",
       "      <th>2020-11-06</th>\n",
       "      <td>15579.729492</td>\n",
       "      <td>15903.437500</td>\n",
       "      <td>15226.839844</td>\n",
       "      <td>15565.880859</td>\n",
       "      <td>15565.880859</td>\n",
       "      <td>39837841971</td>\n",
       "    </tr>\n",
       "  </tbody>\n",
       "</table>\n",
       "</div>"
      ],
      "text/plain": [
       "                    Open          High           Low         Close  \\\n",
       "Date                                                                 \n",
       "2020-11-02  13737.032227  13808.323242  13243.160156  13550.489258   \n",
       "2020-11-03  13550.451172  13984.981445  13325.441406  13950.300781   \n",
       "2020-11-04  13950.488281  14218.766602  13580.471680  14133.707031   \n",
       "2020-11-05  14133.733398  15706.404297  14102.088867  15579.848633   \n",
       "2020-11-06  15579.729492  15903.437500  15226.839844  15565.880859   \n",
       "\n",
       "               Adj Close       Volume  \n",
       "Date                                   \n",
       "2020-11-02  13550.489258  30771455468  \n",
       "2020-11-03  13950.300781  29869951617  \n",
       "2020-11-04  14133.707031  35116364962  \n",
       "2020-11-05  15579.848633  40856321439  \n",
       "2020-11-06  15565.880859  39837841971  "
      ]
     },
     "execution_count": 32,
     "metadata": {},
     "output_type": "execute_result"
    }
   ],
   "source": [
    "'''Below is an example of how to access each dictionary'''\n",
    "split['BTC-USD'].head()"
   ]
  },
  {
   "cell_type": "code",
   "execution_count": 35,
   "metadata": {},
   "outputs": [],
   "source": [
    "BTC = split['BTC-USD']"
   ]
  },
  {
   "cell_type": "code",
   "execution_count": 152,
   "metadata": {},
   "outputs": [
    {
     "name": "stdout",
     "output_type": "stream",
     "text": [
      "[*********************100%***********************]  1 of 1 completed\n",
      "[*********************100%***********************]  1 of 1 completed\n",
      "[*********************100%***********************]  1 of 1 completed\n",
      "[*********************100%***********************]  1 of 1 completed\n",
      "[*********************100%***********************]  1 of 1 completed\n"
     ]
    }
   ],
   "source": [
    "tickerStrings = ['SOL1-USD','BTC-USD','ETH-USD','1INCH-USD','ADA-USD']\n",
    "\n",
    "#start = \n",
    "period = '3mo'\n",
    "\n",
    "vars = tickerStrings,period\n",
    "\n",
    "\n",
    "#Create a dictionary that contains the data for each ticker from the original data pull\n",
    "def FetchData_dict(vars):\n",
    "    tickerStrings,period = vars\n",
    "    df_list = list()\n",
    "    for ticker in tickerStrings:\n",
    "        data = yf.download(ticker, group_by=\"Ticker\", period = period)\n",
    "        data['ticker'] = ticker  # add this column because the dataframe doesn't contain a column with the ticker\n",
    "        df_list.append(data)\n",
    "        df = pd.concat(df_list) # combine all dataframes into a single dataframe\n",
    "        df_dict = {value: df[df['ticker'] == value].drop('ticker', axis=1) for value in df['ticker'].unique()}\n",
    "    return(df_dict)\n",
    "\n",
    "sample_dict = FetchData_dict(vars)"
   ]
  },
  {
   "cell_type": "code",
   "execution_count": 153,
   "metadata": {},
   "outputs": [
    {
     "data": {
      "text/plain": [
       "['SOL1-USD', 'BTC-USD', 'ETH-USD', '1INCH-USD', 'ADA-USD']"
      ]
     },
     "execution_count": 153,
     "metadata": {},
     "output_type": "execute_result"
    }
   ],
   "source": [
    "tickers = list(sample_dict)\n",
    "tickers"
   ]
  },
  {
   "cell_type": "code",
   "execution_count": 150,
   "metadata": {},
   "outputs": [
    {
     "data": {
      "text/html": [
       "<div>\n",
       "<style scoped>\n",
       "    .dataframe tbody tr th:only-of-type {\n",
       "        vertical-align: middle;\n",
       "    }\n",
       "\n",
       "    .dataframe tbody tr th {\n",
       "        vertical-align: top;\n",
       "    }\n",
       "\n",
       "    .dataframe thead th {\n",
       "        text-align: right;\n",
       "    }\n",
       "</style>\n",
       "<table border=\"1\" class=\"dataframe\">\n",
       "  <thead>\n",
       "    <tr style=\"text-align: right;\">\n",
       "      <th></th>\n",
       "      <th>Open</th>\n",
       "      <th>High</th>\n",
       "      <th>Low</th>\n",
       "      <th>Close</th>\n",
       "      <th>Adj Close</th>\n",
       "      <th>Volume</th>\n",
       "    </tr>\n",
       "    <tr>\n",
       "      <th>Date</th>\n",
       "      <th></th>\n",
       "      <th></th>\n",
       "      <th></th>\n",
       "      <th></th>\n",
       "      <th></th>\n",
       "      <th></th>\n",
       "    </tr>\n",
       "  </thead>\n",
       "  <tbody>\n",
       "    <tr>\n",
       "      <th>2021-10-31</th>\n",
       "      <td>61850.488281</td>\n",
       "      <td>62406.171875</td>\n",
       "      <td>60074.328125</td>\n",
       "      <td>61318.957031</td>\n",
       "      <td>61318.957031</td>\n",
       "      <td>32241199927</td>\n",
       "    </tr>\n",
       "    <tr>\n",
       "      <th>2021-11-01</th>\n",
       "      <td>61320.449219</td>\n",
       "      <td>62419.003906</td>\n",
       "      <td>59695.183594</td>\n",
       "      <td>61004.406250</td>\n",
       "      <td>61004.406250</td>\n",
       "      <td>36150572843</td>\n",
       "    </tr>\n",
       "    <tr>\n",
       "      <th>2021-11-02</th>\n",
       "      <td>60963.253906</td>\n",
       "      <td>64242.792969</td>\n",
       "      <td>60673.054688</td>\n",
       "      <td>63226.402344</td>\n",
       "      <td>63226.402344</td>\n",
       "      <td>37746665647</td>\n",
       "    </tr>\n",
       "    <tr>\n",
       "      <th>2021-11-03</th>\n",
       "      <td>63254.335938</td>\n",
       "      <td>63516.937500</td>\n",
       "      <td>61184.238281</td>\n",
       "      <td>62970.046875</td>\n",
       "      <td>62970.046875</td>\n",
       "      <td>36124731509</td>\n",
       "    </tr>\n",
       "    <tr>\n",
       "      <th>2021-11-04</th>\n",
       "      <td>62898.691406</td>\n",
       "      <td>63088.773438</td>\n",
       "      <td>62377.062500</td>\n",
       "      <td>62784.191406</td>\n",
       "      <td>62784.191406</td>\n",
       "      <td>35683053568</td>\n",
       "    </tr>\n",
       "  </tbody>\n",
       "</table>\n",
       "</div>"
      ],
      "text/plain": [
       "                    Open          High           Low         Close  \\\n",
       "Date                                                                 \n",
       "2021-10-31  61850.488281  62406.171875  60074.328125  61318.957031   \n",
       "2021-11-01  61320.449219  62419.003906  59695.183594  61004.406250   \n",
       "2021-11-02  60963.253906  64242.792969  60673.054688  63226.402344   \n",
       "2021-11-03  63254.335938  63516.937500  61184.238281  62970.046875   \n",
       "2021-11-04  62898.691406  63088.773438  62377.062500  62784.191406   \n",
       "\n",
       "               Adj Close       Volume  \n",
       "Date                                   \n",
       "2021-10-31  61318.957031  32241199927  \n",
       "2021-11-01  61004.406250  36150572843  \n",
       "2021-11-02  63226.402344  37746665647  \n",
       "2021-11-03  62970.046875  36124731509  \n",
       "2021-11-04  62784.191406  35683053568  "
      ]
     },
     "execution_count": 150,
     "metadata": {},
     "output_type": "execute_result"
    }
   ],
   "source": [
    "sample_dict['BTC-USD'].tail()"
   ]
  },
  {
   "cell_type": "markdown",
   "metadata": {},
   "source": [
    "# plots"
   ]
  },
  {
   "cell_type": "code",
   "execution_count": 38,
   "metadata": {},
   "outputs": [
    {
     "data": {
      "image/png": "[encoded data removed]",
      "text/plain": [
       "<Figure size 800x575 with 4 Axes>"
      ]
     },
     "metadata": {},
     "output_type": "display_data"
    }
   ],
   "source": [
    "#try mplfinance\n",
    "import mplfinance as mpf\n",
    "\n",
    "mpf.plot(split['SOL1-USD'],type = 'line',volume = True,mav = (10,30))"
   ]
  },
  {
   "cell_type": "markdown",
   "metadata": {},
   "source": [
    "# Python Widgets for plots"
   ]
  },
  {
   "cell_type": "code",
   "execution_count": 154,
   "metadata": {},
   "outputs": [
    {
     "data": {
      "application/vnd.jupyter.widget-view+json": {
       "model_id": "2fbf4d06900b4add9985eb70190df7ab",
       "version_major": 2,
       "version_minor": 0
      },
      "text/plain": [
       "interactive(children=(Dropdown(description='Tickers', options=('SOL1-USD', 'BTC-USD', 'ETH-USD', '1INCH-USD', …"
      ]
     },
     "metadata": {},
     "output_type": "display_data"
    }
   ],
   "source": [
    "@interact (Tickers = tickers, Plot_Type = ['ohlc','line','hollow_and_filled','renko','pnf'])\n",
    "\n",
    "\n",
    "def PlotIt(Tickers,Plot_Type):\n",
    "    mpf.plot(sample_dict[Tickers],type = Plot_Type,volume = False,figratio = (100,40),style = 'yahoo')\n",
    "    mpf.plot(sample_dict[Tickers],type = Plot_Type,volume = True,mav = 3,figratio = (100,40),style = 'yahoo',title = Tickers + ' Plot With Moving Average')"
   ]
  }
 ],
 "metadata": {
  "interpreter": {
   "hash": "c09812699b111b979a2abee38c127f10a16723f5a92d70f3d4b17adfc28da477"
  },
  "kernelspec": {
   "display_name": "Python 3.8.12 64-bit ('TimeSeries': conda)",
   "name": "python3"
  },
  "language_info": {
   "codemirror_mode": {
    "name": "ipython",
    "version": 3
   },
   "file_extension": ".py",
   "mimetype": "text/x-python",
   "name": "python",
   "nbconvert_exporter": "python",
   "pygments_lexer": "ipython3",
   "version": "3.8.12"
  },
  "orig_nbformat": 4
 },
 "nbformat": 4,
 "nbformat_minor": 2
}
