{
 "cells": [
  {
   "cell_type": "code",
   "execution_count": 1,
   "metadata": {},
   "outputs": [],
   "source": [
    "%run prophet_funcs_v1.py"
   ]
  },
  {
   "cell_type": "code",
   "execution_count": 130,
   "metadata": {},
   "outputs": [],
   "source": [
    "import pandas as pd\n",
    "import time\n",
    "from datetime import timedelta\n",
    "\n",
    "#get the time now in unix time\n",
    "now = int(time.time())\n",
    "\n",
    "#get the time one year from now datetime object\n",
    "day_lag = datetime.today() - timedelta(days = 120 )\n",
    "\n",
    "#convert datetime object to unix timestamp\n",
    "then = int(day_lag.timestamp())\n",
    "\n",
    "url = {\n",
    "    'SOL': F'https://query1.finance.yahoo.com/v7/finance/download/SOL1-USD?period1={then}&period2={now}&interval=1d&events=history&includeAdjustedClose=true',\n",
    "    'ETH': F'https://query1.finance.yahoo.com/v7/finance/download/ETH-USD?period1={then}&period2={now}&interval=1d&events=history&includeAdjustedClose=true',\n",
    "    'XRP': F'https://query1.finance.yahoo.com/v7/finance/download/XRP-USD?period1={then}&period2={now}&interval=1d&events=history&includeAdjustedClose=true',\n",
    "    'BTC': F'https://query1.finance.yahoo.com/v7/finance/download/BTC-USD?period1={then}&period2={now}&interval=1d&events=history&includeAdjustedClose=true'\n",
    "}\n",
    "\n",
    "\n"
   ]
  },
  {
   "cell_type": "code",
   "execution_count": 1,
   "metadata": {},
   "outputs": [],
   "source": [
    "'''Function to fetch data from yahoo via url dictionary of Ticker and Url'''\n",
    "\n",
    "def fetchData(url):\n",
    "    df = pd.DataFrame()\n",
    "    for i in url.items():\n",
    "        key = i[0] #get the Key values from dictionary in this case Crypto Ticker\n",
    "        val = i[1] #get the Value object from dictionary in this case Crypto Url\n",
    "        data = pd.read_csv(val)\n",
    "        data = data.assign(token = key) \n",
    "        df = df.append(data)\n",
    "    return(df)\n",
    "\n",
    "\n",
    "#df2 = fetchData(url)"
   ]
  },
  {
   "cell_type": "markdown",
   "metadata": {},
   "source": [
    "# Try yFinance yahoo api"
   ]
  },
  {
   "cell_type": "code",
   "execution_count": 6,
   "metadata": {},
   "outputs": [
    {
     "name": "stdout",
     "output_type": "stream",
     "text": [
      "[*********************100%***********************]  1 of 1 completed\n",
      "[*********************100%***********************]  1 of 1 completed\n"
     ]
    }
   ],
   "source": [
    "'''\n",
    "Return data frame\n",
    "'''\n",
    "\n",
    "import yfinance as yf\n",
    "import pandas as pd\n",
    "\n",
    "tickerStrings = ['SOL1-USD','BTC-USD']\n",
    "\n",
    "#start = \n",
    "period = '1mo'\n",
    "\n",
    "vars = tickerStrings,period\n",
    "\n",
    "def FetchData(vars):\n",
    "    tickerStrings,period = vars\n",
    "    df_list = list()\n",
    "    for ticker in tickerStrings:\n",
    "        data = yf.download(ticker, group_by=\"Ticker\", period = period)\n",
    "        data['ticker'] = ticker  # add this column because the dataframe doesn't contain a column with the ticker\n",
    "        df_list.append(data)\n",
    "        df = pd.concat(df_list) # combine all dataframes into a single dataframe\n",
    "    return(df)\n",
    "                                \n",
    "\n",
    "df = FetchData(vars)"
   ]
  },
  {
   "cell_type": "code",
   "execution_count": 2,
   "metadata": {},
   "outputs": [
    {
     "name": "stdout",
     "output_type": "stream",
     "text": [
      "[*********************100%***********************]  1 of 1 completed\n",
      "[*********************100%***********************]  1 of 1 completed\n",
      "[*********************100%***********************]  1 of 1 completed\n",
      "[*********************100%***********************]  1 of 1 completed\n",
      "[*********************100%***********************]  1 of 1 completed\n"
     ]
    },
    {
     "data": {
      "text/plain": [
       "['SOL1-USD', 'BTC-USD', 'ETH-USD', '1INCH-USD', 'ADA-USD']"
      ]
     },
     "execution_count": 2,
     "metadata": {},
     "output_type": "execute_result"
    }
   ],
   "source": [
    "'''\n",
    "Return dictionary\n",
    "'''\n",
    "\n",
    "tickerStrings = ['SOL1-USD','BTC-USD','ETH-USD','1INCH-USD','ADA-USD']\n",
    "\n",
    "#start = \n",
    "period = '1mo'\n",
    "\n",
    "vars = tickerStrings,period\n",
    "\n",
    "\n",
    "#Create a dictionary that contains the data for each ticker from the original data pull\n",
    "def FetchData_dict(vars):\n",
    "    tickerStrings,period = vars\n",
    "    df_list = list()\n",
    "    for ticker in tickerStrings:\n",
    "        data = yf.download(ticker, group_by=\"Ticker\", period = period)\n",
    "        data['ticker'] = ticker  # add this column because the dataframe doesn't contain a column with the ticker\n",
    "        df_list.append(data)\n",
    "        df = pd.concat(df_list) # combine all dataframes into a single dataframe\n",
    "        df_dict = {value: df[df['ticker'] == value].drop('ticker', axis=1) for value in df['ticker'].unique()}\n",
    "    return(df_dict)\n",
    "\n",
    "sample_dict = FetchData_dict(vars)\n",
    "\n",
    "tickers = list(sample_dict)\n",
    "tickers"
   ]
  },
  {
   "cell_type": "code",
   "execution_count": 3,
   "metadata": {},
   "outputs": [
    {
     "data": {
      "text/html": [
       "<div>\n",
       "<style scoped>\n",
       "    .dataframe tbody tr th:only-of-type {\n",
       "        vertical-align: middle;\n",
       "    }\n",
       "\n",
       "    .dataframe tbody tr th {\n",
       "        vertical-align: top;\n",
       "    }\n",
       "\n",
       "    .dataframe thead th {\n",
       "        text-align: right;\n",
       "    }\n",
       "</style>\n",
       "<table border=\"1\" class=\"dataframe\">\n",
       "  <thead>\n",
       "    <tr style=\"text-align: right;\">\n",
       "      <th></th>\n",
       "      <th>Open</th>\n",
       "      <th>High</th>\n",
       "      <th>Low</th>\n",
       "      <th>Close</th>\n",
       "      <th>Adj Close</th>\n",
       "      <th>Volume</th>\n",
       "    </tr>\n",
       "    <tr>\n",
       "      <th>Date</th>\n",
       "      <th></th>\n",
       "      <th></th>\n",
       "      <th></th>\n",
       "      <th></th>\n",
       "      <th></th>\n",
       "      <th></th>\n",
       "    </tr>\n",
       "  </thead>\n",
       "  <tbody>\n",
       "    <tr>\n",
       "      <th>2021-11-03</th>\n",
       "      <td>63254.335938</td>\n",
       "      <td>63516.937500</td>\n",
       "      <td>61184.238281</td>\n",
       "      <td>62970.046875</td>\n",
       "      <td>62970.046875</td>\n",
       "      <td>36124731509</td>\n",
       "    </tr>\n",
       "    <tr>\n",
       "      <th>2021-11-04</th>\n",
       "      <td>62941.804688</td>\n",
       "      <td>63123.289062</td>\n",
       "      <td>60799.664062</td>\n",
       "      <td>61452.230469</td>\n",
       "      <td>61452.230469</td>\n",
       "      <td>32615846901</td>\n",
       "    </tr>\n",
       "    <tr>\n",
       "      <th>2021-11-05</th>\n",
       "      <td>61460.078125</td>\n",
       "      <td>62541.468750</td>\n",
       "      <td>60844.609375</td>\n",
       "      <td>61125.675781</td>\n",
       "      <td>61125.675781</td>\n",
       "      <td>30605102446</td>\n",
       "    </tr>\n",
       "    <tr>\n",
       "      <th>2021-11-06</th>\n",
       "      <td>61068.875000</td>\n",
       "      <td>61590.683594</td>\n",
       "      <td>60163.781250</td>\n",
       "      <td>61527.480469</td>\n",
       "      <td>61527.480469</td>\n",
       "      <td>29094934221</td>\n",
       "    </tr>\n",
       "    <tr>\n",
       "      <th>2021-11-07</th>\n",
       "      <td>61528.199219</td>\n",
       "      <td>63101.496094</td>\n",
       "      <td>61432.488281</td>\n",
       "      <td>63052.953125</td>\n",
       "      <td>63052.953125</td>\n",
       "      <td>24366667776</td>\n",
       "    </tr>\n",
       "  </tbody>\n",
       "</table>\n",
       "</div>"
      ],
      "text/plain": [
       "                    Open          High           Low         Close  \\\n",
       "Date                                                                 \n",
       "2021-11-03  63254.335938  63516.937500  61184.238281  62970.046875   \n",
       "2021-11-04  62941.804688  63123.289062  60799.664062  61452.230469   \n",
       "2021-11-05  61460.078125  62541.468750  60844.609375  61125.675781   \n",
       "2021-11-06  61068.875000  61590.683594  60163.781250  61527.480469   \n",
       "2021-11-07  61528.199219  63101.496094  61432.488281  63052.953125   \n",
       "\n",
       "               Adj Close       Volume  \n",
       "Date                                   \n",
       "2021-11-03  62970.046875  36124731509  \n",
       "2021-11-04  61452.230469  32615846901  \n",
       "2021-11-05  61125.675781  30605102446  \n",
       "2021-11-06  61527.480469  29094934221  \n",
       "2021-11-07  63052.953125  24366667776  "
      ]
     },
     "execution_count": 3,
     "metadata": {},
     "output_type": "execute_result"
    }
   ],
   "source": [
    "sample_dict['BTC-USD'].tail()"
   ]
  },
  {
   "cell_type": "markdown",
   "metadata": {},
   "source": [
    "# Python Widgets for plots"
   ]
  },
  {
   "cell_type": "code",
   "execution_count": 3,
   "metadata": {},
   "outputs": [
    {
     "data": {
      "application/vnd.jupyter.widget-view+json": {
       "model_id": "e2ce55695f9745a8a63b7fa2c789ee9f",
       "version_major": 2,
       "version_minor": 0
      },
      "text/plain": [
       "interactive(children=(SelectMultiple(description='tickerStrings', index=(0, 1, 2, 3, 4), options=('SOL1-USD', …"
      ]
     },
     "metadata": {},
     "output_type": "display_data"
    }
   ],
   "source": [
    "import ipywidgets as ipyw\n",
    "import yfinance as yf\n",
    "\n",
    "@ipyw.interact_manual (\n",
    "tickerStrings= ipyw.widgets.SelectMultiple(\n",
    "    options= ['SOL1-USD','BTC-USD','ETH-USD','1INCH-USD','ADA-USD'],\n",
    "    value= ['SOL1-USD','BTC-USD','ETH-USD','1INCH-USD','ADA-USD']),\n",
    "period= ['1d','5d','1mo','3mo','6mo','1y','2y','5y','10y','ytd','max']\n",
    ")\n",
    "\n",
    "\n",
    "def FetchData_dict(tickerStrings,period):\n",
    "    df_list = list()\n",
    "    for ticker in tickerStrings:\n",
    "        data = yf.download(ticker, group_by=\"Ticker\", period = period)\n",
    "        data['ticker'] = ticker  # add this column because the dataframe doesn't contain a column with the ticker\n",
    "        df_list.append(data)\n",
    "        df = pd.concat(df_list) # combine all dataframes into a single dataframe\n",
    "        df_dict = {value: df[df['ticker'] == value].drop('ticker', axis=1) for value in df['ticker'].unique()}"
   ]
  },
  {
   "cell_type": "code",
   "execution_count": 4,
   "metadata": {},
   "outputs": [
    {
     "data": {
      "application/vnd.jupyter.widget-view+json": {
       "model_id": "ecb3314127d74ce1a9b81a72eef5ddf1",
       "version_major": 2,
       "version_minor": 0
      },
      "text/plain": [
       "SelectMultiple(index=(0, 1, 2, 3, 4), options=('SOL1-USD', 'BTC-USD', 'ETH-USD', '1INCH-USD', 'ADA-USD'), valu…"
      ]
     },
     "metadata": {},
     "output_type": "display_data"
    },
    {
     "data": {
      "application/vnd.jupyter.widget-view+json": {
       "model_id": "bd31f772c7184f3d878ef9afd94ff171",
       "version_major": 2,
       "version_minor": 0
      },
      "text/plain": [
       "Dropdown(options=('1d', '5d', '1mo', '3mo', '6mo', '1y', '2y', '5y', '10y', 'ytd', 'max'), value='1d')"
      ]
     },
     "metadata": {},
     "output_type": "display_data"
    }
   ],
   "source": [
    "tickerStrings= ipyw.widgets.SelectMultiple(\n",
    "    options= ['SOL1-USD','BTC-USD','ETH-USD','1INCH-USD','ADA-USD'],\n",
    "    value= ['SOL1-USD','BTC-USD','ETH-USD','1INCH-USD','ADA-USD'])\n",
    "\n",
    "period= ipyw.widgets.Dropdown(\n",
    "    options= ['1d','5d','1mo','3mo','6mo','1y','2y','5y','10y','ytd','max'])\n",
    "\n",
    "display(tickerStrings,period)"
   ]
  },
  {
   "cell_type": "code",
   "execution_count": 3,
   "metadata": {},
   "outputs": [
    {
     "ename": "NameError",
     "evalue": "name 'tickers' is not defined",
     "output_type": "error",
     "traceback": [
      "\u001b[0;31m---------------------------------------------------------------------------\u001b[0m",
      "\u001b[0;31mNameError\u001b[0m                                 Traceback (most recent call last)",
      "\u001b[0;32m/var/folders/71/8rtftxrj1njcvdvj90ttmthc0000gn/T/ipykernel_984/961663219.py\u001b[0m in \u001b[0;36m<module>\u001b[0;34m\u001b[0m\n\u001b[1;32m      6\u001b[0m \u001b[0mMavg\u001b[0m \u001b[0;34m=\u001b[0m \u001b[0mipyw\u001b[0m\u001b[0;34m.\u001b[0m\u001b[0mwidgets\u001b[0m\u001b[0;34m.\u001b[0m\u001b[0mDropdown\u001b[0m\u001b[0;34m(\u001b[0m\u001b[0moptions\u001b[0m\u001b[0;34m=\u001b[0m\u001b[0;34m[\u001b[0m\u001b[0;34m(\u001b[0m\u001b[0;34m'5Day'\u001b[0m\u001b[0;34m,\u001b[0m \u001b[0;36m5\u001b[0m\u001b[0;34m)\u001b[0m\u001b[0;34m,\u001b[0m \u001b[0;34m(\u001b[0m\u001b[0;34m'10Day'\u001b[0m\u001b[0;34m,\u001b[0m \u001b[0;36m10\u001b[0m\u001b[0;34m)\u001b[0m\u001b[0;34m,\u001b[0m \u001b[0;34m(\u001b[0m\u001b[0;34m'30Day'\u001b[0m\u001b[0;34m,\u001b[0m \u001b[0;36m30\u001b[0m\u001b[0;34m)\u001b[0m\u001b[0;34m]\u001b[0m\u001b[0;34m,\u001b[0m\u001b[0mdescription\u001b[0m\u001b[0;34m=\u001b[0m\u001b[0;34m'Moving_Average:'\u001b[0m\u001b[0;34m)\u001b[0m\u001b[0;34m,\u001b[0m\u001b[0;34m\u001b[0m\u001b[0;34m\u001b[0m\u001b[0m\n\u001b[1;32m      7\u001b[0m \u001b[0mMA\u001b[0m \u001b[0;34m=\u001b[0m \u001b[0;32mTrue\u001b[0m\u001b[0;34m,\u001b[0m\u001b[0;34m\u001b[0m\u001b[0;34m\u001b[0m\u001b[0m\n\u001b[0;32m----> 8\u001b[0;31m \u001b[0mTickers\u001b[0m \u001b[0;34m=\u001b[0m \u001b[0mtickers\u001b[0m\u001b[0;34m,\u001b[0m\u001b[0;34m\u001b[0m\u001b[0;34m\u001b[0m\u001b[0m\n\u001b[0m\u001b[1;32m      9\u001b[0m \u001b[0mPlot_Type\u001b[0m \u001b[0;34m=\u001b[0m \u001b[0;34m[\u001b[0m\u001b[0;34m'hollow_and_filled'\u001b[0m\u001b[0;34m,\u001b[0m\u001b[0;34m'ohlc'\u001b[0m\u001b[0;34m,\u001b[0m\u001b[0;34m'line'\u001b[0m\u001b[0;34m,\u001b[0m\u001b[0;34m'renko'\u001b[0m\u001b[0;34m,\u001b[0m\u001b[0;34m'pnf'\u001b[0m\u001b[0;34m]\u001b[0m\u001b[0;34m\u001b[0m\u001b[0;34m\u001b[0m\u001b[0m\n\u001b[1;32m     10\u001b[0m )\n",
      "\u001b[0;31mNameError\u001b[0m: name 'tickers' is not defined"
     ]
    }
   ],
   "source": [
    "import ipywidgets as ipyw\n",
    "import mplfinance as mpf\n",
    "\n",
    "\n",
    "@ipyw.interact (\n",
    "Mavg = ipyw.widgets.Dropdown(options=[('5Day', 5), ('10Day', 10), ('30Day', 30)],description='Moving_Average:'),\n",
    "MA = True,\n",
    "Tickers = tickers,\n",
    "Plot_Type = ['hollow_and_filled','ohlc','line','renko','pnf']\n",
    ")\n",
    "\n",
    "def PlotIt(Tickers,Plot_Type,MA,Mavg):\n",
    "    if MA == True:\n",
    "      Mavg\n",
    "      mpf.plot(sample_dict[Tickers],type = Plot_Type,volume = True,mav = Mavg,figratio = (100,40),style = 'yahoo',title = (Tickers + ' Plot With Moving Average'))\n",
    "    else:\n",
    "      mpf.plot(sample_dict[Tickers],type = Plot_Type,volume = True,figratio = (100,40),style = 'yahoo',title = Tickers)\n",
    "        "
   ]
  },
  {
   "cell_type": "code",
   "execution_count": 60,
   "metadata": {},
   "outputs": [],
   "source": [
    "class foo(object):\n",
    "\n",
    "    def __init__(self, file1, file2):\n",
    "        self.filenames = [file1, file2]\n",
    "        self.file_dict = {\n",
    "                file1:pd.DataFrame(np.arange(5)),\n",
    "                file2:pd.DataFrame(np.arange(10,15))\n",
    "            }\n",
    "\n",
    "    def _create_widgets(self):\n",
    "        self.sel_file = widgets.SelectMultiple(description='Files',\n",
    "                                               options=self.filenames,\n",
    "                                               value=[self.filenames[0]],\n",
    "                                              )\n",
    "        self.button = widgets.Button(description=\"OK\")\n",
    "        self.button.on_click(self._on_button_clicked)\n",
    "\n",
    "    def _on_button_clicked(self, change):\n",
    "        self.out.clear_output()\n",
    "        self.df_objects = {}\n",
    "        with self.out:\n",
    "            for f in self.sel_file.value:\n",
    "                print(f)\n",
    "                display(self.file_dict[f])\n",
    "                self.df_objects[f] = self.file_dict[f]\n",
    "\n",
    "    def display_widgets(self):\n",
    "        self._create_widgets()\n",
    "        self.out = widgets.Output()  # this is the output widget in which the df is displayed\n",
    "        display(widgets.VBox(\n",
    "                            [\n",
    "                                self.sel_file,\n",
    "                                self.button,\n",
    "                                self.out\n",
    "                            ]\n",
    "                        )\n",
    "               )\n",
    "\n",
    "    def get_df_objects(self):\n",
    "        return self.df_objects"
   ]
  },
  {
   "cell_type": "code",
   "execution_count": 61,
   "metadata": {},
   "outputs": [
    {
     "ename": "NameError",
     "evalue": "name 'np' is not defined",
     "output_type": "error",
     "traceback": [
      "\u001b[0;31m---------------------------------------------------------------------------\u001b[0m",
      "\u001b[0;31mNameError\u001b[0m                                 Traceback (most recent call last)",
      "\u001b[0;32m/var/folders/31/c4d3ywf506l2txqb0hkxydsr0000gn/T/ipykernel_46555/4249849603.py\u001b[0m in \u001b[0;36m<module>\u001b[0;34m\u001b[0m\n\u001b[0;32m----> 1\u001b[0;31m \u001b[0msomething\u001b[0m \u001b[0;34m=\u001b[0m \u001b[0mfoo\u001b[0m\u001b[0;34m(\u001b[0m\u001b[0;34m'a'\u001b[0m\u001b[0;34m,\u001b[0m \u001b[0;34m'b'\u001b[0m\u001b[0;34m)\u001b[0m\u001b[0;34m\u001b[0m\u001b[0;34m\u001b[0m\u001b[0m\n\u001b[0m\u001b[1;32m      2\u001b[0m \u001b[0msomething\u001b[0m\u001b[0;34m.\u001b[0m\u001b[0mdisplay_widgets\u001b[0m\u001b[0;34m(\u001b[0m\u001b[0;34m)\u001b[0m\u001b[0;34m\u001b[0m\u001b[0;34m\u001b[0m\u001b[0m\n",
      "\u001b[0;32m/var/folders/31/c4d3ywf506l2txqb0hkxydsr0000gn/T/ipykernel_46555/463051715.py\u001b[0m in \u001b[0;36m__init__\u001b[0;34m(self, file1, file2)\u001b[0m\n\u001b[1;32m      4\u001b[0m         \u001b[0mself\u001b[0m\u001b[0;34m.\u001b[0m\u001b[0mfilenames\u001b[0m \u001b[0;34m=\u001b[0m \u001b[0;34m[\u001b[0m\u001b[0mfile1\u001b[0m\u001b[0;34m,\u001b[0m \u001b[0mfile2\u001b[0m\u001b[0;34m]\u001b[0m\u001b[0;34m\u001b[0m\u001b[0;34m\u001b[0m\u001b[0m\n\u001b[1;32m      5\u001b[0m         self.file_dict = {\n\u001b[0;32m----> 6\u001b[0;31m                 \u001b[0mfile1\u001b[0m\u001b[0;34m:\u001b[0m\u001b[0mpd\u001b[0m\u001b[0;34m.\u001b[0m\u001b[0mDataFrame\u001b[0m\u001b[0;34m(\u001b[0m\u001b[0mnp\u001b[0m\u001b[0;34m.\u001b[0m\u001b[0marange\u001b[0m\u001b[0;34m(\u001b[0m\u001b[0;36m5\u001b[0m\u001b[0;34m)\u001b[0m\u001b[0;34m)\u001b[0m\u001b[0;34m,\u001b[0m\u001b[0;34m\u001b[0m\u001b[0;34m\u001b[0m\u001b[0m\n\u001b[0m\u001b[1;32m      7\u001b[0m                 \u001b[0mfile2\u001b[0m\u001b[0;34m:\u001b[0m\u001b[0mpd\u001b[0m\u001b[0;34m.\u001b[0m\u001b[0mDataFrame\u001b[0m\u001b[0;34m(\u001b[0m\u001b[0mnp\u001b[0m\u001b[0;34m.\u001b[0m\u001b[0marange\u001b[0m\u001b[0;34m(\u001b[0m\u001b[0;36m10\u001b[0m\u001b[0;34m,\u001b[0m\u001b[0;36m15\u001b[0m\u001b[0;34m)\u001b[0m\u001b[0;34m)\u001b[0m\u001b[0;34m\u001b[0m\u001b[0;34m\u001b[0m\u001b[0m\n\u001b[1;32m      8\u001b[0m             }\n",
      "\u001b[0;31mNameError\u001b[0m: name 'np' is not defined"
     ]
    }
   ],
   "source": [
    "something = foo('a', 'b')\n",
    "something.display_widgets()"
   ]
  }
 ],
 "metadata": {
  "interpreter": {
   "hash": "c09812699b111b979a2abee38c127f10a16723f5a92d70f3d4b17adfc28da477"
  },
  "kernelspec": {
   "display_name": "Python 3.8.12 64-bit ('TimeSeries': conda)",
   "name": "python3"
  },
  "language_info": {
   "codemirror_mode": {
    "name": "ipython",
    "version": 3
   },
   "file_extension": ".py",
   "mimetype": "text/x-python",
   "name": "python",
   "nbconvert_exporter": "python",
   "pygments_lexer": "ipython3",
   "version": "3.8.12"
  },
  "orig_nbformat": 4
 },
 "nbformat": 4,
 "nbformat_minor": 2
}
