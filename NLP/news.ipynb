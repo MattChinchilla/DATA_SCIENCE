{
 "cells": [
  {
   "cell_type": "code",
   "execution_count": 20,
   "metadata": {},
   "outputs": [],
   "source": [
    "import pandas as pd\n",
    "import ipywidgets as ipyw\n",
    "from newsapi import NewsApiClient\n",
    "pd.set_option('display.max_colwidth',None)"
   ]
  },
  {
   "cell_type": "code",
   "execution_count": 2,
   "metadata": {},
   "outputs": [
    {
     "data": {
      "application/vnd.jupyter.widget-view+json": {
       "model_id": "ffe26a3023404608b9eb9d801f1ba454",
       "version_major": 2,
       "version_minor": 0
      },
      "text/plain": [
       "interactive(children=(Dropdown(description='category', options=('business', 'entertainment', 'general', 'healt…"
      ]
     },
     "metadata": {},
     "output_type": "display_data"
    }
   ],
   "source": [
    "@ipyw.interact_manual (category = ['business','entertainment','general','health','science','sports','technology'])\n",
    "\n",
    "def FetchHeadline_Category(category):\n",
    "    global headlines\n",
    "    newsapi = NewsApiClient(api_key='73ebfc322a0f4da68818b09690d705b3')\n",
    "    h = newsapi.get_top_headlines(country='us',category= category)\n",
    "    headlines = pd.json_normalize(h, record_path =['articles'])\n",
    "    return(headlines.loc[:,[\"title\",\"source.name\"]])\n"
   ]
  },
  {
   "cell_type": "code",
   "execution_count": 17,
   "metadata": {},
   "outputs": [
    {
     "data": {
      "text/plain": [
       "'Looking to invest in stocks with long-term value? Veteran investor\\xa0Mohnish Pabrai has two books to recommend.\\r\\nSpeaking to CNBC Pro Talks, Pabrai a value investor and disciple of billionaire Warren B… [+2102 chars]'"
      ]
     },
     "execution_count": 17,
     "metadata": {},
     "output_type": "execute_result"
    }
   ],
   "source": [
    "x = headlines.iloc[0,6]\n",
    "x\n"
   ]
  },
  {
   "cell_type": "code",
   "execution_count": 21,
   "metadata": {},
   "outputs": [],
   "source": [
    "# Init\n",
    "newsapi = NewsApiClient(api_key='73ebfc322a0f4da68818b09690d705b3')"
   ]
  },
  {
   "cell_type": "code",
   "execution_count": 3,
   "metadata": {},
   "outputs": [],
   "source": [
    "# /v2/top-headlines/sources\n",
    "s = newsapi.get_sources(language='en',country='us')\n",
    "sources = pd.json_normalize(s, record_path =['sources'])\n"
   ]
  },
  {
   "cell_type": "code",
   "execution_count": 4,
   "metadata": {},
   "outputs": [
    {
     "data": {
      "text/plain": [
       "array(['general', 'technology', 'sports', 'business', 'entertainment',\n",
       "       'health', 'science'], dtype=object)"
      ]
     },
     "execution_count": 4,
     "metadata": {},
     "output_type": "execute_result"
    }
   ],
   "source": [
    "sources.category.unique()"
   ]
  },
  {
   "cell_type": "code",
   "execution_count": 5,
   "metadata": {},
   "outputs": [],
   "source": [
    "#list of all the categories\n",
    "category = ['business','entertainment','general','health','science','sports','technology']\n",
    "\n",
    "h = newsapi.get_top_headlines(country='us',category='general')\n",
    "headlines = pd.json_normalize(h, record_path =['articles'])"
   ]
  },
  {
   "cell_type": "code",
   "execution_count": 6,
   "metadata": {},
   "outputs": [
    {
     "data": {
      "text/html": [
       "<div>\n",
       "<style scoped>\n",
       "    .dataframe tbody tr th:only-of-type {\n",
       "        vertical-align: middle;\n",
       "    }\n",
       "\n",
       "    .dataframe tbody tr th {\n",
       "        vertical-align: top;\n",
       "    }\n",
       "\n",
       "    .dataframe thead th {\n",
       "        text-align: right;\n",
       "    }\n",
       "</style>\n",
       "<table border=\"1\" class=\"dataframe\">\n",
       "  <thead>\n",
       "    <tr style=\"text-align: right;\">\n",
       "      <th></th>\n",
       "      <th>title</th>\n",
       "      <th>source.name</th>\n",
       "    </tr>\n",
       "  </thead>\n",
       "  <tbody>\n",
       "    <tr>\n",
       "      <th>0</th>\n",
       "      <td>Tulsa shooting gunman targeted surgeon he blamed for pain, police say - CBS News</td>\n",
       "      <td>CBS News</td>\n",
       "    </tr>\n",
       "    <tr>\n",
       "      <th>1</th>\n",
       "      <td>Celtics vs. Warriors prediction, pick, odds, spread, line for 2022 NBA Finals Game 1 - CBS Sports</td>\n",
       "      <td>CBS Sports</td>\n",
       "    </tr>\n",
       "    <tr>\n",
       "      <th>2</th>\n",
       "      <td>Biden to Travel to Saudi Arabia, Ending Its 'Pariah' Status - The New York Times</td>\n",
       "      <td>New York Times</td>\n",
       "    </tr>\n",
       "    <tr>\n",
       "      <th>3</th>\n",
       "      <td>PlayStation State of Play June 2022: Everything Announced Including Final Fantasy 16 and Resident Evil 4 Remake - IGN - IGN</td>\n",
       "      <td>IGN</td>\n",
       "    </tr>\n",
       "    <tr>\n",
       "      <th>4</th>\n",
       "      <td>CDC now recommends masking up indoors in Sacramento and 4 nearby counties - KCRA Sacramento</td>\n",
       "      <td>KCRA Sacramento</td>\n",
       "    </tr>\n",
       "    <tr>\n",
       "      <th>5</th>\n",
       "      <td>Matthew Morrison reads alleged text sent to ‘SYTYCD’ contestant: ‘I have nothing to hide’ - Page Six</td>\n",
       "      <td>Page Six</td>\n",
       "    </tr>\n",
       "    <tr>\n",
       "      <th>6</th>\n",
       "      <td>Prince Harry And Meghan Markle Seen Watching Trooping The Colour - BuzzFeed News</td>\n",
       "      <td>BuzzFeed News</td>\n",
       "    </tr>\n",
       "    <tr>\n",
       "      <th>7</th>\n",
       "      <td>Jeannie Mai Jenkins Has Finally Given the World a Good Look at Baby Monaco - Yahoo Life</td>\n",
       "      <td>SheKnows</td>\n",
       "    </tr>\n",
       "    <tr>\n",
       "      <th>8</th>\n",
       "      <td>Hideki Matsuyama disqualified from the Memorial Tournament - PGA TOUR</td>\n",
       "      <td>pgatour.com</td>\n",
       "    </tr>\n",
       "    <tr>\n",
       "      <th>9</th>\n",
       "      <td>Avenatti sentenced to 4 years in prison for defrauding Stormy Daniels - The Washington Post</td>\n",
       "      <td>The Washington Post</td>\n",
       "    </tr>\n",
       "    <tr>\n",
       "      <th>10</th>\n",
       "      <td>Texas senator: School police chief didn't know of 911 calls - The Associated Press</td>\n",
       "      <td>Associated Press</td>\n",
       "    </tr>\n",
       "    <tr>\n",
       "      <th>11</th>\n",
       "      <td>A rare, 5-planet alignment will take over the sky this month - CNN</td>\n",
       "      <td>CNN</td>\n",
       "    </tr>\n",
       "    <tr>\n",
       "      <th>12</th>\n",
       "      <td>NASA just bought the rest of the space station crew flights from SpaceX - Ars Technica</td>\n",
       "      <td>Ars Technica</td>\n",
       "    </tr>\n",
       "    <tr>\n",
       "      <th>13</th>\n",
       "      <td>Ukraine live updates: Putin fires generals; Russia economy collapsing - USA TODAY</td>\n",
       "      <td>USA Today</td>\n",
       "    </tr>\n",
       "    <tr>\n",
       "      <th>14</th>\n",
       "      <td>Webb Space Telescope's First Full-Color Images Are Just Weeks Away - Gizmodo</td>\n",
       "      <td>Gizmodo.com</td>\n",
       "    </tr>\n",
       "    <tr>\n",
       "      <th>15</th>\n",
       "      <td>Mexico police arrest alleged serial killer who lured women with job offers - The Guardian</td>\n",
       "      <td>The Guardian</td>\n",
       "    </tr>\n",
       "    <tr>\n",
       "      <th>16</th>\n",
       "      <td>Family: 5 shot during funeral at Graceland Cemetery in Racine - TMJ4 News</td>\n",
       "      <td>WTMJ-TV</td>\n",
       "    </tr>\n",
       "    <tr>\n",
       "      <th>17</th>\n",
       "      <td>QB Ryan Fitzpatrick announces retirement after 17 seasons and nine teams - The Guardian</td>\n",
       "      <td>The Guardian</td>\n",
       "    </tr>\n",
       "    <tr>\n",
       "      <th>18</th>\n",
       "      <td>Wolfenstein: The New Order is free on the Epic Games Store - Polygon</td>\n",
       "      <td>Polygon</td>\n",
       "    </tr>\n",
       "    <tr>\n",
       "      <th>19</th>\n",
       "      <td>WWDC 2022 rumors: what to expect on iOS 16, Macs, and possibly Apple VR - The Verge</td>\n",
       "      <td>The Verge</td>\n",
       "    </tr>\n",
       "  </tbody>\n",
       "</table>\n",
       "</div>"
      ],
      "text/plain": [
       "                                                                                                                          title  \\\n",
       "0                                              Tulsa shooting gunman targeted surgeon he blamed for pain, police say - CBS News   \n",
       "1                             Celtics vs. Warriors prediction, pick, odds, spread, line for 2022 NBA Finals Game 1 - CBS Sports   \n",
       "2                                              Biden to Travel to Saudi Arabia, Ending Its 'Pariah' Status - The New York Times   \n",
       "3   PlayStation State of Play June 2022: Everything Announced Including Final Fantasy 16 and Resident Evil 4 Remake - IGN - IGN   \n",
       "4                                   CDC now recommends masking up indoors in Sacramento and 4 nearby counties - KCRA Sacramento   \n",
       "5                          Matthew Morrison reads alleged text sent to ‘SYTYCD’ contestant: ‘I have nothing to hide’ - Page Six   \n",
       "6                                              Prince Harry And Meghan Markle Seen Watching Trooping The Colour - BuzzFeed News   \n",
       "7                                       Jeannie Mai Jenkins Has Finally Given the World a Good Look at Baby Monaco - Yahoo Life   \n",
       "8                                                         Hideki Matsuyama disqualified from the Memorial Tournament - PGA TOUR   \n",
       "9                                   Avenatti sentenced to 4 years in prison for defrauding Stormy Daniels - The Washington Post   \n",
       "10                                           Texas senator: School police chief didn't know of 911 calls - The Associated Press   \n",
       "11                                                           A rare, 5-planet alignment will take over the sky this month - CNN   \n",
       "12                                       NASA just bought the rest of the space station crew flights from SpaceX - Ars Technica   \n",
       "13                                            Ukraine live updates: Putin fires generals; Russia economy collapsing - USA TODAY   \n",
       "14                                                 Webb Space Telescope's First Full-Color Images Are Just Weeks Away - Gizmodo   \n",
       "15                                    Mexico police arrest alleged serial killer who lured women with job offers - The Guardian   \n",
       "16                                                    Family: 5 shot during funeral at Graceland Cemetery in Racine - TMJ4 News   \n",
       "17                                      QB Ryan Fitzpatrick announces retirement after 17 seasons and nine teams - The Guardian   \n",
       "18                                                         Wolfenstein: The New Order is free on the Epic Games Store - Polygon   \n",
       "19                                          WWDC 2022 rumors: what to expect on iOS 16, Macs, and possibly Apple VR - The Verge   \n",
       "\n",
       "            source.name  \n",
       "0              CBS News  \n",
       "1            CBS Sports  \n",
       "2        New York Times  \n",
       "3                   IGN  \n",
       "4       KCRA Sacramento  \n",
       "5              Page Six  \n",
       "6         BuzzFeed News  \n",
       "7              SheKnows  \n",
       "8           pgatour.com  \n",
       "9   The Washington Post  \n",
       "10     Associated Press  \n",
       "11                  CNN  \n",
       "12         Ars Technica  \n",
       "13            USA Today  \n",
       "14          Gizmodo.com  \n",
       "15         The Guardian  \n",
       "16              WTMJ-TV  \n",
       "17         The Guardian  \n",
       "18              Polygon  \n",
       "19            The Verge  "
      ]
     },
     "execution_count": 6,
     "metadata": {},
     "output_type": "execute_result"
    }
   ],
   "source": [
    "headlines.loc[:,[\"title\",\"source.name\"]]"
   ]
  },
  {
   "cell_type": "code",
   "execution_count": 22,
   "metadata": {},
   "outputs": [
    {
     "data": {
      "text/html": [
       "<div>\n",
       "<style scoped>\n",
       "    .dataframe tbody tr th:only-of-type {\n",
       "        vertical-align: middle;\n",
       "    }\n",
       "\n",
       "    .dataframe tbody tr th {\n",
       "        vertical-align: top;\n",
       "    }\n",
       "\n",
       "    .dataframe thead th {\n",
       "        text-align: right;\n",
       "    }\n",
       "</style>\n",
       "<table border=\"1\" class=\"dataframe\">\n",
       "  <thead>\n",
       "    <tr style=\"text-align: right;\">\n",
       "      <th></th>\n",
       "      <th>title</th>\n",
       "    </tr>\n",
       "  </thead>\n",
       "  <tbody>\n",
       "    <tr>\n",
       "      <th>0</th>\n",
       "      <td>Biden administration overrules Trump policy on Palestinians</td>\n",
       "    </tr>\n",
       "    <tr>\n",
       "      <th>1</th>\n",
       "      <td>Peter Navarro: I'm collateral damage</td>\n",
       "    </tr>\n",
       "    <tr>\n",
       "      <th>2</th>\n",
       "      <td>Jesse Watters: 'Napper-in-Chief' Biden hit the snooze button on a late night tradition</td>\n",
       "    </tr>\n",
       "    <tr>\n",
       "      <th>3</th>\n",
       "      <td>Meghan Markle, Prince Harry and Prince William, Kate Middleton kept their distance for this reason: Source</td>\n",
       "    </tr>\n",
       "    <tr>\n",
       "      <th>4</th>\n",
       "      <td>Jan. 6 hearings get underway Thursday evening</td>\n",
       "    </tr>\n",
       "    <tr>\n",
       "      <th>5</th>\n",
       "      <td>Clay Travis: Nobody is dealing with issues confronting the average American</td>\n",
       "    </tr>\n",
       "    <tr>\n",
       "      <th>6</th>\n",
       "      <td>Reporters sugarcoat Biden’s presidency so much it’s like they’re Willy Wonka: Judge Jeanine</td>\n",
       "    </tr>\n",
       "    <tr>\n",
       "      <th>7</th>\n",
       "      <td>Massachusetts to allow illegal immigrants to apply for driver’s licenses</td>\n",
       "    </tr>\n",
       "    <tr>\n",
       "      <th>8</th>\n",
       "      <td>Britney Spears' ex-husband arrested at her home ahead of third wedding to Sam Asghari</td>\n",
       "    </tr>\n",
       "    <tr>\n",
       "      <th>9</th>\n",
       "      <td>Protests at SCOTUS justices' homes falling hard on neighbors: Former deputy assistant attorney general</td>\n",
       "    </tr>\n",
       "  </tbody>\n",
       "</table>\n",
       "</div>"
      ],
      "text/plain": [
       "                                                                                                        title\n",
       "0                                                 Biden administration overrules Trump policy on Palestinians\n",
       "1                                                                        Peter Navarro: I'm collateral damage\n",
       "2                      Jesse Watters: 'Napper-in-Chief' Biden hit the snooze button on a late night tradition\n",
       "3  Meghan Markle, Prince Harry and Prince William, Kate Middleton kept their distance for this reason: Source\n",
       "4                                                               Jan. 6 hearings get underway Thursday evening\n",
       "5                                 Clay Travis: Nobody is dealing with issues confronting the average American\n",
       "6                 Reporters sugarcoat Biden’s presidency so much it’s like they’re Willy Wonka: Judge Jeanine\n",
       "7                                    Massachusetts to allow illegal immigrants to apply for driver’s licenses\n",
       "8                       Britney Spears' ex-husband arrested at her home ahead of third wedding to Sam Asghari\n",
       "9      Protests at SCOTUS justices' homes falling hard on neighbors: Former deputy assistant attorney general"
      ]
     },
     "execution_count": 22,
     "metadata": {},
     "output_type": "execute_result"
    }
   ],
   "source": [
    "FN = newsapi.get_top_headlines(sources='fox-news')\n",
    "FoxNews = pd.json_normalize(FN, record_path =['articles'])\n",
    "FoxNews.loc[:,[\"title\"]]"
   ]
  },
  {
   "cell_type": "code",
   "execution_count": 23,
   "metadata": {},
   "outputs": [
    {
     "data": {
      "text/html": [
       "<div>\n",
       "<style scoped>\n",
       "    .dataframe tbody tr th:only-of-type {\n",
       "        vertical-align: middle;\n",
       "    }\n",
       "\n",
       "    .dataframe tbody tr th {\n",
       "        vertical-align: top;\n",
       "    }\n",
       "\n",
       "    .dataframe thead th {\n",
       "        text-align: right;\n",
       "    }\n",
       "</style>\n",
       "<table border=\"1\" class=\"dataframe\">\n",
       "  <thead>\n",
       "    <tr style=\"text-align: right;\">\n",
       "      <th></th>\n",
       "      <th>title</th>\n",
       "    </tr>\n",
       "  </thead>\n",
       "  <tbody>\n",
       "    <tr>\n",
       "      <th>0</th>\n",
       "      <td>Report: Police knew of injured at Texas school while waiting</td>\n",
       "    </tr>\n",
       "    <tr>\n",
       "      <th>1</th>\n",
       "      <td>NASA launches study of UFOs despite 'reputational risk'</td>\n",
       "    </tr>\n",
       "    <tr>\n",
       "      <th>2</th>\n",
       "      <td>Coach's comments deal another blow to Commanders reputation</td>\n",
       "    </tr>\n",
       "    <tr>\n",
       "      <th>3</th>\n",
       "      <td>Authorities: 3 dead, trooper wounded in Maryland shooting</td>\n",
       "    </tr>\n",
       "    <tr>\n",
       "      <th>4</th>\n",
       "      <td>Gas prices close in on $5 a gallon in US, hit record in UK</td>\n",
       "    </tr>\n",
       "    <tr>\n",
       "      <th>5</th>\n",
       "      <td>Biden's inflation crunch: Too much shopping — even at beach</td>\n",
       "    </tr>\n",
       "    <tr>\n",
       "      <th>6</th>\n",
       "      <td>Justice Department opens probe into Louisiana State Police</td>\n",
       "    </tr>\n",
       "    <tr>\n",
       "      <th>7</th>\n",
       "      <td>Stocks tumble as rate pressures grow, inflation report looms</td>\n",
       "    </tr>\n",
       "    <tr>\n",
       "      <th>8</th>\n",
       "      <td>What we know about Trump's actions as insurrection unfolded</td>\n",
       "    </tr>\n",
       "    <tr>\n",
       "      <th>9</th>\n",
       "      <td>Michigan officer charged with murder in Lyoya shooting</td>\n",
       "    </tr>\n",
       "  </tbody>\n",
       "</table>\n",
       "</div>"
      ],
      "text/plain": [
       "                                                          title\n",
       "0  Report: Police knew of injured at Texas school while waiting\n",
       "1       NASA launches study of UFOs despite 'reputational risk'\n",
       "2   Coach's comments deal another blow to Commanders reputation\n",
       "3     Authorities: 3 dead, trooper wounded in Maryland shooting\n",
       "4    Gas prices close in on $5 a gallon in US, hit record in UK\n",
       "5   Biden's inflation crunch: Too much shopping — even at beach\n",
       "6    Justice Department opens probe into Louisiana State Police\n",
       "7  Stocks tumble as rate pressures grow, inflation report looms\n",
       "8   What we know about Trump's actions as insurrection unfolded\n",
       "9        Michigan officer charged with murder in Lyoya shooting"
      ]
     },
     "execution_count": 23,
     "metadata": {},
     "output_type": "execute_result"
    }
   ],
   "source": [
    "AP = newsapi.get_top_headlines(sources='associated-press')\n",
    "apNews = pd.json_normalize(AP, record_path =['articles'])\n",
    "apNews.loc[:,['title']]"
   ]
  }
 ],
 "metadata": {
  "interpreter": {
   "hash": "60951fe2ccac1c258907b209f658f6ef884c93d9ccb3f36667a6035df696e51a"
  },
  "kernelspec": {
   "display_name": "Python 3 (ipykernel)",
   "language": "python",
   "name": "python3"
  },
  "language_info": {
   "codemirror_mode": {
    "name": "ipython",
    "version": 3
   },
   "file_extension": ".py",
   "mimetype": "text/x-python",
   "name": "python",
   "nbconvert_exporter": "python",
   "pygments_lexer": "ipython3",
   "version": "3.8.13"
  }
 },
 "nbformat": 4,
 "nbformat_minor": 4
}
