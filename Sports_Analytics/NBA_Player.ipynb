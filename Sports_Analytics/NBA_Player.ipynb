{
 "cells": [
  {
   "cell_type": "code",
   "execution_count": 1,
   "metadata": {},
   "outputs": [],
   "source": [
    "import pandas as pd\n",
    "# settings to display all columns\n",
    "pd.set_option(\"display.max_columns\", None)"
   ]
  },
  {
   "cell_type": "code",
   "execution_count": 11,
   "metadata": {},
   "outputs": [],
   "source": [
    "from nba_api.stats.endpoints import commonallplayers"
   ]
  },
  {
   "cell_type": "code",
   "execution_count": 14,
   "metadata": {},
   "outputs": [
    {
     "ename": "JSONDecodeError",
     "evalue": "Expecting value: line 1 column 1 (char 0)",
     "output_type": "error",
     "traceback": [
      "\u001b[0;31m---------------------------------------------------------------------------\u001b[0m",
      "\u001b[0;31mJSONDecodeError\u001b[0m                           Traceback (most recent call last)",
      "\u001b[1;32m/Users/matt/Documents/GitHub/DATA_SCIENCE-1/Sports_Analytics/NBA_Player.ipynb Cell 3\u001b[0m in \u001b[0;36m<cell line: 1>\u001b[0;34m()\u001b[0m\n\u001b[0;32m----> <a href='vscode-notebook-cell:/Users/matt/Documents/GitHub/DATA_SCIENCE-1/Sports_Analytics/NBA_Player.ipynb#W2sZmlsZQ%3D%3D?line=0'>1</a>\u001b[0m commonallplayers \u001b[39m=\u001b[39m commonallplayers\u001b[39m.\u001b[39;49mCommonAllPlayers(league_id\u001b[39m=\u001b[39;49m\u001b[39m1610612742\u001b[39;49m)\n",
      "File \u001b[0;32m/opt/anaconda3/envs/Sports_Analytics/lib/python3.10/site-packages/nba_api/stats/endpoints/commonallplayers.py:34\u001b[0m, in \u001b[0;36mCommonAllPlayers.__init__\u001b[0;34m(self, is_only_current_season, league_id, season, proxy, headers, timeout, get_request)\u001b[0m\n\u001b[1;32m     28\u001b[0m \u001b[39mself\u001b[39m\u001b[39m.\u001b[39mparameters \u001b[39m=\u001b[39m {\n\u001b[1;32m     29\u001b[0m         \u001b[39m'\u001b[39m\u001b[39mIsOnlyCurrentSeason\u001b[39m\u001b[39m'\u001b[39m: is_only_current_season,\n\u001b[1;32m     30\u001b[0m         \u001b[39m'\u001b[39m\u001b[39mLeagueID\u001b[39m\u001b[39m'\u001b[39m: league_id,\n\u001b[1;32m     31\u001b[0m         \u001b[39m'\u001b[39m\u001b[39mSeason\u001b[39m\u001b[39m'\u001b[39m: season\n\u001b[1;32m     32\u001b[0m }\n\u001b[1;32m     33\u001b[0m \u001b[39mif\u001b[39;00m get_request:\n\u001b[0;32m---> 34\u001b[0m     \u001b[39mself\u001b[39;49m\u001b[39m.\u001b[39;49mget_request()\n",
      "File \u001b[0;32m/opt/anaconda3/envs/Sports_Analytics/lib/python3.10/site-packages/nba_api/stats/endpoints/commonallplayers.py:44\u001b[0m, in \u001b[0;36mCommonAllPlayers.get_request\u001b[0;34m(self)\u001b[0m\n\u001b[1;32m     36\u001b[0m \u001b[39mdef\u001b[39;00m \u001b[39mget_request\u001b[39m(\u001b[39mself\u001b[39m):\n\u001b[1;32m     37\u001b[0m     \u001b[39mself\u001b[39m\u001b[39m.\u001b[39mnba_response \u001b[39m=\u001b[39m NBAStatsHTTP()\u001b[39m.\u001b[39msend_api_request(\n\u001b[1;32m     38\u001b[0m         endpoint\u001b[39m=\u001b[39m\u001b[39mself\u001b[39m\u001b[39m.\u001b[39mendpoint,\n\u001b[1;32m     39\u001b[0m         parameters\u001b[39m=\u001b[39m\u001b[39mself\u001b[39m\u001b[39m.\u001b[39mparameters,\n\u001b[0;32m   (...)\u001b[0m\n\u001b[1;32m     42\u001b[0m         timeout\u001b[39m=\u001b[39m\u001b[39mself\u001b[39m\u001b[39m.\u001b[39mtimeout,\n\u001b[1;32m     43\u001b[0m     )\n\u001b[0;32m---> 44\u001b[0m     \u001b[39mself\u001b[39;49m\u001b[39m.\u001b[39;49mload_response()\n",
      "File \u001b[0;32m/opt/anaconda3/envs/Sports_Analytics/lib/python3.10/site-packages/nba_api/stats/endpoints/commonallplayers.py:47\u001b[0m, in \u001b[0;36mCommonAllPlayers.load_response\u001b[0;34m(self)\u001b[0m\n\u001b[1;32m     46\u001b[0m \u001b[39mdef\u001b[39;00m \u001b[39mload_response\u001b[39m(\u001b[39mself\u001b[39m):\n\u001b[0;32m---> 47\u001b[0m     data_sets \u001b[39m=\u001b[39m \u001b[39mself\u001b[39;49m\u001b[39m.\u001b[39;49mnba_response\u001b[39m.\u001b[39;49mget_data_sets()\n\u001b[1;32m     48\u001b[0m     \u001b[39mself\u001b[39m\u001b[39m.\u001b[39mdata_sets \u001b[39m=\u001b[39m [Endpoint\u001b[39m.\u001b[39mDataSet(data\u001b[39m=\u001b[39mdata_set) \u001b[39mfor\u001b[39;00m data_set_name, data_set \u001b[39min\u001b[39;00m data_sets\u001b[39m.\u001b[39mitems()]\n\u001b[1;32m     49\u001b[0m     \u001b[39mself\u001b[39m\u001b[39m.\u001b[39mcommon_all_players \u001b[39m=\u001b[39m Endpoint\u001b[39m.\u001b[39mDataSet(data\u001b[39m=\u001b[39mdata_sets[\u001b[39m'\u001b[39m\u001b[39mCommonAllPlayers\u001b[39m\u001b[39m'\u001b[39m])\n",
      "File \u001b[0;32m/opt/anaconda3/envs/Sports_Analytics/lib/python3.10/site-packages/nba_api/stats/library/http.py:83\u001b[0m, in \u001b[0;36mNBAStatsResponse.get_data_sets\u001b[0;34m(self)\u001b[0m\n\u001b[1;32m     82\u001b[0m \u001b[39mdef\u001b[39;00m \u001b[39mget_data_sets\u001b[39m(\u001b[39mself\u001b[39m):\n\u001b[0;32m---> 83\u001b[0m     raw_dict \u001b[39m=\u001b[39m \u001b[39mself\u001b[39;49m\u001b[39m.\u001b[39;49mget_dict()\n\u001b[1;32m     84\u001b[0m     \u001b[39mif\u001b[39;00m \u001b[39m'\u001b[39m\u001b[39mresultSets\u001b[39m\u001b[39m'\u001b[39m \u001b[39min\u001b[39;00m raw_dict:\n\u001b[1;32m     85\u001b[0m         results \u001b[39m=\u001b[39m raw_dict[\u001b[39m'\u001b[39m\u001b[39mresultSets\u001b[39m\u001b[39m'\u001b[39m]\n",
      "File \u001b[0;32m/opt/anaconda3/envs/Sports_Analytics/lib/python3.10/site-packages/nba_api/library/http.py:41\u001b[0m, in \u001b[0;36mNBAResponse.get_dict\u001b[0;34m(self)\u001b[0m\n\u001b[1;32m     40\u001b[0m \u001b[39mdef\u001b[39;00m \u001b[39mget_dict\u001b[39m(\u001b[39mself\u001b[39m):\n\u001b[0;32m---> 41\u001b[0m     \u001b[39mreturn\u001b[39;00m json\u001b[39m.\u001b[39;49mloads(\u001b[39mself\u001b[39;49m\u001b[39m.\u001b[39;49m_response)\n",
      "File \u001b[0;32m/opt/anaconda3/envs/Sports_Analytics/lib/python3.10/json/__init__.py:346\u001b[0m, in \u001b[0;36mloads\u001b[0;34m(s, cls, object_hook, parse_float, parse_int, parse_constant, object_pairs_hook, **kw)\u001b[0m\n\u001b[1;32m    341\u001b[0m     s \u001b[39m=\u001b[39m s\u001b[39m.\u001b[39mdecode(detect_encoding(s), \u001b[39m'\u001b[39m\u001b[39msurrogatepass\u001b[39m\u001b[39m'\u001b[39m)\n\u001b[1;32m    343\u001b[0m \u001b[39mif\u001b[39;00m (\u001b[39mcls\u001b[39m \u001b[39mis\u001b[39;00m \u001b[39mNone\u001b[39;00m \u001b[39mand\u001b[39;00m object_hook \u001b[39mis\u001b[39;00m \u001b[39mNone\u001b[39;00m \u001b[39mand\u001b[39;00m\n\u001b[1;32m    344\u001b[0m         parse_int \u001b[39mis\u001b[39;00m \u001b[39mNone\u001b[39;00m \u001b[39mand\u001b[39;00m parse_float \u001b[39mis\u001b[39;00m \u001b[39mNone\u001b[39;00m \u001b[39mand\u001b[39;00m\n\u001b[1;32m    345\u001b[0m         parse_constant \u001b[39mis\u001b[39;00m \u001b[39mNone\u001b[39;00m \u001b[39mand\u001b[39;00m object_pairs_hook \u001b[39mis\u001b[39;00m \u001b[39mNone\u001b[39;00m \u001b[39mand\u001b[39;00m \u001b[39mnot\u001b[39;00m kw):\n\u001b[0;32m--> 346\u001b[0m     \u001b[39mreturn\u001b[39;00m _default_decoder\u001b[39m.\u001b[39;49mdecode(s)\n\u001b[1;32m    347\u001b[0m \u001b[39mif\u001b[39;00m \u001b[39mcls\u001b[39m \u001b[39mis\u001b[39;00m \u001b[39mNone\u001b[39;00m:\n\u001b[1;32m    348\u001b[0m     \u001b[39mcls\u001b[39m \u001b[39m=\u001b[39m JSONDecoder\n",
      "File \u001b[0;32m/opt/anaconda3/envs/Sports_Analytics/lib/python3.10/json/decoder.py:337\u001b[0m, in \u001b[0;36mJSONDecoder.decode\u001b[0;34m(self, s, _w)\u001b[0m\n\u001b[1;32m    332\u001b[0m \u001b[39mdef\u001b[39;00m \u001b[39mdecode\u001b[39m(\u001b[39mself\u001b[39m, s, _w\u001b[39m=\u001b[39mWHITESPACE\u001b[39m.\u001b[39mmatch):\n\u001b[1;32m    333\u001b[0m     \u001b[39m\"\"\"Return the Python representation of ``s`` (a ``str`` instance\u001b[39;00m\n\u001b[1;32m    334\u001b[0m \u001b[39m    containing a JSON document).\u001b[39;00m\n\u001b[1;32m    335\u001b[0m \n\u001b[1;32m    336\u001b[0m \u001b[39m    \"\"\"\u001b[39;00m\n\u001b[0;32m--> 337\u001b[0m     obj, end \u001b[39m=\u001b[39m \u001b[39mself\u001b[39;49m\u001b[39m.\u001b[39;49mraw_decode(s, idx\u001b[39m=\u001b[39;49m_w(s, \u001b[39m0\u001b[39;49m)\u001b[39m.\u001b[39;49mend())\n\u001b[1;32m    338\u001b[0m     end \u001b[39m=\u001b[39m _w(s, end)\u001b[39m.\u001b[39mend()\n\u001b[1;32m    339\u001b[0m     \u001b[39mif\u001b[39;00m end \u001b[39m!=\u001b[39m \u001b[39mlen\u001b[39m(s):\n",
      "File \u001b[0;32m/opt/anaconda3/envs/Sports_Analytics/lib/python3.10/json/decoder.py:355\u001b[0m, in \u001b[0;36mJSONDecoder.raw_decode\u001b[0;34m(self, s, idx)\u001b[0m\n\u001b[1;32m    353\u001b[0m     obj, end \u001b[39m=\u001b[39m \u001b[39mself\u001b[39m\u001b[39m.\u001b[39mscan_once(s, idx)\n\u001b[1;32m    354\u001b[0m \u001b[39mexcept\u001b[39;00m \u001b[39mStopIteration\u001b[39;00m \u001b[39mas\u001b[39;00m err:\n\u001b[0;32m--> 355\u001b[0m     \u001b[39mraise\u001b[39;00m JSONDecodeError(\u001b[39m\"\u001b[39m\u001b[39mExpecting value\u001b[39m\u001b[39m\"\u001b[39m, s, err\u001b[39m.\u001b[39mvalue) \u001b[39mfrom\u001b[39;00m \u001b[39mNone\u001b[39m\n\u001b[1;32m    356\u001b[0m \u001b[39mreturn\u001b[39;00m obj, end\n",
      "\u001b[0;31mJSONDecodeError\u001b[0m: Expecting value: line 1 column 1 (char 0)"
     ]
    }
   ],
   "source": [
    "commonallplayers = commonallplayers.CommonAllPlayers(league_id=1610612742)"
   ]
  }
 ],
 "metadata": {
  "kernelspec": {
   "display_name": "Python 3.10.5 ('Sports_Analytics')",
   "language": "python",
   "name": "python3"
  },
  "language_info": {
   "codemirror_mode": {
    "name": "ipython",
    "version": 3
   },
   "file_extension": ".py",
   "mimetype": "text/x-python",
   "name": "python",
   "nbconvert_exporter": "python",
   "pygments_lexer": "ipython3",
   "version": "3.10.5"
  },
  "orig_nbformat": 4,
  "vscode": {
   "interpreter": {
    "hash": "61f2f28e9cfa18111d1937e324fc2e8a67433c3cdabde11501f5213e34fdadf9"
   }
  }
 },
 "nbformat": 4,
 "nbformat_minor": 2
}
