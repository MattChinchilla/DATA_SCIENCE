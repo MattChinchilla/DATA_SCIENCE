{
 "cells": [
  {
   "cell_type": "code",
   "execution_count": null,
   "metadata": {},
   "outputs": [],
   "source": [
    "import yfinance as yf\n",
    "import pandas as pd\n",
    "\n",
    "tickerStrings = ['AAPL', 'MSFT']\n",
    "\n",
    "#start = \n",
    "period = '2y'\n",
    "\n",
    "vars = tickerStrings,period\n"
   ]
  }
 ],
 "metadata": {
  "language_info": {
   "name": "python"
  },
  "orig_nbformat": 4
 },
 "nbformat": 4,
 "nbformat_minor": 2
}
