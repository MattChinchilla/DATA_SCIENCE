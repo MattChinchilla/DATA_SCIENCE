{
 "cells": [
  {
   "cell_type": "code",
   "execution_count": 12,
   "metadata": {},
   "outputs": [],
   "source": [
    "%run prophet_funcs_v2.py\n",
    "#initialization script creates functions and adds libraries to environment"
   ]
  },
  {
   "cell_type": "markdown",
   "metadata": {},
   "source": [
    "# Download Financial data from Yahoo Finance\n",
    "The following code has two inputs that must be set to retrieve data from Yahoo Finance API, 'tickerStrings' and 'period'. The function 'FetchData_dict' retrieves the ticker data for the specified period and adds them to a data dictionary called 'df_dict'. \n",
    "\n",
    "The retrieved data consists of the following:\n",
    "* **Date**\n",
    "* **High**\n",
    "* **Low**\n",
    "* **Close**\n",
    "* **Adj Close**\n",
    "* **Volume**\n",
    "\n",
    "note: yFinace is the primary library used to call the Yahoo Finance API."
   ]
  },
  {
   "cell_type": "code",
   "execution_count": 15,
   "metadata": {},
   "outputs": [
    {
     "name": "stdout",
     "output_type": "stream",
     "text": [
      "[*********************100%***********************]  1 of 1 completed\n",
      "[*********************100%***********************]  1 of 1 completed\n",
      "[*********************100%***********************]  1 of 1 completed\n",
      "[*********************100%***********************]  1 of 1 completed\n",
      "[*********************100%***********************]  1 of 1 completed\n",
      "Data for the following tickers was downloaded from yahoo finance:['SOL1-USD', 'BTC-USD', 'ETH-USD', '1INCH-USD', 'ADA-USD']\n"
     ]
    }
   ],
   "source": [
    "'''Download Financial Data from Yahoo Finance'''\n",
    "\n",
    "tickerStrings = ['SOL1-USD','BTC-USD','ETH-USD','1INCH-USD','ADA-USD']\n",
    "\n",
    "#Valid periods: 1d,5d,1mo,3mo,6mo,1y,2y,5y,10y,ytd,max\n",
    "period = '3mo'\n",
    "\n",
    "vars = tickerStrings,period\n",
    "\n",
    "#FetchData: This function takes the input vars and uses the yfinance package to download data from the yahoo finance website into a dataframe.\n",
    "df_dict = FetchData_dict(vars)\n",
    "tickers = list(df_dict)\n",
    "print(('Data for the following tickers was downloaded from yahoo finance:'+str(tickers)))"
   ]
  },
  {
   "cell_type": "markdown",
   "metadata": {},
   "source": [
    "# Plotting individual tickers\n",
    "The following code uses ipython widgets to make it easy to view plots for each ticker that is downloaded. You can select the downloaded data you wish to view and choose the plot type you wish to see. There is also an option to include or remove the moving average for the plot and at what interval you wish to view the moving average. For plots such as Renko and PNF displaying the moving average may not be helpful."
   ]
  },
  {
   "cell_type": "code",
   "execution_count": 16,
   "metadata": {},
   "outputs": [
    {
     "data": {
      "application/vnd.jupyter.widget-view+json": {
       "model_id": "21dd40bb5e814b57a893e33a48cc90a7",
       "version_major": 2,
       "version_minor": 0
      },
      "text/plain": [
       "interactive(children=(Dropdown(description='Tickers', options=('SOL1-USD', 'BTC-USD', 'ETH-USD', '1INCH-USD', …"
      ]
     },
     "metadata": {},
     "output_type": "display_data"
    }
   ],
   "source": [
    "import ipywidgets as ipyw\n",
    "import mplfinance as mpf\n",
    "\n",
    "@ipyw.interact(\n",
    "Mavg = ipyw.widgets.Dropdown(options=[('5Day', 5), ('10Day', 10), ('30Day', 30)],description='Moving_Average:'),\n",
    "MA = True,\n",
    "Tickers = tickers,\n",
    "Plot_Type = ['ohlc','line','hollow_and_filled','renko','pnf']\n",
    ")\n",
    "\n",
    "def PlotIt(Tickers,Plot_Type,MA,Mavg):\n",
    "    if MA == True:\n",
    "      Mavg\n",
    "      mpf.plot(df_dict[Tickers],type = Plot_Type,volume = True,mav = Mavg,figratio = (100,40),style = 'yahoo',title = (Tickers + ' Plot With Moving Average'))\n",
    "    else:\n",
    "      mpf.plot(df_dict[Tickers],type = Plot_Type,volume = True,figratio = (100,40),style = 'yahoo',title = Tickers);"
   ]
  }
 ],
 "metadata": {
  "interpreter": {
   "hash": "c09812699b111b979a2abee38c127f10a16723f5a92d70f3d4b17adfc28da477"
  },
  "kernelspec": {
   "display_name": "Python 3.8.12 64-bit ('TimeSeries': conda)",
   "name": "python3"
  },
  "language_info": {
   "codemirror_mode": {
    "name": "ipython",
    "version": 3
   },
   "file_extension": ".py",
   "mimetype": "text/x-python",
   "name": "python",
   "nbconvert_exporter": "python",
   "pygments_lexer": "ipython3",
   "version": "3.8.12"
  },
  "orig_nbformat": 4
 },
 "nbformat": 4,
 "nbformat_minor": 2
}
